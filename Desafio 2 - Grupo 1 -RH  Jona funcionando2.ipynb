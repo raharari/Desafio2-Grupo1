{
 "cells": [
  {
   "cell_type": "markdown",
   "metadata": {},
   "source": [
    "## Importamos las librerias necesarias"
   ]
  },
  {
   "cell_type": "code",
   "execution_count": 2,
   "metadata": {},
   "outputs": [],
   "source": [
    "#Importamos pandas, numpy\n",
    "import numpy as np\n",
    "import pandas as pd"
   ]
  },
  {
   "cell_type": "markdown",
   "metadata": {},
   "source": [
    "## Importamos el dataset limpio para cargarlo en un dataframe"
   ]
  },
  {
   "cell_type": "code",
   "execution_count": 3,
   "metadata": {},
   "outputs": [],
   "source": [
    "#Guardamos el path del archivo en una variable para despues cargarlo en un df\n",
    "\n",
    "file = 'C:/Users/Ramiro/Desktop/Digital House/Desafios/Desafio 2/dataset limpio.csv'\n",
    "\n",
    "# Creamos un DataFrame con la info del csv\n",
    "df = pd.read_csv(file)"
   ]
  },
  {
   "cell_type": "markdown",
   "metadata": {},
   "source": [
    "### Dejamos solo las columnas necesarias"
   ]
  },
  {
   "cell_type": "code",
   "execution_count": 4,
   "metadata": {},
   "outputs": [],
   "source": [
    "df = df[['Tipo_Propiedad', 'Barrio','Provincia', 'Precio', 'Precio_ARS', 'Precio_Dolares', 'Metros_Totales',\n",
    "       'Metros_Cubiertos', 'Precio_m2_Dls', 'Precio_m2', 'Cantidad_Ambientes']]"
   ]
  },
  {
   "cell_type": "code",
   "execution_count": 5,
   "metadata": {},
   "outputs": [
    {
     "name": "stdout",
     "output_type": "stream",
     "text": [
      "<class 'pandas.core.frame.DataFrame'>\n",
      "RangeIndex: 121220 entries, 0 to 121219\n",
      "Data columns (total 11 columns):\n",
      "Tipo_Propiedad        121220 non-null object\n",
      "Barrio                121197 non-null object\n",
      "Provincia             121220 non-null object\n",
      "Precio                100810 non-null float64\n",
      "Precio_ARS            97850 non-null float64\n",
      "Precio_Dolares        97389 non-null float64\n",
      "Metros_Totales        108336 non-null float64\n",
      "Metros_Cubiertos      108865 non-null float64\n",
      "Precio_m2_Dls         67754 non-null float64\n",
      "Precio_m2             87371 non-null float64\n",
      "Cantidad_Ambientes    86078 non-null float64\n",
      "dtypes: float64(8), object(3)\n",
      "memory usage: 10.2+ MB\n"
     ]
    }
   ],
   "source": [
    "df.info()"
   ]
  },
  {
   "cell_type": "markdown",
   "metadata": {},
   "source": [
    "### Antes de eliminar observaciones, deberiamos chequear la distribucion por Provincias para asegurarnos que no nos queden zonas sin observaciones"
   ]
  },
  {
   "cell_type": "code",
   "execution_count": 6,
   "metadata": {
    "scrolled": false
   },
   "outputs": [
    {
     "data": {
      "text/plain": [
       "Capital Federal                 32316\n",
       "Bs.As. G.B.A. Zona Norte        25560\n",
       "Bs.As. G.B.A. Zona Sur          13952\n",
       "Córdoba                         12069\n",
       "Santa Fe                        10172\n",
       "Buenos Aires Costa Atlántica    10006\n",
       "Bs.As. G.B.A. Zona Oeste         9322\n",
       "Buenos Aires Interior            2291\n",
       "Río Negro                         808\n",
       "Neuquén                           733\n",
       "Mendoza                           681\n",
       "Tucumán                           674\n",
       "Corrientes                        583\n",
       "Misiones                          464\n",
       "Entre Ríos                        369\n",
       "Salta                             278\n",
       "Chubut                            259\n",
       "San Luis                          252\n",
       "La Pampa                          157\n",
       "Formosa                            65\n",
       "Chaco                              57\n",
       "San Juan                           40\n",
       "Tierra Del Fuego                   31\n",
       "Catamarca                          27\n",
       "Jujuy                              26\n",
       "Santa Cruz                         20\n",
       "Santiago Del Estero                 4\n",
       "La Rioja                            4\n",
       "Name: Provincia, dtype: int64"
      ]
     },
     "execution_count": 6,
     "metadata": {},
     "output_type": "execute_result"
    }
   ],
   "source": [
    "df['Provincia'].value_counts()"
   ]
  },
  {
   "cell_type": "markdown",
   "metadata": {},
   "source": [
    "Vemos que en el dataset original existen provincias con muy pocas observaciones. Esto generara que el modelo no pueda predecir correctamente, o del todo, esas provincias."
   ]
  },
  {
   "cell_type": "markdown",
   "metadata": {},
   "source": [
    "### Nos quedamos solo con las observaciones que no tienen valores nulos"
   ]
  },
  {
   "cell_type": "markdown",
   "metadata": {},
   "source": [
    "Prodiamos intentar predecir cualquiera de las variables de precio (en dolares o pesos). Para evaluar que tan bien performan los modelos, vamos a intentar predecir tanto el Precio total en pesos (Precio_ARS) y el Precio por metro cuadrado en pesos (Precio_m2)"
   ]
  },
  {
   "cell_type": "code",
   "execution_count": 5,
   "metadata": {},
   "outputs": [],
   "source": [
    "df_precio = df.drop(['Precio', 'Precio_Dolares','Precio_m2_Dls', 'Precio_m2'], axis = 1)\n",
    "\n",
    "df_m2 = df.drop(['Precio', 'Precio_Dolares','Precio_m2_Dls', 'Precio_ARS'], axis = 1)"
   ]
  },
  {
   "cell_type": "code",
   "execution_count": 6,
   "metadata": {},
   "outputs": [],
   "source": [
    "df_precio = df_precio.dropna(axis =0 , how = 'any')\n",
    "df_m2 = df_m2.dropna(axis =0 , how = 'any')"
   ]
  },
  {
   "cell_type": "code",
   "execution_count": 9,
   "metadata": {},
   "outputs": [
    {
     "data": {
      "text/plain": [
       "Capital Federal                 21400\n",
       "Bs.As. G.B.A. Zona Norte        15078\n",
       "Buenos Aires Costa Atlántica     7242\n",
       "Bs.As. G.B.A. Zona Sur           6450\n",
       "Bs.As. G.B.A. Zona Oeste         5315\n",
       "Córdoba                          4606\n",
       "Santa Fe                         2874\n",
       "Buenos Aires Interior            1098\n",
       "Corrientes                        308\n",
       "Mendoza                           288\n",
       "Río Negro                         257\n",
       "Neuquén                           223\n",
       "Misiones                          216\n",
       "Tucumán                           103\n",
       "Chubut                             97\n",
       "San Luis                           79\n",
       "Entre Ríos                         58\n",
       "Salta                              57\n",
       "Tierra Del Fuego                   24\n",
       "Chaco                              16\n",
       "Santa Cruz                         10\n",
       "La Pampa                            9\n",
       "Jujuy                               6\n",
       "Catamarca                           4\n",
       "San Juan                            3\n",
       "La Rioja                            2\n",
       "Santiago Del Estero                 1\n",
       "Formosa                             1\n",
       "Name: Provincia, dtype: int64"
      ]
     },
     "execution_count": 9,
     "metadata": {},
     "output_type": "execute_result"
    }
   ],
   "source": [
    "#Dataset Precio total\n",
    "df_precio['Provincia'].value_counts()"
   ]
  },
  {
   "cell_type": "code",
   "execution_count": 10,
   "metadata": {},
   "outputs": [
    {
     "data": {
      "text/plain": [
       "Capital Federal                 21418\n",
       "Bs.As. G.B.A. Zona Norte        15065\n",
       "Buenos Aires Costa Atlántica     6208\n",
       "Bs.As. G.B.A. Zona Sur           6086\n",
       "Bs.As. G.B.A. Zona Oeste         5094\n",
       "Córdoba                          4428\n",
       "Santa Fe                         2711\n",
       "Buenos Aires Interior            1042\n",
       "Corrientes                        288\n",
       "Mendoza                           285\n",
       "Neuquén                           209\n",
       "Río Negro                         176\n",
       "Misiones                          165\n",
       "San Luis                           76\n",
       "Tucumán                            65\n",
       "Salta                              53\n",
       "Entre Ríos                         53\n",
       "Chubut                             32\n",
       "Tierra Del Fuego                   24\n",
       "Chaco                              15\n",
       "La Pampa                            9\n",
       "Catamarca                           7\n",
       "Santa Cruz                          7\n",
       "Jujuy                               4\n",
       "San Juan                            3\n",
       "La Rioja                            2\n",
       "Santiago Del Estero                 1\n",
       "Name: Provincia, dtype: int64"
      ]
     },
     "execution_count": 10,
     "metadata": {},
     "output_type": "execute_result"
    }
   ],
   "source": [
    "#Dataset Precio m2\n",
    "df_m2['Provincia'].value_counts()"
   ]
  },
  {
   "cell_type": "markdown",
   "metadata": {},
   "source": [
    "Efectivamente, notamos que al momento de quedarnos solo con las observaciones con todos los valores completos, perdimos Provincias enteras como Formosa, Catamarca y Jujuy.\n",
    "Esto va a causar que al momento de querer realizar una prediccion sobre una propiedad de esa provincia, el modelo prediga incorrectamente.\n",
    "Entendemos que es un error a tener en cuenta. La forma de poder corregirlo seria agregar observaciones al dataset."
   ]
  },
  {
   "cell_type": "markdown",
   "metadata": {},
   "source": [
    "## Modelado\n",
    "\n",
    "Para comenzar el modelado, debemos transformar las variables categoricas en dummies, luego normalizaremos las variables para facilitar la corrida de los distintos modelos.\n",
    "Vamos a modelar primero tratando predecir el Precio total para todo el pais, y luego el precio por metro cuadrado.\n",
    "\n",
    "Finalmente, generaremos modelos mas acotados (a ciertas provincias o zonas) buscando una performance mejor de los modelos"
   ]
  },
  {
   "cell_type": "code",
   "execution_count": 7,
   "metadata": {},
   "outputs": [],
   "source": [
    "#Creamos variables dummies de las variables categoricas\n",
    "\n",
    "#Provincia\n",
    "df_precio = pd.concat([df_precio, pd.get_dummies(data = df_precio['Provincia'], prefix= 'prov')], axis = 1)\n",
    "df_m2 = pd.concat([df_m2, pd.get_dummies(data = df_m2['Provincia'], prefix= 'prov')], axis = 1)\n",
    "\n",
    "#Barrio\n",
    "df_precio = pd.concat([df_precio, pd.get_dummies(data = df_precio['Barrio'], prefix= 'barrio')], axis =1)\n",
    "df_m2 = pd.concat([df_m2, pd.get_dummies(data = df_m2['Barrio'], prefix= 'barrio')], axis = 1)\n",
    "\n",
    "#Tipo Propiedad\n",
    "df_precio = pd.concat([df_precio, pd.get_dummies(data = df_precio['Tipo_Propiedad'], prefix= 'tipo_prop')], axis =1)\n",
    "df_m2 = pd.concat([df_m2, pd.get_dummies(data = df_m2['Tipo_Propiedad'], prefix= 'tipo_prop')], axis = 1)"
   ]
  },
  {
   "cell_type": "code",
   "execution_count": 8,
   "metadata": {},
   "outputs": [],
   "source": [
    "#Dropeo de las columnas originales\n",
    "df_precio = df_precio.drop(['Provincia','Barrio','Tipo_Propiedad'], axis = 1)\n",
    "df_m2 = df_m2.drop(['Provincia','Barrio','Tipo_Propiedad'], axis = 1)"
   ]
  },
  {
   "cell_type": "markdown",
   "metadata": {},
   "source": [
    "#### Importamos todas las librerias necesarias para el modelado"
   ]
  },
  {
   "cell_type": "code",
   "execution_count": 9,
   "metadata": {},
   "outputs": [],
   "source": [
    "from sklearn import linear_model\n",
    "from sklearn.metrics import r2_score\n",
    "from sklearn.model_selection import train_test_split"
   ]
  },
  {
   "cell_type": "markdown",
   "metadata": {},
   "source": [
    "#### Armamos nuestro vector objetivo y nuestra matriz de features"
   ]
  },
  {
   "cell_type": "code",
   "execution_count": 10,
   "metadata": {},
   "outputs": [],
   "source": [
    "#Separamos nuestra matriz de features\n",
    "\n",
    "X = df_precio.drop(['Precio_ARS'], axis = 1)\n",
    "y = df_precio['Precio_ARS']"
   ]
  },
  {
   "cell_type": "markdown",
   "metadata": {},
   "source": [
    "#### Separamos los datos en sets de testeo y training"
   ]
  },
  {
   "cell_type": "code",
   "execution_count": 11,
   "metadata": {},
   "outputs": [],
   "source": [
    "#Separamos en train y test\n",
    "X_train, X_test, y_train, y_test = train_test_split(X, y, test_size=0.10, random_state=1)"
   ]
  },
  {
   "cell_type": "markdown",
   "metadata": {},
   "source": [
    "### Regresion Lineal"
   ]
  },
  {
   "cell_type": "code",
   "execution_count": 12,
   "metadata": {},
   "outputs": [
    {
     "name": "stdout",
     "output_type": "stream",
     "text": [
      "Score del Regresion Lineal: 0.568574891331734\n"
     ]
    }
   ],
   "source": [
    "#Instanciamos el modelo\n",
    "\n",
    "lm = linear_model.LinearRegression()\n",
    "\n",
    "#Entrenamos el modelo\n",
    "reg_lineal = lm.fit(X_train, y_train)\n",
    "\n",
    "#Guardamos el score del modelo en una variable para poder comparar\n",
    "R2_reg_lin_precio = reg_lineal.score(X_test, y_test)\n",
    "\n",
    "#Prediccion con el set de testeo\n",
    "\n",
    "print('Score de Regresion Lineal:', reg_lineal.score(X_test, y_test))"
   ]
  },
  {
   "cell_type": "markdown",
   "metadata": {},
   "source": [
    "#### Como predice el mismo modelo el precio por metro cuadrado?"
   ]
  },
  {
   "cell_type": "code",
   "execution_count": 16,
   "metadata": {},
   "outputs": [],
   "source": [
    "#Separamos nuestra matriz de features\n",
    "\n",
    "X_m2 = df_m2.drop(['Precio_m2'], axis = 1)\n",
    "y_m2 = df_m2['Precio_m2']"
   ]
  },
  {
   "cell_type": "code",
   "execution_count": 17,
   "metadata": {},
   "outputs": [],
   "source": [
    "#Separamos en train y test\n",
    "X_train_m2, X_test_m2, y_train_m2, y_test_m2 = train_test_split(X_m2, y_m2, test_size=0.10, random_state=15)"
   ]
  },
  {
   "cell_type": "code",
   "execution_count": 18,
   "metadata": {},
   "outputs": [
    {
     "name": "stdout",
     "output_type": "stream",
     "text": [
      "Score de Regresion Lineal: 0.22195752473918462\n"
     ]
    }
   ],
   "source": [
    "#Instanciamos el modelo\n",
    "\n",
    "lm_m2 = linear_model.LinearRegression()\n",
    "\n",
    "#Entrenamos el modelo\n",
    "reg_lineal_m2 = lm_m2.fit(X_train_m2, y_train_m2)\n",
    "\n",
    "#Guardamos el score del modelo en una variable para poder comparar\n",
    "R2_reg_lin_m2 = reg_lineal_m2.score(X_test_m2, y_test_m2)\n",
    "\n",
    "#Prediccion con el set de testeo\n",
    "\n",
    "print('Score de Regresion Lineal:', reg_lineal_m2.score(X_test_m2, y_test_m2))"
   ]
  },
  {
   "cell_type": "markdown",
   "metadata": {},
   "source": [
    "### Comparemos los resultados de los dos modelos"
   ]
  },
  {
   "cell_type": "code",
   "execution_count": 45,
   "metadata": {},
   "outputs": [
    {
     "name": "stdout",
     "output_type": "stream",
     "text": [
      "R2 Modelo Precio:  0.568574891331734\n",
      "Ordenada al origen Modelo Precio:  -412099.3669661698\n",
      "R2 Modelo Precio_m2:  0.22195752473918462\n",
      "Ordenada al origen Modelo Precio:  11808.73003027371\n"
     ]
    }
   ],
   "source": [
    "print('R2 Modelo Precio: ',R2_reg_lin_precio)\n",
    "print('Ordenada al origen Modelo Precio: ',reg_lineal.intercept_)\n",
    "print('R2 Modelo Precio_m2: ', R2_reg_lin_m2)\n",
    "print('Ordenada al origen Modelo m2: ',reg_lineal_m2.intercept_)"
   ]
  },
  {
   "cell_type": "code",
   "execution_count": 58,
   "metadata": {},
   "outputs": [],
   "source": [
    "#Creamos un diccionario con la informacion para luego amar un dataframe y comparar los modelos\n",
    "\n",
    "rl_argentina_precio = { 'Modelo': \"Regresion Lineal\",\n",
    "                        'Alcance del modelo': 'Nacional',\n",
    "                        'Variable Obejtivo': 'Precio_ARS',\n",
    "                        'R2': R2_reg_lin_precio,\n",
    "                        'Intercepto': reg_lineal.intercept_}\n",
    "\n",
    "rl_argentina_m2 = { 'Modelo': \"Regresion Lineal\",\n",
    "                    'Alcance del modelo': 'Nacional',\n",
    "                    'Variable Obejtivo': 'Precio_m2',\n",
    "                    'R2': R2_reg_lin_m2,\n",
    "                    'Intercepto': reg_lineal_m2.intercept_}"
   ]
  },
  {
   "cell_type": "markdown",
   "metadata": {},
   "source": [
    "# Xq la ordenada al origen da negativa??"
   ]
  },
  {
   "cell_type": "markdown",
   "metadata": {},
   "source": [
    "Vemos que el modelo performa mejor cuando intentamos predecir el precio total que el precio por metro cuadro.\n",
    "Veamoslo graficamente"
   ]
  },
  {
   "cell_type": "code",
   "execution_count": 31,
   "metadata": {},
   "outputs": [],
   "source": [
    "import plotly.plotly as py\n",
    "import plotly.graph_objs as go"
   ]
  },
  {
   "cell_type": "code",
   "execution_count": 32,
   "metadata": {},
   "outputs": [
    {
     "data": {
      "text/html": [
       "<iframe id=\"igraph\" scrolling=\"no\" style=\"border:none;\" seamless=\"seamless\" src=\"https://plot.ly/~raharari/2.embed\" height=\"525px\" width=\"100%\"></iframe>"
      ],
      "text/plain": [
       "<plotly.tools.PlotlyDisplay object>"
      ]
     },
     "execution_count": 32,
     "metadata": {},
     "output_type": "execute_result"
    }
   ],
   "source": [
    "data = [go.Bar(\n",
    "            x=['Precio_ARS', 'Precio_m2'],\n",
    "            y=[R2_reg_lin_precio,R2_reg_lin_m2]\n",
    "    )]\n",
    "\n",
    "py.iplot(data, filename='basic-bar')"
   ]
  },
  {
   "cell_type": "markdown",
   "metadata": {},
   "source": [
    "Vemos que hay una diferencia considerable entre el score del modelo que predice el precio total, que el que predice el precio por metro cuadrado. Tengamos en cuenta que en ninguno de los dos modelos incluimos la otra variable al momento de modelar, ya que entendemos que por ejemplo, el precio por metro cuadrado explicaria casi el total de la variabilidad del Precio Total de la propiedad"
   ]
  },
  {
   "cell_type": "markdown",
   "metadata": {},
   "source": [
    "El modelo de regresion lineal multiple es demasiado simple para poder obtener un insight lo suficientemente convincente, por lo cual vamos a aplicar dos modelos que incluyen tecnicas de regularizacion: Ridge y Lasso"
   ]
  },
  {
   "cell_type": "markdown",
   "metadata": {},
   "source": [
    "### Primero debemos normalizar las features.\n",
    "Las variables dummies no es necesario que sean normalizadas ya que son variables dicotomicas (0 o 1).\n",
    "\n",
    "Recordemos que nuestros sets de training y testeo quedaron definidos de la siguiente manera:\n",
    "\n",
    "`X_train, X_test, y_train, y_test`: Para el modelar el Precio_ARS\n",
    "\n",
    "`X_train_m2, X_test_m2, y_train_m2, y_test_m2`: Para modelar el Precio_m2"
   ]
  },
  {
   "cell_type": "code",
   "execution_count": 34,
   "metadata": {},
   "outputs": [],
   "source": [
    "#Importamos StandardScaler para normalizar las variables\n",
    "from sklearn.preprocessing import StandardScaler\n",
    "scaler_precio = StandardScaler()\n",
    "X_train = scaler_precio.fit_transform(X_train)"
   ]
  },
  {
   "cell_type": "code",
   "execution_count": 35,
   "metadata": {
    "scrolled": true
   },
   "outputs": [
    {
     "name": "stdout",
     "output_type": "stream",
     "text": [
      "media: -2.5427072006539488e-17\n",
      "desvio: 1.0000000000000002\n"
     ]
    }
   ],
   "source": [
    "print('media:',np.mean(X_train[:,1]))\n",
    "print('desvio:',np.std(X_train[:,1]))"
   ]
  },
  {
   "cell_type": "markdown",
   "metadata": {},
   "source": [
    "## Regresion Lineal Ridge"
   ]
  },
  {
   "cell_type": "code",
   "execution_count": 23,
   "metadata": {},
   "outputs": [
    {
     "name": "stdout",
     "output_type": "stream",
     "text": [
      "Score del modelo Ridge: 0.5693368190898047\n"
     ]
    }
   ],
   "source": [
    "#Instanciamos el modelo\n",
    "\n",
    "lm_ridge =  linear_model.RidgeCV(alphas=[0.1, 20, 100], cv=5)\n",
    "\n",
    "#Entrenamos el modelo\n",
    "reg_lineal_ridge = lm_ridge.fit(X_train, y_train)\n",
    "\n",
    "# Lo utilizamos para predecir en test\n",
    "X_test = scaler_precio.transform(X_test)\n",
    "\n",
    "#Guardamos el score en una variable\n",
    "score_ridge_precio = reg_lineal_ridge.score(X_test, y_test)\n",
    "\n",
    "#Prediccion con el set de testeo\n",
    "\n",
    "print('Score del modelo Ridge:', reg_lineal_ridge.score(X_test, y_test))"
   ]
  },
  {
   "cell_type": "markdown",
   "metadata": {},
   "source": [
    "#### Como predice el mismo modelo el precio por metro cuadrado?"
   ]
  },
  {
   "cell_type": "code",
   "execution_count": 24,
   "metadata": {},
   "outputs": [],
   "source": [
    "#Normalizamos las features\n",
    "\n",
    "scaler_m2 = StandardScaler()\n",
    "X_train_m2 = scaler_m2.fit_transform(X_train_m2)"
   ]
  },
  {
   "cell_type": "code",
   "execution_count": 26,
   "metadata": {},
   "outputs": [
    {
     "name": "stdout",
     "output_type": "stream",
     "text": [
      "media: -2.3861648901743697e-17\n",
      "desvio: 0.9999999999999999\n"
     ]
    }
   ],
   "source": [
    "print('media:',np.mean(X_train_m2[:,1]))\n",
    "print('desvio:',np.std(X_train_m2[:,1]))"
   ]
  },
  {
   "cell_type": "code",
   "execution_count": 27,
   "metadata": {},
   "outputs": [
    {
     "name": "stdout",
     "output_type": "stream",
     "text": [
      "Score del modelo Ridge: 0.22245239063011887\n"
     ]
    }
   ],
   "source": [
    "#Instanciamos el modelo\n",
    "lm_ridge_m2 =  linear_model.RidgeCV(alphas=[0.1, 20, 10], cv=5)\n",
    "\n",
    "#Entrenamos el modelo\n",
    "reg_lineal_ridge_m2 = lm_ridge_m2.fit(X_train_m2, y_train_m2)\n",
    "\n",
    "# Lo utilizamos para predecir en test\n",
    "X_test_m2 = scaler_m2.transform(X_test_m2)\n",
    "\n",
    "score_ridge_m2 = reg_lineal_ridge_m2.score(X_test_m2, y_test_m2)\n",
    "\n",
    "#Prediccion con el set de testeo\n",
    "print('Score del modelo Ridge:', reg_lineal_ridge_m2.score(X_test_m2, y_test_m2))"
   ]
  },
  {
   "cell_type": "markdown",
   "metadata": {},
   "source": [
    "### Comparemos los resultados de los dos modelos"
   ]
  },
  {
   "cell_type": "code",
   "execution_count": 42,
   "metadata": {},
   "outputs": [
    {
     "name": "stdout",
     "output_type": "stream",
     "text": [
      "Score Ridge Precio:  0.5693368190898047\n",
      "Alpha Ridge Precio:  20\n",
      "Ordenada al origen Precio:  3471870.1225360385\n",
      "Score Ridge m2:  0.22245239063011887\n",
      "Alpha Ridge m2:  20\n",
      "Ordenada al origen m2:  5665.297687313675\n"
     ]
    }
   ],
   "source": [
    "print('Score Ridge Precio: ', score_ridge_precio)\n",
    "print('Alpha Ridge Precio: ', reg_lineal_ridge.alpha_)\n",
    "print('Ordenada al origen Precio: ', reg_lineal_ridge.intercept_)\n",
    "print('Score Ridge m2: ', score_ridge_m2)\n",
    "print('Alpha Ridge m2: ', reg_lineal_ridge_m2.alpha_)\n",
    "print('Ordenada al origen m2: ', reg_lineal_ridge_m2.intercept_)"
   ]
  },
  {
   "cell_type": "code",
   "execution_count": 59,
   "metadata": {},
   "outputs": [],
   "source": [
    "#Creamos un diccionario para luego mostrar los datos en un dataframe\n",
    "\n",
    "ridge_argentina_precio = {'Modelo': \"Regresion Lineal Ridge\",\n",
    "                          'Alcance del modelo': 'Nacional',\n",
    "                          'Variable Obejtivo': 'Precio_ARS',\n",
    "                          'R2': score_ridge_precio,\n",
    "                          'Intercepto': reg_lineal_ridge.intercept_,\n",
    "                          'Alpha del modelo': reg_lineal_ridge.alpha_}\n",
    "\n",
    "ridge_argentina_m2 = { 'Modelo': \"Regresion Lineal Ridge\",\n",
    "                       'Alcance del modelo': 'Nacional',                      \n",
    "                       'Variable Obejtivo': 'Precio_m2',\n",
    "                       'R2': score_ridge_m2,\n",
    "                       'Intercepto': reg_lineal_ridge_m2.intercept_,\n",
    "                       'Alpha del modelo': reg_lineal_ridge_m2.alpha_}"
   ]
  },
  {
   "cell_type": "markdown",
   "metadata": {},
   "source": [
    "# COMO NOS CONVIENE GRAFICAR ESTOS DATOS???"
   ]
  },
  {
   "cell_type": "markdown",
   "metadata": {},
   "source": [
    "## Regresion Lasso"
   ]
  },
  {
   "cell_type": "code",
   "execution_count": 51,
   "metadata": {},
   "outputs": [
    {
     "name": "stdout",
     "output_type": "stream",
     "text": [
      "Score del modelo Lasso: 0.571130490164745\n"
     ]
    }
   ],
   "source": [
    "#Instanciamos el modelo\n",
    "lm_lasso =  linear_model.LassoCV(alphas=[1000, 100000, 1000], cv = 5)\n",
    "\n",
    "#Entrenamos el modelo\n",
    "reg_lineal_lasso = lm_lasso.fit(X_train, y_train)\n",
    "\n",
    "#Guardamos el score\n",
    "score_lasso_precio = reg_lineal_lasso.score(X_test, y_test)\n",
    "\n",
    "print('Score del modelo Lasso:', reg_lineal_lasso.score(X_test, y_test))"
   ]
  },
  {
   "cell_type": "markdown",
   "metadata": {},
   "source": [
    "### Como funciona el modelo para el precio por metro cuadrado?"
   ]
  },
  {
   "cell_type": "code",
   "execution_count": 52,
   "metadata": {},
   "outputs": [
    {
     "name": "stdout",
     "output_type": "stream",
     "text": [
      "Score del modelo Lasso: 0.1321714542257224\n"
     ]
    }
   ],
   "source": [
    "#Instanciamos el modelo\n",
    "lm_lasso_m2 =  linear_model.LassoCV(alphas=[10000, 100000, 1000], cv = 5)\n",
    "\n",
    "#Entrenamos el modelo\n",
    "reg_lineal_lasso_m2 = lm_lasso_m2.fit(X_train_m2, y_train_m2)\n",
    "\n",
    "#Guardamos el score\n",
    "score_lasso_m2 = reg_lineal_lasso_m2.score(X_test_m2, y_test_m2)\n",
    "\n",
    "print('Score del modelo Lasso:', reg_lineal_lasso_m2.score(X_test_m2, y_test_m2))"
   ]
  },
  {
   "cell_type": "code",
   "execution_count": 53,
   "metadata": {},
   "outputs": [
    {
     "name": "stdout",
     "output_type": "stream",
     "text": [
      "Score Lasso Precio:  0.571130490164745\n",
      "Ordenada al origen Lasso Precio:  3471870.1225360385\n",
      "Alpha Lasso Precio:  1000\n",
      "Score Lasso m2:  0.1321714542257224\n",
      "Ordenada al origen Lasso Precio:  5665.297687313675\n",
      "Alpha Lasso m2:  1000\n"
     ]
    }
   ],
   "source": [
    "print('Score Lasso Precio: ', score_lasso_precio)\n",
    "print('Ordenada al origen Lasso Precio: ', reg_lineal_lasso.intercept_)\n",
    "print('Alpha Lasso Precio: ', reg_lineal_lasso.alpha_)\n",
    "print('Score Lasso m2: ', score_lasso_m2)\n",
    "print('Ordenada al origen Lasso m2: ', reg_lineal_lasso_m2.intercept_)\n",
    "print('Alpha Lasso m2: ', reg_lineal_lasso_m2.alpha_)"
   ]
  },
  {
   "cell_type": "code",
   "execution_count": 60,
   "metadata": {},
   "outputs": [],
   "source": [
    "#Creamos un diccionario para luego mostrar los datos en un dataframe\n",
    "\n",
    "lasso_argentina_precio = {'Modelo': \"Regresion Lineal Lasso\",\n",
    "                          'Alcance del modelo': 'Nacional',\n",
    "                          'Variable Obejtivo': 'Precio_ARS',\n",
    "                          'R2': score_lasso_precio,\n",
    "                          'Intercepto': reg_lineal_lasso.intercept_,\n",
    "                          'Alpha del modelo': reg_lineal_lasso.alpha_}\n",
    "\n",
    "lasso_argentina_m2 = { 'Modelo': \"Regresion Lineal Lasso\",\n",
    "                       'Alcance del modelo': 'Nacional',                      \n",
    "                       'Variable Obejtivo': 'Precio_m2',\n",
    "                       'R2': score_lasso_m2,\n",
    "                       'Intercepto': reg_lineal_lasso_m2.intercept_,\n",
    "                       'Alpha del modelo': reg_lineal_lasso_m2.alpha_}"
   ]
  },
  {
   "cell_type": "markdown",
   "metadata": {},
   "source": [
    "## Elastic Net"
   ]
  },
  {
   "cell_type": "code",
   "execution_count": 54,
   "metadata": {},
   "outputs": [
    {
     "name": "stdout",
     "output_type": "stream",
     "text": [
      "Score del modelo Elastic Net: 0.5717193307475611\n"
     ]
    }
   ],
   "source": [
    "#Instanciamos el modelo\n",
    "\n",
    "lm_elastic_net =  linear_model.ElasticNetCV(l1_ratio= [.1, .5, .7, .9, .95, .99, 1],cv = 5)\n",
    "\n",
    "#Entrenamos el modelo\n",
    "elastic_net = lm_elastic_net.fit(X_train, y_train)\n",
    "\n",
    "#Guardamos el score\n",
    "score_EN = elastic_net.score(X_test, y_test)\n",
    "\n",
    "#Prediccion con el set de testeo\n",
    "\n",
    "print('Score del modelo Elastic Net:', elastic_net.score(X_test, y_test))"
   ]
  },
  {
   "cell_type": "markdown",
   "metadata": {},
   "source": [
    "### Como funciona el modelo para el precio por metro cuadrado?"
   ]
  },
  {
   "cell_type": "code",
   "execution_count": 55,
   "metadata": {},
   "outputs": [
    {
     "name": "stdout",
     "output_type": "stream",
     "text": [
      "Score del modelo Elastic Net: 0.2248424985308768\n"
     ]
    }
   ],
   "source": [
    "#Instanciamos el modelo\n",
    "\n",
    "lm_elastic_net_m2 =  linear_model.ElasticNetCV(l1_ratio= [.1, .5, .7, .9, .95, .99, 1], alphas = [10, 100, 10],cv = 5)\n",
    "\n",
    "#Entrenamos el modelo\n",
    "elastic_net_m2 = lm_elastic_net_m2.fit(X_train_m2, y_train_m2)\n",
    "\n",
    "#Guardamos el score\n",
    "score_EN_m2 = elastic_net_m2.score(X_test_m2, y_test_m2)\n",
    "\n",
    "#Prediccion con el set de testeo\n",
    "\n",
    "print('Score del modelo Elastic Net:', elastic_net_m2.score(X_test_m2, y_test_m2))"
   ]
  },
  {
   "cell_type": "code",
   "execution_count": 33,
   "metadata": {},
   "outputs": [
    {
     "name": "stdout",
     "output_type": "stream",
     "text": [
      "Score Elastic Net Precio:  0.5717193307475611\n",
      "Alpha Elastic Net Precio:  2944.4070814546635\n",
      "l1_ratio Elastic Net Precio:  1.0\n",
      "Score Elastic Net m2:  0.2248424985308768\n",
      "Alpha Elastic Net m2:  10\n",
      "l1_ratio Elastic Net m2:  1.0\n"
     ]
    }
   ],
   "source": [
    "print('Score Elastic Net Precio: ', score_EN)\n",
    "print('Alpha Elastic Net Precio: ', elastic_net.alpha_)\n",
    "print('l1_ratio Elastic Net Precio: ', elastic_net.l1_ratio_)\n",
    "print('Score Elastic Net m2: ', score_EN_m2)\n",
    "print('Alpha Elastic Net m2: ', elastic_net_m2.alpha_)\n",
    "print('l1_ratio Elastic Net m2: ', elastic_net_m2.l1_ratio_)"
   ]
  },
  {
   "cell_type": "code",
   "execution_count": 62,
   "metadata": {},
   "outputs": [],
   "source": [
    "#Creamos un diccionario para luego mostrar los datos en un dataframe\n",
    "\n",
    "EN_argentina_precio = {'Modelo': \"Elastic Net\",\n",
    "                        'Alcance del modelo': 'Nacional',\n",
    "                        'Variable Obejtivo': 'Precio_ARS',\n",
    "                        'R2': score_EN,\n",
    "                        'Intercepto': elastic_net.intercept_,\n",
    "                        'Alpha del modelo': elastic_net.alpha_,\n",
    "                        'l1_ratio': elastic_net.l1_ratio_}\n",
    "\n",
    "EN_argentina_m2 = { 'Modelo': \"Elastic Net\",\n",
    "                    'Alcance del modelo': 'Nacional',                      \n",
    "                    'Variable Obejtivo': 'Precio_m2',\n",
    "                    'R2': score_EN_m2,\n",
    "                    'Intercepto': elastic_net_m2.intercept_,\n",
    "                    'Alpha del modelo': elastic_net_m2.alpha_,\n",
    "                    'l1_ratio': elastic_net_m2.l1_ratio_}"
   ]
  },
  {
   "cell_type": "markdown",
   "metadata": {},
   "source": [
    "# Modelo para Capital"
   ]
  },
  {
   "cell_type": "code",
   "execution_count": 65,
   "metadata": {},
   "outputs": [],
   "source": [
    "df_cap = df.loc[df['Provincia']=='Capital Federal']\n"
   ]
  },
  {
   "cell_type": "code",
   "execution_count": 66,
   "metadata": {},
   "outputs": [],
   "source": [
    "Cap_precio = df_cap.drop(['Precio', 'Precio_Dolares','Precio_m2_Dls', 'Precio_m2'], axis = 1)\n",
    "\n",
    "Cap_m2 = df_cap.drop(['Precio', 'Precio_Dolares','Precio_m2_Dls', 'Precio_ARS'], axis = 1)"
   ]
  },
  {
   "cell_type": "code",
   "execution_count": 67,
   "metadata": {},
   "outputs": [],
   "source": [
    "Cap_precio = Cap_precio.dropna(axis =0 , how = 'any')\n",
    "Cap_m2 = Cap_m2.dropna(axis =0 , how = 'any')"
   ]
  },
  {
   "cell_type": "code",
   "execution_count": 68,
   "metadata": {},
   "outputs": [],
   "source": [
    "#Creamos variables dummies de las variables categoricas\n",
    "\n",
    "#Barrio\n",
    "Cap_precio = pd.concat([Cap_precio, pd.get_dummies(data = Cap_precio['Barrio'], prefix= 'barrio')], axis =1)\n",
    "Cap_m2 = pd.concat([Cap_m2, pd.get_dummies(data = Cap_m2['Barrio'], prefix= 'barrio')], axis = 1)\n",
    "\n",
    "#Tipo Propiedad\n",
    "Cap_precio = pd.concat([Cap_precio, pd.get_dummies(data = Cap_precio['Tipo_Propiedad'], prefix= 'tipo_prop')], axis =1)\n",
    "Cap_m2 = pd.concat([Cap_m2, pd.get_dummies(data = Cap_m2['Tipo_Propiedad'], prefix= 'tipo_prop')], axis = 1)"
   ]
  },
  {
   "cell_type": "code",
   "execution_count": 69,
   "metadata": {},
   "outputs": [],
   "source": [
    "#Dropeo de las columnas originales\n",
    "Cap_precio = Cap_precio.drop(['Provincia','Barrio','Tipo_Propiedad'], axis = 1)\n",
    "Cap_m2 = Cap_m2.drop(['Provincia','Barrio','Tipo_Propiedad'], axis = 1)"
   ]
  },
  {
   "cell_type": "code",
   "execution_count": 71,
   "metadata": {},
   "outputs": [],
   "source": [
    "#Separamos nuestra matriz de features\n",
    "\n",
    "X_Cap = Cap_precio.drop(['Precio_ARS'], axis = 1)\n",
    "y_Cap = Cap_precio['Precio_ARS']"
   ]
  },
  {
   "cell_type": "markdown",
   "metadata": {},
   "source": [
    "#### Separamos los datos en sets de testeo y training"
   ]
  },
  {
   "cell_type": "code",
   "execution_count": 72,
   "metadata": {},
   "outputs": [],
   "source": [
    "#Separamos en train y test\n",
    "X_train, X_test, y_train, y_test = train_test_split(X_Cap, y_Cap, test_size=0.10, random_state=1)"
   ]
  },
  {
   "cell_type": "markdown",
   "metadata": {},
   "source": [
    "### Regresion Lineal"
   ]
  },
  {
   "cell_type": "code",
   "execution_count": 73,
   "metadata": {},
   "outputs": [
    {
     "name": "stdout",
     "output_type": "stream",
     "text": [
      "Score del Regresion Lineal: 0.5996776950274219\n"
     ]
    }
   ],
   "source": [
    "#Instanciamos el modelo\n",
    "\n",
    "lm_Cap = linear_model.LinearRegression()\n",
    "\n",
    "#Entrenamos el modelo\n",
    "reg_lineal_Cap = lm_Cap.fit(X_train, y_train)\n",
    "\n",
    "#Guardamos el score del modelo en una variable para poder comparar\n",
    "R2_reg_lin_precio_Cap = reg_lineal_Cap.score(X_test, y_test)\n",
    "\n",
    "#Prediccion con el set de testeo\n",
    "\n",
    "print('Score del Regresion Lineal:', reg_lineal_Cap.score(X_test, y_test))"
   ]
  },
  {
   "cell_type": "markdown",
   "metadata": {},
   "source": [
    "#### Como predice el mismo modelo el precio por metro cuadrado?"
   ]
  },
  {
   "cell_type": "code",
   "execution_count": 74,
   "metadata": {},
   "outputs": [],
   "source": [
    "#Separamos nuestra matriz de features\n",
    "\n",
    "X_Cap_m2 = Cap_m2.drop(['Precio_m2'], axis = 1)\n",
    "y_Cap_m2 = Cap_m2['Precio_m2']"
   ]
  },
  {
   "cell_type": "code",
   "execution_count": 75,
   "metadata": {},
   "outputs": [],
   "source": [
    "#Separamos en train y test\n",
    "X_train_cap_m2, X_test_cap_m2, y_train_cap_m2, y_test_cap_m2 = train_test_split(X_Cap_m2, y_Cap_m2, test_size=0.10, random_state=0)"
   ]
  },
  {
   "cell_type": "code",
   "execution_count": 80,
   "metadata": {},
   "outputs": [
    {
     "name": "stdout",
     "output_type": "stream",
     "text": [
      "Score del Regresion Lineal: 0.05973424789070447\n"
     ]
    }
   ],
   "source": [
    "#Instanciamos el modelo\n",
    "\n",
    "lm_Cap_m2 = linear_model.LinearRegression()\n",
    "\n",
    "#Entrenamos el modelo\n",
    "reg_lineal_Cap_m2 = lm_Cap_m2.fit(X_train_cap_m2, y_train_cap_m2)\n",
    "\n",
    "#Guardamos el score del modelo en una variable para poder comparar\n",
    "R2_reg_lin_Cap_m2 = reg_lineal_Cap_m2.score(X_test_cap_m2, y_test_cap_m2)\n",
    "\n",
    "#Prediccion con el set de testeo\n",
    "\n",
    "print('Score del Regresion Lineal:', reg_lineal_Cap_m2.score(X_test_cap_m2, y_test_cap_m2))"
   ]
  },
  {
   "cell_type": "code",
   "execution_count": 79,
   "metadata": {},
   "outputs": [],
   "source": [
    "#Creamos un diccionario con la informacion para luego amar un dataframe y comparar los modelos\n",
    "\n",
    "rl_capital_precio = { 'Modelo': \"Regresion Lineal\",\n",
    "                        'Alcance del modelo': 'Capital Federal',\n",
    "                        'Variable Obejtivo': 'Precio_ARS',\n",
    "                        'R2': R2_reg_lin_precio_Cap,\n",
    "                        'Intercepto': reg_lineal_Cap.intercept_}\n",
    "\n",
    "rl_capital_m2 = { 'Modelo': \"Regresion Lineal\",\n",
    "                    'Alcance del modelo': 'Capital Federal',\n",
    "                    'Variable Obejtivo': 'Precio_m2',\n",
    "                    'R2': R2_reg_lin_Cap_m2,\n",
    "                    'Intercepto': reg_lineal_Cap_m2.intercept_}"
   ]
  },
  {
   "cell_type": "markdown",
   "metadata": {},
   "source": [
    "## Regresion Lineal Ridge para Capital"
   ]
  },
  {
   "cell_type": "markdown",
   "metadata": {},
   "source": [
    "Recordemos que nuestros sets de training y testeo quedaron definidos de la siguiente manera:\n",
    "\n",
    "`X_train, X_test, y_train, y_test`: Para el modelar el Precio_ARS\n",
    "\n",
    "`X_train_cap_m2, X_test_cap_m2, y_train_cap_m2, y_test_cap_m2`: Para modelar el Precio_m2"
   ]
  },
  {
   "cell_type": "code",
   "execution_count": 84,
   "metadata": {},
   "outputs": [
    {
     "name": "stdout",
     "output_type": "stream",
     "text": [
      "media: 4.980439736636216e-17\n",
      "desvio: 1.0\n"
     ]
    }
   ],
   "source": [
    "#Normalizamos X_train\n",
    "scaler_precio_cap = StandardScaler()\n",
    "X_train = scaler_precio_cap.fit_transform(X_train)\n",
    "\n",
    "#Chequeamos la media y el desvio\n",
    "print('media:',np.mean(X_train[:,1]))\n",
    "print('desvio:',np.std(X_train[:,1]))"
   ]
  },
  {
   "cell_type": "code",
   "execution_count": 85,
   "metadata": {},
   "outputs": [
    {
     "name": "stdout",
     "output_type": "stream",
     "text": [
      "Score del modelo Ridge: 0.5996412292918982\n"
     ]
    }
   ],
   "source": [
    "#Instanciamos el modelo\n",
    "lm_ridge_cap_precio =  linear_model.RidgeCV(alphas=[0.1, 20, 100], cv=5)\n",
    "\n",
    "#Entrenamos el modelo\n",
    "reg_lineal_ridge_cap_precio = lm_ridge_cap_precio.fit(X_train, y_train)\n",
    "\n",
    "# Lo utilizamos para predecir en test\n",
    "X_test = scaler_precio_cap.transform(X_test)\n",
    "\n",
    "#Guardamos el score en una variable\n",
    "score_ridge_cap_precio = reg_lineal_ridge_cap_precio.score(X_test, y_test)\n",
    "\n",
    "#Prediccion con el set de testeo\n",
    "print('Score del modelo Ridge:', reg_lineal_ridge_cap_precio.score(X_test, y_test))"
   ]
  },
  {
   "cell_type": "markdown",
   "metadata": {},
   "source": [
    "#### Como predice el mismo modelo el precio por metro cuadrado?"
   ]
  },
  {
   "cell_type": "code",
   "execution_count": 86,
   "metadata": {},
   "outputs": [],
   "source": [
    "#Normalizamos las features\n",
    "\n",
    "scaler_cap_m2 = StandardScaler()\n",
    "X_train_cap_m2 = scaler_cap_m2.fit_transform(X_train_cap_m2)\n",
    "\n",
    "#Chequeamos la media y el desvio\n",
    "print('media:',np.mean(X_train_cap_m2[:,1]))\n",
    "print('desvio:',np.std(X_train_cap_m2[:,1]))"
   ]
  },
  {
   "cell_type": "code",
   "execution_count": 89,
   "metadata": {},
   "outputs": [
    {
     "name": "stdout",
     "output_type": "stream",
     "text": [
      "Score del modelo Ridge: -2.673209528035471\n"
     ]
    }
   ],
   "source": [
    "#Instanciamos el modelo\n",
    "lm_ridge_cap_m2 =  linear_model.RidgeCV(alphas=[0.1, 20, 10], cv=5)\n",
    "\n",
    "#Entrenamos el modelo\n",
    "reg_lineal_ridge_cap_m2 = lm_ridge_cap_m2.fit(X_train_cap_m2, y_train_cap_m2)\n",
    "\n",
    "# Lo utilizamos para predecir en test\n",
    "X_test_cap_m2 = scaler_cap_m2.transform(X_test_cap_m2)\n",
    "\n",
    "score_ridge_cap_m2 = reg_lineal_ridge_cap_m2.score(X_test_cap_m2, y_test_cap_m2)\n",
    "\n",
    "#Prediccion con el set de testeo\n",
    "print('Score del modelo Ridge:', reg_lineal_ridge_cap_m2.score(X_test_cap_m2, y_test_cap_m2))"
   ]
  },
  {
   "cell_type": "code",
   "execution_count": 51,
   "metadata": {},
   "outputs": [
    {
     "name": "stdout",
     "output_type": "stream",
     "text": [
      "Score Ridge Precio:  0.5996412292918984\n",
      "Alpha Ridge Precio:  20\n",
      "Score Ridge m2:  0.22313166695196207\n",
      "Alpha Ridge m2:  100\n"
     ]
    }
   ],
   "source": [
    "print('Score Ridge Precio: ', score_ridge_cap_precio)\n",
    "print('Alpha Ridge Precio: ', reg_lineal_ridge_cap_precio.alpha_)\n",
    "print('Score Ridge m2: ', score_ridge_cap_m2)\n",
    "print('Alpha Ridge m2: ', reg_lineal_ridge_cap_m2.alpha_)"
   ]
  },
  {
   "cell_type": "markdown",
   "metadata": {},
   "source": [
    "## Regresion Lasso para Capital"
   ]
  },
  {
   "cell_type": "code",
   "execution_count": 53,
   "metadata": {},
   "outputs": [
    {
     "name": "stdout",
     "output_type": "stream",
     "text": [
      "Score del modelo Lasso: 0.5997338550921824\n"
     ]
    }
   ],
   "source": [
    "#Instanciamos el modelo\n",
    "lm_lasso =  linear_model.LassoCV(alphas=[10000, 100000, 1000], cv = 5)\n",
    "\n",
    "#Entrenamos el modelo\n",
    "reg_lineal_lasso = lm_lasso.fit(X_train, y_train)\n",
    "\n",
    "#Guardamos el score\n",
    "score_lasso_precio = reg_lineal_lasso.score(X_test, y_test)\n",
    "\n",
    "print('Score del modelo Lasso:', reg_lineal_lasso.score(X_test, y_test))"
   ]
  },
  {
   "cell_type": "code",
   "execution_count": 54,
   "metadata": {},
   "outputs": [
    {
     "name": "stdout",
     "output_type": "stream",
     "text": [
      "Score del modelo Lasso: 0.1321714542257224\n"
     ]
    }
   ],
   "source": [
    "#Instanciamos el modelo\n",
    "lm_lasso_m2 =  linear_model.LassoCV(alphas=[10000, 100000, 1000], cv = 5)\n",
    "\n",
    "#Entrenamos el modelo\n",
    "reg_lineal_lasso_m2 = lm_lasso_m2.fit(X_train_m2, y_train_m2)\n",
    "\n",
    "#Guardamos el score\n",
    "score_lasso_m2 = reg_lineal_lasso_m2.score(X_test_m2, y_test_m2)\n",
    "\n",
    "print('Score del modelo Lasso:', reg_lineal_lasso_m2.score(X_test_m2, y_test_m2))"
   ]
  },
  {
   "cell_type": "code",
   "execution_count": 55,
   "metadata": {},
   "outputs": [
    {
     "name": "stdout",
     "output_type": "stream",
     "text": [
      "Score Lasso Precio:  0.5997338550921824\n",
      "Alpha Lasso Precio:  1000\n",
      "Score Lasso m2:  0.1321714542257224\n",
      "Alpha Lasso m2:  1000\n"
     ]
    }
   ],
   "source": [
    "print('Score Lasso Precio: ', score_lasso_precio)\n",
    "print('Alpha Lasso Precio: ', reg_lineal_lasso.alpha_)\n",
    "print('Score Lasso m2: ', score_lasso_m2)\n",
    "print('Alpha Lasso m2: ', reg_lineal_lasso_m2.alpha_)"
   ]
  },
  {
   "cell_type": "markdown",
   "metadata": {},
   "source": [
    "## Elastic Net para Capital"
   ]
  },
  {
   "cell_type": "code",
   "execution_count": 56,
   "metadata": {},
   "outputs": [
    {
     "name": "stdout",
     "output_type": "stream",
     "text": [
      "Score del modelo Elastic Net: 0.59977762825399\n"
     ]
    }
   ],
   "source": [
    "#Instanciamos el modelo\n",
    "\n",
    "lm_elastic_net =  linear_model.ElasticNetCV(l1_ratio= [.1, .5, .7, .9, .95, .99, 1],cv = 5)\n",
    "\n",
    "#Entrenamos el modelo\n",
    "elastic_net = lm_elastic_net.fit(X_train, y_train)\n",
    "\n",
    "#Guardamos el score\n",
    "score_EN = elastic_net.score(X_test, y_test)\n",
    "\n",
    "#Prediccion con el set de testeo\n",
    "\n",
    "print('Score del modelo Elastic Net:', elastic_net.score(X_test, y_test))"
   ]
  },
  {
   "cell_type": "code",
   "execution_count": 57,
   "metadata": {},
   "outputs": [
    {
     "name": "stdout",
     "output_type": "stream",
     "text": [
      "Score del modelo Elastic Net: 0.2248424985308768\n"
     ]
    }
   ],
   "source": [
    "#Instanciamos el modelo\n",
    "\n",
    "lm_elastic_net_m2 =  linear_model.ElasticNetCV(l1_ratio= [.1, .5, .7, .9, .95, .99, 1], alphas = [10, 100, 10],cv = 5)\n",
    "\n",
    "#Entrenamos el modelo\n",
    "elastic_net_m2 = lm_elastic_net_m2.fit(X_train_m2, y_train_m2)\n",
    "\n",
    "#Guardamos el score\n",
    "score_EN_m2 = elastic_net_m2.score(X_test_m2, y_test_m2)\n",
    "\n",
    "#Prediccion con el set de testeo\n",
    "\n",
    "print('Score del modelo Elastic Net:', elastic_net_m2.score(X_test_m2, y_test_m2))"
   ]
  },
  {
   "cell_type": "code",
   "execution_count": 58,
   "metadata": {},
   "outputs": [
    {
     "name": "stdout",
     "output_type": "stream",
     "text": [
      "Score Elastic Net Precio:  0.59977762825399\n",
      "Alpha Elastic Net Precio:  2377.3150733866887\n",
      "l1_ratio Elastic Net Precio:  1.0\n",
      "Score Elastic Net m2:  0.2248424985308768\n",
      "Alpha Elastic Net m2:  10\n",
      "l1_ratio Elastic Net m2:  1.0\n"
     ]
    }
   ],
   "source": [
    "print('Score Elastic Net Precio: ', score_EN)\n",
    "print('Alpha Elastic Net Precio: ', elastic_net.alpha_)\n",
    "print('l1_ratio Elastic Net Precio: ', elastic_net.l1_ratio_)\n",
    "print('Score Elastic Net m2: ', score_EN_m2)\n",
    "print('Alpha Elastic Net m2: ', elastic_net_m2.alpha_)\n",
    "print('l1_ratio Elastic Net m2: ', elastic_net_m2.l1_ratio_)"
   ]
  },
  {
   "cell_type": "code",
   "execution_count": null,
   "metadata": {},
   "outputs": [],
   "source": [
    "#Analizar estos valores, tiene sentido que de 1.0 el factor optimo? Alpha Elastic Net Precio = 2377 ??"
   ]
  },
  {
   "cell_type": "markdown",
   "metadata": {},
   "source": [
    "## Modelos para Zona Norte"
   ]
  },
  {
   "cell_type": "code",
   "execution_count": 59,
   "metadata": {},
   "outputs": [],
   "source": [
    "df_zona_norte = df.loc[df['Provincia']=='Bs.As. G.B.A. Zona Norte']\n",
    "\n",
    "zona_norte_precio = df_zona_norte.drop(['Precio', 'Precio_Dolares','Precio_m2_Dls', 'Precio_m2'], axis = 1)\n",
    "\n",
    "zona_norte_m2 = df_zona_norte.drop(['Precio', 'Precio_Dolares','Precio_m2_Dls', 'Precio_ARS'], axis = 1)\n",
    "\n",
    "zona_norte_precio = zona_norte_precio.dropna(axis =0 , how = 'any')\n",
    "zona_norte_m2 = zona_norte_m2.dropna(axis =0 , how = 'any')\n",
    "\n",
    "#Creamos variables dummies de las variables categoricas\n",
    "\n",
    "#Barrio\n",
    "zona_norte_precio = pd.concat([zona_norte_precio, pd.get_dummies(data = zona_norte_precio['Barrio'], prefix= 'barrio')], axis =1)\n",
    "zona_norte_m2 = pd.concat([zona_norte_m2, pd.get_dummies(data = zona_norte_m2['Barrio'], prefix= 'barrio')], axis = 1)\n",
    "\n",
    "#Tipo Propiedad\n",
    "zona_norte_precio = pd.concat([zona_norte_precio, pd.get_dummies(data = zona_norte_precio['Tipo_Propiedad'], prefix= 'tipo_prop')], axis =1)\n",
    "zona_norte_m2 = pd.concat([zona_norte_m2, pd.get_dummies(data = zona_norte_m2['Tipo_Propiedad'], prefix= 'tipo_prop')], axis = 1)\n",
    "\n",
    "#Dropeo de las columnas originales\n",
    "zona_norte_precio = zona_norte_precio.drop(['Provincia','Barrio','Tipo_Propiedad'], axis = 1)\n",
    "zona_norte_m2 = zona_norte_m2.drop(['Provincia','Barrio','Tipo_Propiedad'], axis = 1)\n",
    "\n",
    "#Separamos nuestra matriz de features\n",
    "\n",
    "X_zona_norte = zona_norte_precio.drop(['Precio_ARS'], axis = 1)\n",
    "y_zona_norte = zona_norte_precio['Precio_ARS']\n"
   ]
  },
  {
   "cell_type": "markdown",
   "metadata": {},
   "source": [
    "### Regresión Lineal para Zona Norte"
   ]
  },
  {
   "cell_type": "code",
   "execution_count": 60,
   "metadata": {},
   "outputs": [],
   "source": [
    "#Separamos en train y test\n",
    "X_train, X_test, y_train, y_test = train_test_split(X_zona_norte, y_zona_norte, test_size=0.10, random_state=1)"
   ]
  },
  {
   "cell_type": "code",
   "execution_count": 61,
   "metadata": {},
   "outputs": [
    {
     "name": "stdout",
     "output_type": "stream",
     "text": [
      "Score del Regresion Lineal: 0.6269661295824513\n"
     ]
    }
   ],
   "source": [
    "#Instanciamos el modelo\n",
    "\n",
    "lm_zona_norte = linear_model.LinearRegression()\n",
    "\n",
    "#Entrenamos el modelo\n",
    "reg_lineal_zona_norte = lm_zona_norte.fit(X_train, y_train)\n",
    "\n",
    "#Guardamos el score del modelo en una variable para poder comparar\n",
    "R2_reg_lin_precio_zona_norte = reg_lineal_zona_norte.score(X_test, y_test)\n",
    "\n",
    "#Prediccion con el set de testeo\n",
    "\n",
    "print('Score del Regresion Lineal:', reg_lineal_zona_norte.score(X_test, y_test))"
   ]
  },
  {
   "cell_type": "code",
   "execution_count": 62,
   "metadata": {},
   "outputs": [],
   "source": [
    "#Separamos nuestra matriz de features\n",
    "\n",
    "X_zona_norte_m2 = zona_norte_m2.drop(['Precio_m2'], axis = 1)\n",
    "y_zona_norte_m2 = zona_norte_m2['Precio_m2']\n",
    "\n",
    "#Separamos en train y test\n",
    "X_train_m2, X_test_m2, y_train_m2, y_test_m2 = train_test_split(X_zona_norte_m2, y_zona_norte_m2, test_size=0.10, random_state=0)"
   ]
  },
  {
   "cell_type": "code",
   "execution_count": 69,
   "metadata": {},
   "outputs": [
    {
     "name": "stdout",
     "output_type": "stream",
     "text": [
      "Score del Regresion Lineal: -8.706162793580805e+24\n"
     ]
    }
   ],
   "source": [
    "#Instanciamos el modelo\n",
    "\n",
    "lm_zona_norte_m2 = linear_model.LinearRegression()\n",
    "\n",
    "#Entrenamos el modelo\n",
    "reg_lineal_zona_norte_m2 = lm_zona_norte_m2.fit(X_train_m2, y_train_m2)\n",
    "\n",
    "#Guardamos el score del modelo en una variable para poder comparar\n",
    "R2_reg_lin_zona_norte_m2 = reg_lineal_zona_norte_m2.score(X_test_m2, y_test_m2)\n",
    "\n",
    "#Prediccion con el set de testeo\n",
    "\n",
    "print('Score del Regresion Lineal:', reg_lineal_zona_norte_m2.score(X_test_m2, y_test_m2))"
   ]
  },
  {
   "cell_type": "code",
   "execution_count": null,
   "metadata": {},
   "outputs": [],
   "source": [
    "#algo dió mal ahi en el score de zona norte m2.Chequear el codigo si no copie mal o correrlo de vuelta de cero."
   ]
  },
  {
   "cell_type": "markdown",
   "metadata": {},
   "source": [
    "### Regresión Ridge para Zona Norte"
   ]
  },
  {
   "cell_type": "code",
   "execution_count": 64,
   "metadata": {},
   "outputs": [
    {
     "name": "stdout",
     "output_type": "stream",
     "text": [
      "Score del modelo Ridge: 0.6278825223874769\n"
     ]
    }
   ],
   "source": [
    "#normalizamos X_train\n",
    "\n",
    "X_train = scaler_precio.fit_transform(X_train)\n",
    "\n",
    "#Instanciamos el modelo\n",
    "\n",
    "lm_ridge =  linear_model.RidgeCV(alphas=[0.1, 20, 100], cv=5)\n",
    "\n",
    "#Entrenamos el modelo\n",
    "reg_lineal_ridge = lm_ridge.fit(X_train, y_train)\n",
    "\n",
    "# Lo utilizamos para predecir en test\n",
    "X_test = scaler_precio.transform(X_test)\n",
    "\n",
    "#Guardamos el score en una variable\n",
    "score_ridge_precio = reg_lineal_ridge.score(X_test, y_test)\n",
    "\n",
    "#Prediccion con el set de testeo\n",
    "\n",
    "print('Score del modelo Ridge:', reg_lineal_ridge.score(X_test, y_test))"
   ]
  },
  {
   "cell_type": "code",
   "execution_count": 70,
   "metadata": {},
   "outputs": [
    {
     "name": "stdout",
     "output_type": "stream",
     "text": [
      "Score del modelo Ridge: -301.69130206727834\n"
     ]
    }
   ],
   "source": [
    "#Normalizamos las features\n",
    "\n",
    "X_train_zona_m2 = scaler_m2.fit_transform(X_train_zona_norte_m2)\n",
    "\n",
    "#Instanciamos el modelo\n",
    "lm_ridge_m2 =  linear_model.RidgeCV(alphas=[0.1, 20, 100], cv=5)\n",
    "\n",
    "#Entrenamos el modelo\n",
    "reg_lineal_ridge_m2 = lm_ridge_m2.fit(X_train_zona_norte_m2, y_train_zona_norte_m2)\n",
    "\n",
    "# Lo utilizamos para predecir en test\n",
    "X_test_zona_norte_m2 = scaler_m2.transform(X_test_zona_norte_m2)\n",
    "\n",
    "score_ridge_m2 = reg_lineal_ridge_m2.score(X_test_zona_norte_m2, y_test_zona_norte_m2)\n",
    "\n",
    "#Prediccion con el set de testeo\n",
    "print('Score del modelo Ridge:', reg_lineal_ridge_m2.score(X_test_zona_norte_m2, y_test_zona_norte_m2))"
   ]
  },
  {
   "cell_type": "code",
   "execution_count": null,
   "metadata": {},
   "outputs": [],
   "source": []
  }
 ],
 "metadata": {
  "kernelspec": {
   "display_name": "Python 3",
   "language": "python",
   "name": "python3"
  },
  "language_info": {
   "codemirror_mode": {
    "name": "ipython",
    "version": 3
   },
   "file_extension": ".py",
   "mimetype": "text/x-python",
   "name": "python",
   "nbconvert_exporter": "python",
   "pygments_lexer": "ipython3",
   "version": "3.7.0"
  }
 },
 "nbformat": 4,
 "nbformat_minor": 2
}
