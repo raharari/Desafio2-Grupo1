{
 "cells": [
  {
   "cell_type": "markdown",
   "metadata": {},
   "source": [
    "## Importamos las librerias necesarias"
   ]
  },
  {
   "cell_type": "code",
   "execution_count": 12,
   "metadata": {},
   "outputs": [],
   "source": [
    "#Importamos pandas, numpy\n",
    "import numpy as np\n",
    "import pandas as pd"
   ]
  },
  {
   "cell_type": "markdown",
   "metadata": {},
   "source": [
    "## Importamos el dataset limpio para cargarlo en un dataframe"
   ]
  },
  {
   "cell_type": "code",
   "execution_count": 13,
   "metadata": {},
   "outputs": [],
   "source": [
    "#Guardamos el path del archivo en una variable para despues cargarlo en un df\n",
    "\n",
    "file = 'C:/Users/Ramiro/Desktop/Digital House/Desafios/Desafio 2/dataset limpio.csv'\n",
    "\n",
    "# Creamos un DataFrame con la info del csv\n",
    "df = pd.read_csv(file)"
   ]
  },
  {
   "cell_type": "markdown",
   "metadata": {},
   "source": [
    "### Dejamos solo las columnas necesarias"
   ]
  },
  {
   "cell_type": "code",
   "execution_count": 14,
   "metadata": {},
   "outputs": [],
   "source": [
    "df = df[['Tipo_Propiedad', 'Barrio','Provincia', 'Precio', 'Precio_ARS', 'Precio_Dolares', 'Metros_Totales',\n",
    "       'Metros_Cubiertos', 'Precio_m2_Dls', 'Precio_m2', 'Cantidad_Ambientes']]"
   ]
  },
  {
   "cell_type": "code",
   "execution_count": null,
   "metadata": {},
   "outputs": [],
   "source": [
    "df.info()"
   ]
  },
  {
   "cell_type": "markdown",
   "metadata": {},
   "source": [
    "### Antes de eliminar observaciones, deberiamos chequear la distribucion por Provincias para asegurarnos que no nos queden zonas sin observaciones"
   ]
  },
  {
   "cell_type": "code",
   "execution_count": null,
   "metadata": {
    "scrolled": false
   },
   "outputs": [],
   "source": [
    "df['Provincia'].value_counts()"
   ]
  },
  {
   "cell_type": "markdown",
   "metadata": {},
   "source": [
    "Vemos que en el dataset original existen provincias con muy pocas observaciones. Esto generara que el modelo no pueda predecir correctamente, o del todo, esas provincias."
   ]
  },
  {
   "cell_type": "markdown",
   "metadata": {},
   "source": [
    "### Nos quedamos solo con las observaciones que no tienen valores nulos"
   ]
  },
  {
   "cell_type": "markdown",
   "metadata": {},
   "source": [
    "Prodiamos intentar predecir cualquiera de las variables de precio (en dolares o pesos). Para evaluar que tan bien performan los modelos, vamos a intentar predecir tanto el Precio total en pesos (Precio_ARS) y el Precio por metro cuadrado en pesos (Precio_m2)"
   ]
  },
  {
   "cell_type": "code",
   "execution_count": 15,
   "metadata": {},
   "outputs": [],
   "source": [
    "df_precio = df.drop(['Precio', 'Precio_Dolares','Precio_m2_Dls', 'Precio_m2'], axis = 1)\n",
    "\n",
    "df_m2 = df.drop(['Precio', 'Precio_Dolares','Precio_m2_Dls', 'Precio_ARS'], axis = 1)"
   ]
  },
  {
   "cell_type": "code",
   "execution_count": 16,
   "metadata": {},
   "outputs": [],
   "source": [
    "df_precio = df_precio.dropna(axis =0 , how = 'any')\n",
    "df_m2 = df_m2.dropna(axis =0 , how = 'any')"
   ]
  },
  {
   "cell_type": "code",
   "execution_count": null,
   "metadata": {},
   "outputs": [],
   "source": [
    "#Dataset Precio total\n",
    "df_precio['Provincia'].value_counts()"
   ]
  },
  {
   "cell_type": "code",
   "execution_count": null,
   "metadata": {},
   "outputs": [],
   "source": [
    "#Dataset Precio m2\n",
    "df_m2['Provincia'].value_counts()"
   ]
  },
  {
   "cell_type": "markdown",
   "metadata": {},
   "source": [
    "Efectivamente, notamos que al momento de quedarnos solo con las observaciones con todos los valores completos, perdimos Provincias enteras como Formosa, Catamarca y Jujuy.\n",
    "Esto va a causar que al momento de querer realizar una prediccion sobre una propiedad de esa provincia, el modelo prediga incorrectamente.\n",
    "Entendemos que es un error a tener en cuenta. La forma de poder corregirlo seria agregar observaciones al dataset."
   ]
  },
  {
   "cell_type": "markdown",
   "metadata": {},
   "source": [
    "## Modelado\n",
    "\n",
    "Para comenzar el modelado, debemos transformar las variables categoricas en dummies, luego normalizaremos las variables para facilitar la corrida de los distintos modelos.\n",
    "Vamos a modelar primero tratando predecir el Precio total para todo el pais, y luego el precio por metro cuadrado.\n",
    "\n",
    "Finalmente, generaremos modelos mas acotados (a ciertas provincias o zonas) buscando una performance mejor de los modelos"
   ]
  },
  {
   "cell_type": "code",
   "execution_count": 17,
   "metadata": {},
   "outputs": [],
   "source": [
    "#Creamos variables dummies de las variables categoricas\n",
    "\n",
    "#Provincia\n",
    "df_precio = pd.concat([df_precio, pd.get_dummies(data = df_precio['Provincia'], prefix= 'prov')], axis = 1)\n",
    "df_m2 = pd.concat([df_m2, pd.get_dummies(data = df_m2['Provincia'], prefix= 'prov')], axis = 1)\n",
    "\n",
    "#Barrio\n",
    "df_precio = pd.concat([df_precio, pd.get_dummies(data = df_precio['Barrio'], prefix= 'barrio')], axis =1)\n",
    "df_m2 = pd.concat([df_m2, pd.get_dummies(data = df_m2['Barrio'], prefix= 'barrio')], axis = 1)\n",
    "\n",
    "#Tipo Propiedad\n",
    "df_precio = pd.concat([df_precio, pd.get_dummies(data = df_precio['Tipo_Propiedad'], prefix= 'tipo_prop')], axis =1)\n",
    "df_m2 = pd.concat([df_m2, pd.get_dummies(data = df_m2['Tipo_Propiedad'], prefix= 'tipo_prop')], axis = 1)"
   ]
  },
  {
   "cell_type": "code",
   "execution_count": 18,
   "metadata": {},
   "outputs": [],
   "source": [
    "#Dropeo de las columnas originales\n",
    "df_precio = df_precio.drop(['Provincia','Barrio','Tipo_Propiedad'], axis = 1)\n",
    "df_m2 = df_m2.drop(['Provincia','Barrio','Tipo_Propiedad'], axis = 1)"
   ]
  },
  {
   "cell_type": "markdown",
   "metadata": {},
   "source": [
    "#### Importamos todas las librerias necesarias para el modelado"
   ]
  },
  {
   "cell_type": "code",
   "execution_count": 19,
   "metadata": {},
   "outputs": [],
   "source": [
    "from sklearn import linear_model\n",
    "from sklearn.metrics import r2_score\n",
    "from sklearn.model_selection import train_test_split"
   ]
  },
  {
   "cell_type": "markdown",
   "metadata": {},
   "source": [
    "#### Armamos nuestro vector objetivo y nuestra matriz de features"
   ]
  },
  {
   "cell_type": "code",
   "execution_count": 20,
   "metadata": {},
   "outputs": [],
   "source": [
    "#Separamos nuestra matriz de features\n",
    "\n",
    "X = df_precio.drop(['Precio_ARS'], axis = 1)\n",
    "y = df_precio['Precio_ARS']"
   ]
  },
  {
   "cell_type": "markdown",
   "metadata": {},
   "source": [
    "#### Separamos los datos en sets de testeo y training"
   ]
  },
  {
   "cell_type": "code",
   "execution_count": 21,
   "metadata": {},
   "outputs": [],
   "source": [
    "#Separamos en train y test\n",
    "X_train, X_test, y_train, y_test = train_test_split(X, y, test_size=0.10, random_state=1)"
   ]
  },
  {
   "cell_type": "markdown",
   "metadata": {},
   "source": [
    "### Regresion Lineal"
   ]
  },
  {
   "cell_type": "code",
   "execution_count": 22,
   "metadata": {},
   "outputs": [
    {
     "name": "stdout",
     "output_type": "stream",
     "text": [
      "Score del Regresion Lineal: 0.568574891331734\n"
     ]
    }
   ],
   "source": [
    "#Instanciamos el modelo\n",
    "\n",
    "lm = linear_model.LinearRegression()\n",
    "\n",
    "#Entrenamos el modelo\n",
    "reg_lineal = lm.fit(X_train, y_train)\n",
    "\n",
    "#Guardamos el score del modelo en una variable para poder comparar\n",
    "R2_reg_lin_precio = reg_lineal.score(X_test, y_test)\n",
    "\n",
    "#Prediccion con el set de testeo\n",
    "\n",
    "print('Score del Regresion Lineal:', reg_lineal.score(X_test, y_test))"
   ]
  },
  {
   "cell_type": "markdown",
   "metadata": {},
   "source": [
    "#### Como predice el mismo modelo el precio por metro cuadrado?"
   ]
  },
  {
   "cell_type": "code",
   "execution_count": 29,
   "metadata": {},
   "outputs": [],
   "source": [
    "#Separamos nuestra matriz de features\n",
    "\n",
    "X_m2 = df_m2.drop(['Precio_m2'], axis = 1)\n",
    "y_m2 = df_m2['Precio_m2']"
   ]
  },
  {
   "cell_type": "code",
   "execution_count": 42,
   "metadata": {},
   "outputs": [],
   "source": [
    "#Separamos en train y test\n",
    "X_train_m2, X_test_m2, y_train_m2, y_test_m2 = train_test_split(X_m2, y_m2, test_size=0.10, random_state=15)"
   ]
  },
  {
   "cell_type": "code",
   "execution_count": 43,
   "metadata": {},
   "outputs": [
    {
     "name": "stdout",
     "output_type": "stream",
     "text": [
      "Score del Regresion Lineal: 0.22195752473918462\n"
     ]
    }
   ],
   "source": [
    "#Instanciamos el modelo\n",
    "\n",
    "lm_m2 = linear_model.LinearRegression()\n",
    "\n",
    "#Entrenamos el modelo\n",
    "reg_lineal_m2 = lm_m2.fit(X_train_m2, y_train_m2)\n",
    "\n",
    "#Guardamos el score del modelo en una variable para poder comparar\n",
    "R2_reg_lin_m2 = reg_lineal_m2.score(X_test_m2, y_test_m2)\n",
    "\n",
    "#Prediccion con el set de testeo\n",
    "\n",
    "print('Score del Regresion Lineal:', reg_lineal_m2.score(X_test_m2, y_test_m2))"
   ]
  },
  {
   "cell_type": "markdown",
   "metadata": {},
   "source": [
    "## Meter un grafico aca comparando los dos scores???"
   ]
  },
  {
   "cell_type": "code",
   "execution_count": 56,
   "metadata": {},
   "outputs": [
    {
     "name": "stdout",
     "output_type": "stream",
     "text": [
      "0.568574891331734 , 0.22195752473918462\n"
     ]
    }
   ],
   "source": [
    "print(R2_reg_lin_precio, ',',R2_reg_lin_m2)"
   ]
  },
  {
   "cell_type": "markdown",
   "metadata": {},
   "source": [
    "Vemos que hay una diferencia considerable entre el score del modelo que predice el precio total, que el que predice el precio por metro cuadrado. Tengamos en cuenta que en ninguno de los dos modelos incluimos la otra variable al momento de modelar, ya que entendemos que por ejemplo, el precio por metro cuadrado explicaria casi el total de la variabilidad del Precio Total de la propiedad"
   ]
  },
  {
   "cell_type": "markdown",
   "metadata": {},
   "source": [
    "El modelo de regresion lineal multiple es demasiado simple para poder obtener un insight lo suficientemente convincente, por lo cual vamos a aplicar dos modelos que incluyen tecnicas de regularizacion: Ridge y Lasso"
   ]
  },
  {
   "cell_type": "markdown",
   "metadata": {},
   "source": [
    "### Primero debemos normalizar las features.\n",
    "Las variables dummies no es necesario que sean normalizadas ya que son variables dicotomicas (0 o 1).\n",
    "\n",
    "Recordemos que nuestros sets de training y testeo quedaron definidos de la siguiente manera:\n",
    "\n",
    "`X_train, X_test, y_train, y_test`: Para el modelar el Precio_ARS\n",
    "\n",
    "`X_train_m2, X_test_m2, y_train_m2, y_test_m2`: Para modelar el Precio_m2"
   ]
  },
  {
   "cell_type": "code",
   "execution_count": 44,
   "metadata": {},
   "outputs": [],
   "source": [
    "#Importamos StandardScaler para normalizar las variables\n",
    "from sklearn.preprocessing import StandardScaler\n",
    "scaler_precio = StandardScaler()\n",
    "X_train = scaler_precio.fit_transform(X_train)"
   ]
  },
  {
   "cell_type": "code",
   "execution_count": 47,
   "metadata": {
    "scrolled": true
   },
   "outputs": [
    {
     "name": "stdout",
     "output_type": "stream",
     "text": [
      "media: -2.758597434671737e-17\n",
      "desvio: 0.9999999999999999\n"
     ]
    }
   ],
   "source": [
    "print('media:',np.mean(X_train[:,1]))\n",
    "print('desvio:',np.std(X_train[:,1]))"
   ]
  },
  {
   "cell_type": "markdown",
   "metadata": {},
   "source": [
    "# xq no da 0 y 1 exactamente???"
   ]
  },
  {
   "cell_type": "markdown",
   "metadata": {},
   "source": [
    "## Regresion Lineal Ridge"
   ]
  },
  {
   "cell_type": "code",
   "execution_count": 48,
   "metadata": {},
   "outputs": [
    {
     "name": "stdout",
     "output_type": "stream",
     "text": [
      "Score del modelo Ridge: 0.5693368190898047\n"
     ]
    }
   ],
   "source": [
    "#Instanciamos el modelo\n",
    "\n",
    "lm_ridge =  linear_model.RidgeCV(alphas=[0.1, 20, 100], cv=5)\n",
    "\n",
    "#Entrenamos el modelo\n",
    "reg_lineal_ridge = lm_ridge.fit(X_train, y_train)\n",
    "\n",
    "# Lo utilizamos para predecir en test\n",
    "X_test = scaler_precio.transform(X_test)\n",
    "\n",
    "#Guardamos el score en una variable\n",
    "score_ridge_precio = reg_lineal_ridge.score(X_test, y_test)\n",
    "\n",
    "#Prediccion con el set de testeo\n",
    "\n",
    "print('Score del modelo Ridge:', reg_lineal_ridge.score(X_test, y_test))"
   ]
  },
  {
   "cell_type": "markdown",
   "metadata": {},
   "source": [
    "#### Como predice el mismo modelo el precio por metro cuadrado?"
   ]
  },
  {
   "cell_type": "code",
   "execution_count": 50,
   "metadata": {},
   "outputs": [],
   "source": [
    "#Normalizamos las features\n",
    "\n",
    "scaler_m2 = StandardScaler()\n",
    "X_train_m2 = scaler_m2.fit_transform(X_train_m2)"
   ]
  },
  {
   "cell_type": "code",
   "execution_count": 51,
   "metadata": {},
   "outputs": [
    {
     "name": "stdout",
     "output_type": "stream",
     "text": [
      "media: -2.3861648901743697e-17\n",
      "desvio: 0.9999999999999999\n"
     ]
    }
   ],
   "source": [
    "print('media:',np.mean(X_train_m2[:,1]))\n",
    "print('desvio:',np.std(X_train_m2[:,1]))"
   ]
  },
  {
   "cell_type": "code",
   "execution_count": 60,
   "metadata": {},
   "outputs": [
    {
     "name": "stdout",
     "output_type": "stream",
     "text": [
      "Score del modelo Ridge: -5009344.4374822825\n"
     ]
    }
   ],
   "source": [
    "#Instanciamos el modelo\n",
    "lm_ridge_m2 =  linear_model.RidgeCV(alphas=[0.1, 20, 10], cv=5)\n",
    "\n",
    "#Entrenamos el modelo\n",
    "reg_lineal_ridge_m2 = lm_ridge_m2.fit(X_train_m2, y_train_m2)\n",
    "\n",
    "# Lo utilizamos para predecir en test\n",
    "X_test_m2 = scaler_m2.transform(X_test_m2)\n",
    "\n",
    "score_ridge_m2 = reg_lineal_ridge_m2.score(X_test_m2, y_test_m2)\n",
    "\n",
    "#Prediccion con el set de testeo\n",
    "print('Score del modelo Ridge:', reg_lineal_ridge_m2.score(X_test_m2, y_test_m2))"
   ]
  },
  {
   "cell_type": "code",
   "execution_count": 58,
   "metadata": {},
   "outputs": [
    {
     "name": "stdout",
     "output_type": "stream",
     "text": [
      "Score Ridge Precio:  0.5693368190898047\n",
      "Alpha Ridge Precio:  20\n",
      "Score Ridge Precio:  0.22245239063011887\n",
      "Alpha Ridge Precio:  20\n"
     ]
    }
   ],
   "source": [
    "print('Score Ridge Precio: ', score_ridge_precio)\n",
    "print('Alpha Ridge Precio: ', reg_lineal_ridge.alpha_)\n",
    "print('Score Ridge m2: ', score_ridge_m2)\n",
    "print('Alpha Ridge m2: ', reg_lineal_ridge_m2.alpha_)"
   ]
  },
  {
   "cell_type": "markdown",
   "metadata": {},
   "source": [
    "## Regresion Lasso"
   ]
  },
  {
   "cell_type": "code",
   "execution_count": 62,
   "metadata": {},
   "outputs": [
    {
     "name": "stdout",
     "output_type": "stream",
     "text": [
      "Score del modelo Lasso: 0.5711304901647452\n"
     ]
    }
   ],
   "source": [
    "#Instanciamos el modelo\n",
    "lm_lasso =  linear_model.LassoCV(alphas=[1000, 100000, 1000], cv = 5)\n",
    "\n",
    "#Entrenamos el modelo\n",
    "reg_lineal_lasso = lm_lasso.fit(X_train, y_train)\n",
    "\n",
    "#Guardamos el score\n",
    "score_lasso_precio = reg_lineal_lasso.score(X_test, y_test)\n",
    "\n",
    "print('Score del modelo Lasso:', reg_lineal_lasso.score(X_test, y_test))"
   ]
  },
  {
   "cell_type": "markdown",
   "metadata": {},
   "source": [
    "### Como funciona el modelo para el precio por metro cuadrado?"
   ]
  },
  {
   "cell_type": "code",
   "execution_count": 69,
   "metadata": {},
   "outputs": [
    {
     "name": "stdout",
     "output_type": "stream",
     "text": [
      "Score del modelo Lasso: -145.83933046587194\n"
     ]
    }
   ],
   "source": [
    "#Instanciamos el modelo\n",
    "lm_lasso_m2 =  linear_model.LassoCV(alphas=[10000, 100000, 1000], cv = 5)\n",
    "\n",
    "#Entrenamos el modelo\n",
    "reg_lineal_lasso_m2 = lm_lasso_m2.fit(X_train_m2, y_train_m2)\n",
    "\n",
    "#Guardamos el score\n",
    "score_lasso_m2 = reg_lineal_lasso_m2.score(X_test_m2, y_test_m2)\n",
    "\n",
    "print('Score del modelo Lasso:', reg_lineal_lasso_m2.score(X_test_m2, y_test_m2))"
   ]
  },
  {
   "cell_type": "code",
   "execution_count": null,
   "metadata": {},
   "outputs": [],
   "source": [
    "print('Score Lasso Precio: ', score_lasso_precio)\n",
    "print('Alpha Lasso Precio: ', reg_lineal_lasso.alpha_)\n",
    "print('Score Lasso m2: ', score_lasso_m2)\n",
    "print('Alpha Lasso m2: ', reg_lineal_lasso_m2.alpha_)"
   ]
  },
  {
   "cell_type": "markdown",
   "metadata": {},
   "source": [
    "## Elastic Net"
   ]
  },
  {
   "cell_type": "code",
   "execution_count": 71,
   "metadata": {},
   "outputs": [
    {
     "name": "stdout",
     "output_type": "stream",
     "text": [
      "Score del modelo Elastic Net: 0.5717193307475611\n"
     ]
    }
   ],
   "source": [
    "#Instanciamos el modelo\n",
    "\n",
    "lm_elastic_net =  linear_model.ElasticNetCV(l1_ratio= [.1, .5, .7, .9, .95, .99, 1],cv = 5)\n",
    "\n",
    "#Entrenamos el modelo\n",
    "elastic_net = lm_elastic_net.fit(X_train, y_train)\n",
    "\n",
    "#Guardamos el score\n",
    "score_EN = elastic_net.score(X_test, y_test)\n",
    "\n",
    "#Prediccion con el set de testeo\n",
    "\n",
    "print('Score del modelo Elastic Net:', elastic_net.score(X_test, y_test))"
   ]
  },
  {
   "cell_type": "markdown",
   "metadata": {},
   "source": [
    "### Como funciona el modelo para el precio por metro cuadrado?"
   ]
  },
  {
   "cell_type": "code",
   "execution_count": 74,
   "metadata": {},
   "outputs": [
    {
     "name": "stdout",
     "output_type": "stream",
     "text": [
      "Score del modelo Elastic Net: -3297167.2879575766\n"
     ]
    }
   ],
   "source": [
    "#Instanciamos el modelo\n",
    "\n",
    "lm_elastic_net_m2 =  linear_model.ElasticNetCV(l1_ratio= [.1, .5, .7, .9, .95, .99, 1], alphas = [10, 100, 10],cv = 5)\n",
    "\n",
    "#Entrenamos el modelo\n",
    "elastic_net_m2 = lm_elastic_net_m2.fit(X_train_m2, y_train_m2)\n",
    "\n",
    "#Guardamos el score\n",
    "score_EN_m2 = elastic_net_m2.score(X_test_m2, y_test_m2)\n",
    "\n",
    "#Prediccion con el set de testeo\n",
    "\n",
    "print('Score del modelo Elastic Net:', elastic_net_m2.score(X_test_m2, y_test_m2))"
   ]
  },
  {
   "cell_type": "code",
   "execution_count": null,
   "metadata": {},
   "outputs": [],
   "source": [
    "print('Score Elastic Net Precio: ', score_EN)\n",
    "print('Alpha Elastic Net Precio: ', elastic_net.alpha_)\n",
    "print('l1_ratio Elastic Net Precio: ', elastic_net.l1_ratio_)\n",
    "print('Score Elastic Net m2: ', score_EN_m2)\n",
    "print('Alpha Elastic Net m2: ', elastic_net_m2.alpha_)\n",
    "print('l1_ratio Elastic Net m2: ', elastic_net_m2.l1_ratio_)"
   ]
  },
  {
   "cell_type": "markdown",
   "metadata": {},
   "source": [
    "# Modelo para Capital"
   ]
  },
  {
   "cell_type": "code",
   "execution_count": 77,
   "metadata": {},
   "outputs": [],
   "source": [
    "df_cap = df.loc[df['Provincia']=='Capital Federal']\n"
   ]
  },
  {
   "cell_type": "code",
   "execution_count": 78,
   "metadata": {},
   "outputs": [],
   "source": [
    "Cap_precio = df_cap.drop(['Precio', 'Precio_Dolares','Precio_m2_Dls', 'Precio_m2'], axis = 1)\n",
    "\n",
    "Cap_m2 = df_cap.drop(['Precio', 'Precio_Dolares','Precio_m2_Dls', 'Precio_ARS'], axis = 1)"
   ]
  },
  {
   "cell_type": "code",
   "execution_count": 80,
   "metadata": {},
   "outputs": [],
   "source": [
    "Cap_precio = Cap_precio.dropna(axis =0 , how = 'any')\n",
    "Cap_m2 = Cap_m2.dropna(axis =0 , how = 'any')"
   ]
  },
  {
   "cell_type": "code",
   "execution_count": 81,
   "metadata": {},
   "outputs": [],
   "source": [
    "#Creamos variables dummies de las variables categoricas\n",
    "\n",
    "#Barrio\n",
    "Cap_precio = pd.concat([Cap_precio, pd.get_dummies(data = Cap_precio['Barrio'], prefix= 'barrio')], axis =1)\n",
    "Cap_m2 = pd.concat([Cap_m2, pd.get_dummies(data = Cap_m2['Barrio'], prefix= 'barrio')], axis = 1)\n",
    "\n",
    "#Tipo Propiedad\n",
    "Cap_precio = pd.concat([Cap_precio, pd.get_dummies(data = Cap_precio['Tipo_Propiedad'], prefix= 'tipo_prop')], axis =1)\n",
    "Cap_m2 = pd.concat([Cap_m2, pd.get_dummies(data = Cap_m2['Tipo_Propiedad'], prefix= 'tipo_prop')], axis = 1)"
   ]
  },
  {
   "cell_type": "code",
   "execution_count": 82,
   "metadata": {},
   "outputs": [],
   "source": [
    "#Dropeo de las columnas originales\n",
    "Cap_precio = Cap_precio.drop(['Provincia','Barrio','Tipo_Propiedad'], axis = 1)\n",
    "Cap_m2 = Cap_m2.drop(['Provincia','Barrio','Tipo_Propiedad'], axis = 1)"
   ]
  },
  {
   "cell_type": "code",
   "execution_count": 83,
   "metadata": {},
   "outputs": [],
   "source": [
    "#Separamos nuestra matriz de features\n",
    "\n",
    "X_Cap = Cap_precio.drop(['Precio_ARS'], axis = 1)\n",
    "y_Cap = Cap_precio['Precio_ARS']"
   ]
  },
  {
   "cell_type": "markdown",
   "metadata": {},
   "source": [
    "#### Separamos los datos en sets de testeo y training"
   ]
  },
  {
   "cell_type": "code",
   "execution_count": 84,
   "metadata": {},
   "outputs": [],
   "source": [
    "#Separamos en train y test\n",
    "X_train, X_test, y_train, y_test = train_test_split(X_Cap, y_Cap, test_size=0.10, random_state=1)"
   ]
  },
  {
   "cell_type": "markdown",
   "metadata": {},
   "source": [
    "### Regresion Lineal"
   ]
  },
  {
   "cell_type": "code",
   "execution_count": 86,
   "metadata": {},
   "outputs": [
    {
     "name": "stdout",
     "output_type": "stream",
     "text": [
      "Score del Regresion Lineal: 0.5996776950274219\n"
     ]
    }
   ],
   "source": [
    "#Instanciamos el modelo\n",
    "\n",
    "lm_Cap = linear_model.LinearRegression()\n",
    "\n",
    "#Entrenamos el modelo\n",
    "reg_lineal_Cap = lm_Cap.fit(X_train, y_train)\n",
    "\n",
    "#Guardamos el score del modelo en una variable para poder comparar\n",
    "R2_reg_lin_precio_Cap = reg_lineal_Cap.score(X_test, y_test)\n",
    "\n",
    "#Prediccion con el set de testeo\n",
    "\n",
    "print('Score del Regresion Lineal:', reg_lineal_Cap.score(X_test, y_test))"
   ]
  },
  {
   "cell_type": "markdown",
   "metadata": {},
   "source": [
    "#### Como predice el mismo modelo el precio por metro cuadrado?"
   ]
  },
  {
   "cell_type": "code",
   "execution_count": 87,
   "metadata": {},
   "outputs": [],
   "source": [
    "#Separamos nuestra matriz de features\n",
    "\n",
    "X_Cap_m2 = Cap_m2.drop(['Precio_m2'], axis = 1)\n",
    "y_Cap_m2 = Cap_m2['Precio_m2']\n",
    "\n",
    "#Separamos en train y test\n",
    "X_train_cap_m2, X_test_cap_m2, y_train_cap_m2, y_test_cap_m2 = train_test_split(X_Cap_m2, y_Cap_m2, test_size=0.10, random_state=0)"
   ]
  },
  {
   "cell_type": "code",
   "execution_count": 89,
   "metadata": {},
   "outputs": [
    {
     "name": "stdout",
     "output_type": "stream",
     "text": [
      "(21418, 69) (21418,)\n"
     ]
    }
   ],
   "source": [
    "print(X_Cap_m2.shape, y_Cap_m2.shape)"
   ]
  },
  {
   "cell_type": "code",
   "execution_count": 91,
   "metadata": {},
   "outputs": [
    {
     "name": "stdout",
     "output_type": "stream",
     "text": [
      "Score del Regresion Lineal: 0.05973424789070447\n"
     ]
    }
   ],
   "source": [
    "#Instanciamos el modelo\n",
    "\n",
    "lm_cap_m2 = linear_model.LinearRegression()\n",
    "\n",
    "#Entrenamos el modelo\n",
    "reg_lineal_cap_m2 = lm_cap_m2.fit(X_train_cap_m2, y_train_cap_m2)\n",
    "\n",
    "#Guardamos el score del modelo en una variable para poder comparar\n",
    "R2_reg_lin_cap_m2 = reg_lineal_cap_m2.score(X_test_cap_m2, y_test_cap_m2)\n",
    "\n",
    "#Prediccion con el set de testeo\n",
    "\n",
    "print('Score del Regresion Lineal:', reg_lineal_cap_m2.score(X_test_cap_m2, y_test_cap_m2))"
   ]
  },
  {
   "cell_type": "code",
   "execution_count": null,
   "metadata": {},
   "outputs": [],
   "source": []
  }
 ],
 "metadata": {
  "kernelspec": {
   "display_name": "Python 3",
   "language": "python",
   "name": "python3"
  },
  "language_info": {
   "codemirror_mode": {
    "name": "ipython",
    "version": 3
   },
   "file_extension": ".py",
   "mimetype": "text/x-python",
   "name": "python",
   "nbconvert_exporter": "python",
   "pygments_lexer": "ipython3",
   "version": "3.7.0"
  }
 },
 "nbformat": 4,
 "nbformat_minor": 2
}
