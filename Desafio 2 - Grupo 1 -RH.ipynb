{
 "cells": [
  {
   "cell_type": "markdown",
   "metadata": {},
   "source": [
    "## Importamos las librerias necesarias"
   ]
  },
  {
   "cell_type": "code",
   "execution_count": 1,
   "metadata": {},
   "outputs": [],
   "source": [
    "#Importamos pandas, numpy\n",
    "import numpy as np\n",
    "import pandas as pd"
   ]
  },
  {
   "cell_type": "markdown",
   "metadata": {},
   "source": [
    "## Importamos el dataset limpio para cargarlo en un dataframe"
   ]
  },
  {
   "cell_type": "code",
   "execution_count": 2,
   "metadata": {},
   "outputs": [],
   "source": [
    "#Guardamos el path del archivo en una variable para despues cargarlo en un df\n",
    "\n",
    "file = 'C:/Users/Ramiro/Desktop/Digital House/Desafios/Desafio 2/dataset limpio.csv'\n",
    "\n",
    "# Creamos un DataFrame con la info del csv\n",
    "df = pd.read_csv(file)"
   ]
  },
  {
   "cell_type": "markdown",
   "metadata": {},
   "source": [
    "### Dejamos solo las columnas necesarias"
   ]
  },
  {
   "cell_type": "code",
   "execution_count": 3,
   "metadata": {},
   "outputs": [],
   "source": [
    "df = df[['Tipo_Propiedad', 'Barrio','Provincia', 'Precio', 'Precio_ARS', 'Precio_Dolares', 'Metros_Totales',\n",
    "       'Metros_Cubiertos', 'Precio_m2_Dls', 'Precio_m2', 'Cantidad_Ambientes','Propiedad_Especial']]"
   ]
  },
  {
   "cell_type": "code",
   "execution_count": 4,
   "metadata": {},
   "outputs": [
    {
     "name": "stdout",
     "output_type": "stream",
     "text": [
      "<class 'pandas.core.frame.DataFrame'>\n",
      "RangeIndex: 121220 entries, 0 to 121219\n",
      "Data columns (total 12 columns):\n",
      "Tipo_Propiedad        121220 non-null object\n",
      "Barrio                121197 non-null object\n",
      "Provincia             121220 non-null object\n",
      "Precio                100810 non-null float64\n",
      "Precio_ARS            97850 non-null float64\n",
      "Precio_Dolares        97389 non-null float64\n",
      "Metros_Totales        108336 non-null float64\n",
      "Metros_Cubiertos      108865 non-null float64\n",
      "Precio_m2_Dls         67754 non-null float64\n",
      "Precio_m2             87371 non-null float64\n",
      "Cantidad_Ambientes    86078 non-null float64\n",
      "Propiedad_Especial    121220 non-null float64\n",
      "dtypes: float64(9), object(3)\n",
      "memory usage: 11.1+ MB\n"
     ]
    }
   ],
   "source": [
    "df.info()"
   ]
  },
  {
   "cell_type": "markdown",
   "metadata": {},
   "source": [
    "### Antes de eliminar observaciones, deberiamos chequear la distribucion por Provincias para asegurarnos que no nos queden zonas sin observaciones"
   ]
  },
  {
   "cell_type": "code",
   "execution_count": 5,
   "metadata": {
    "scrolled": false
   },
   "outputs": [
    {
     "data": {
      "text/plain": [
       "Capital Federal                 32316\n",
       "Bs.As. G.B.A. Zona Norte        25560\n",
       "Bs.As. G.B.A. Zona Sur          13952\n",
       "Córdoba                         12069\n",
       "Santa Fe                        10172\n",
       "Buenos Aires Costa Atlántica    10006\n",
       "Bs.As. G.B.A. Zona Oeste         9322\n",
       "Buenos Aires Interior            2291\n",
       "Río Negro                         808\n",
       "Neuquén                           733\n",
       "Mendoza                           681\n",
       "Tucumán                           674\n",
       "Corrientes                        583\n",
       "Misiones                          464\n",
       "Entre Ríos                        369\n",
       "Salta                             278\n",
       "Chubut                            259\n",
       "San Luis                          252\n",
       "La Pampa                          157\n",
       "Formosa                            65\n",
       "Chaco                              57\n",
       "San Juan                           40\n",
       "Tierra Del Fuego                   31\n",
       "Catamarca                          27\n",
       "Jujuy                              26\n",
       "Santa Cruz                         20\n",
       "La Rioja                            4\n",
       "Santiago Del Estero                 4\n",
       "Name: Provincia, dtype: int64"
      ]
     },
     "execution_count": 5,
     "metadata": {},
     "output_type": "execute_result"
    }
   ],
   "source": [
    "df['Provincia'].value_counts()"
   ]
  },
  {
   "cell_type": "markdown",
   "metadata": {},
   "source": [
    "Vemos que en el dataset original existen provincias con muy pocas observaciones. Esto generara que el modelo no pueda predecir correctamente, o del todo, esas provincias."
   ]
  },
  {
   "cell_type": "markdown",
   "metadata": {},
   "source": [
    "### Nos quedamos solo con las observaciones que no tienen valores nulos"
   ]
  },
  {
   "cell_type": "markdown",
   "metadata": {},
   "source": [
    "Prodiamos intentar predecir cualquiera de las variables de precio (en dolares o pesos). Para evaluar que tan bien performan los modelos, vamos a intentar predecir tanto el Precio total en pesos (Precio_ARS) y el Precio por metro cuadrado en pesos (Precio_m2)"
   ]
  },
  {
   "cell_type": "code",
   "execution_count": 6,
   "metadata": {},
   "outputs": [],
   "source": [
    "df_precio = df.drop(['Precio', 'Precio_Dolares','Precio_m2_Dls', 'Precio_m2'], axis = 1)\n",
    "\n",
    "df_m2 = df.drop(['Precio', 'Precio_Dolares','Precio_m2_Dls', 'Precio_ARS'], axis = 1)"
   ]
  },
  {
   "cell_type": "code",
   "execution_count": 7,
   "metadata": {},
   "outputs": [],
   "source": [
    "df_precio = df_precio.dropna(axis =0 , how = 'any')\n",
    "df_m2 = df_m2.dropna(axis =0 , how = 'any')"
   ]
  },
  {
   "cell_type": "code",
   "execution_count": 8,
   "metadata": {},
   "outputs": [
    {
     "data": {
      "text/plain": [
       "Capital Federal                 21400\n",
       "Bs.As. G.B.A. Zona Norte        15078\n",
       "Buenos Aires Costa Atlántica     7242\n",
       "Bs.As. G.B.A. Zona Sur           6450\n",
       "Bs.As. G.B.A. Zona Oeste         5315\n",
       "Córdoba                          4606\n",
       "Santa Fe                         2874\n",
       "Buenos Aires Interior            1098\n",
       "Corrientes                        308\n",
       "Mendoza                           288\n",
       "Río Negro                         257\n",
       "Neuquén                           223\n",
       "Misiones                          216\n",
       "Tucumán                           103\n",
       "Chubut                             97\n",
       "San Luis                           79\n",
       "Entre Ríos                         58\n",
       "Salta                              57\n",
       "Tierra Del Fuego                   24\n",
       "Chaco                              16\n",
       "Santa Cruz                         10\n",
       "La Pampa                            9\n",
       "Jujuy                               6\n",
       "Catamarca                           4\n",
       "San Juan                            3\n",
       "La Rioja                            2\n",
       "Formosa                             1\n",
       "Santiago Del Estero                 1\n",
       "Name: Provincia, dtype: int64"
      ]
     },
     "execution_count": 8,
     "metadata": {},
     "output_type": "execute_result"
    }
   ],
   "source": [
    "#Dataset Precio total\n",
    "df_precio['Provincia'].value_counts()"
   ]
  },
  {
   "cell_type": "code",
   "execution_count": 9,
   "metadata": {},
   "outputs": [
    {
     "data": {
      "text/plain": [
       "Capital Federal                 21418\n",
       "Bs.As. G.B.A. Zona Norte        15065\n",
       "Buenos Aires Costa Atlántica     6208\n",
       "Bs.As. G.B.A. Zona Sur           6086\n",
       "Bs.As. G.B.A. Zona Oeste         5094\n",
       "Córdoba                          4428\n",
       "Santa Fe                         2711\n",
       "Buenos Aires Interior            1042\n",
       "Corrientes                        288\n",
       "Mendoza                           285\n",
       "Neuquén                           209\n",
       "Río Negro                         176\n",
       "Misiones                          165\n",
       "San Luis                           76\n",
       "Tucumán                            65\n",
       "Entre Ríos                         53\n",
       "Salta                              53\n",
       "Chubut                             32\n",
       "Tierra Del Fuego                   24\n",
       "Chaco                              15\n",
       "La Pampa                            9\n",
       "Catamarca                           7\n",
       "Santa Cruz                          7\n",
       "Jujuy                               4\n",
       "San Juan                            3\n",
       "La Rioja                            2\n",
       "Santiago Del Estero                 1\n",
       "Name: Provincia, dtype: int64"
      ]
     },
     "execution_count": 9,
     "metadata": {},
     "output_type": "execute_result"
    }
   ],
   "source": [
    "#Dataset Precio m2\n",
    "df_m2['Provincia'].value_counts()"
   ]
  },
  {
   "cell_type": "markdown",
   "metadata": {},
   "source": [
    "Efectivamente, notamos que al momento de quedarnos solo con las observaciones con todos los valores completos, perdimos Provincias enteras como Formosa, Catamarca y Jujuy.\n",
    "Esto va a causar que al momento de querer realizar una prediccion sobre una propiedad de esa provincia, el modelo prediga incorrectamente.\n",
    "Entendemos que es un error a tener en cuenta. La forma de poder corregirlo seria agregar observaciones al dataset."
   ]
  },
  {
   "cell_type": "markdown",
   "metadata": {},
   "source": [
    "## Modelado\n",
    "\n",
    "Para comenzar el modelado, debemos transformar las variables categoricas en dummies, luego normalizaremos las variables para facilitar la corrida de los distintos modelos.\n",
    "Vamos a modelar primero tratando predecir el Precio total para todo el pais, y luego el precio por metro cuadrado.\n",
    "\n",
    "Finalmente, generaremos modelos mas acotados (a ciertas provincias o zonas) buscando una performance mejor de los modelos"
   ]
  },
  {
   "cell_type": "code",
   "execution_count": 10,
   "metadata": {},
   "outputs": [],
   "source": [
    "#Creamos variables dummies de las variables categoricas\n",
    "\n",
    "#Provincia\n",
    "df_precio = pd.concat([df_precio, pd.get_dummies(data = df_precio['Provincia'], prefix= 'prov')], axis = 1)\n",
    "df_m2 = pd.concat([df_m2, pd.get_dummies(data = df_m2['Provincia'], prefix= 'prov')], axis = 1)\n",
    "\n",
    "#Barrio\n",
    "df_precio = pd.concat([df_precio, pd.get_dummies(data = df_precio['Barrio'], prefix= 'barrio')], axis =1)\n",
    "df_m2 = pd.concat([df_m2, pd.get_dummies(data = df_m2['Barrio'], prefix= 'barrio')], axis = 1)\n",
    "\n",
    "#Tipo Propiedad\n",
    "df_precio = pd.concat([df_precio, pd.get_dummies(data = df_precio['Tipo_Propiedad'], prefix= 'tipo_prop')], axis =1)\n",
    "df_m2 = pd.concat([df_m2, pd.get_dummies(data = df_m2['Tipo_Propiedad'], prefix= 'tipo_prop')], axis = 1)"
   ]
  },
  {
   "cell_type": "code",
   "execution_count": 11,
   "metadata": {},
   "outputs": [],
   "source": [
    "#Dropeo de las columnas originales\n",
    "df_precio = df_precio.drop(['Provincia','Barrio','Tipo_Propiedad'], axis = 1)\n",
    "df_m2 = df_m2.drop(['Provincia','Barrio','Tipo_Propiedad'], axis = 1)"
   ]
  },
  {
   "cell_type": "markdown",
   "metadata": {},
   "source": [
    "#### Importamos todas las librerias necesarias para el modelado"
   ]
  },
  {
   "cell_type": "code",
   "execution_count": 12,
   "metadata": {},
   "outputs": [],
   "source": [
    "from sklearn import linear_model\n",
    "from sklearn.metrics import r2_score\n",
    "from sklearn.model_selection import train_test_split"
   ]
  },
  {
   "cell_type": "markdown",
   "metadata": {},
   "source": [
    "#### Armamos nuestro vector objetivo y nuestra matriz de features"
   ]
  },
  {
   "cell_type": "code",
   "execution_count": 13,
   "metadata": {},
   "outputs": [],
   "source": [
    "#Separamos nuestra matriz de features\n",
    "\n",
    "X = df_precio.drop(['Precio_ARS'], axis = 1)\n",
    "y = df_precio['Precio_ARS']"
   ]
  },
  {
   "cell_type": "markdown",
   "metadata": {},
   "source": [
    "#### Separamos los datos en sets de testeo y training"
   ]
  },
  {
   "cell_type": "code",
   "execution_count": null,
   "metadata": {},
   "outputs": [],
   "source": [
    "#Separamos en train y test\n",
    "X_train, X_test, y_train, y_test = train_test_split(X, y, test_size=0.10, random_state=1)"
   ]
  },
  {
   "cell_type": "markdown",
   "metadata": {},
   "source": [
    "### Regresion Lineal"
   ]
  },
  {
   "cell_type": "code",
   "execution_count": 15,
   "metadata": {},
   "outputs": [
    {
     "name": "stdout",
     "output_type": "stream",
     "text": [
      "Score del Regresion Lineal: 0.576628765212965\n"
     ]
    }
   ],
   "source": [
    "#Instanciamos el modelo\n",
    "\n",
    "lm = linear_model.LinearRegression()\n",
    "\n",
    "#Entrenamos el modelo\n",
    "reg_lineal = lm.fit(X_train, y_train)\n",
    "\n",
    "#Guardamos el score del modelo en una variable para poder comparar\n",
    "R2_reg_lin_precio = reg_lineal.score(X_test, y_test)\n",
    "\n",
    "#Prediccion con el set de testeo\n",
    "\n",
    "print('Score del Regresion Lineal:', reg_lineal.score(X_test, y_test))"
   ]
  },
  {
   "cell_type": "markdown",
   "metadata": {},
   "source": [
    "#### Como predice el mismo modelo el precio por metro cuadrado?"
   ]
  },
  {
   "cell_type": "code",
   "execution_count": 35,
   "metadata": {},
   "outputs": [],
   "source": [
    "#Separamos nuestra matriz de features\n",
    "\n",
    "X_m2 = df_m2.drop(['Precio_m2'], axis = 1)\n",
    "y_m2 = df_m2['Precio_m2']\n",
    "\n",
    "#Separamos en train y test\n",
    "X_train_m2, X_test_m2, y_train_m2, y_test_m2 = train_test_split(X_m2, y_m2, test_size=0.10, random_state=0)"
   ]
  },
  {
   "cell_type": "code",
   "execution_count": 107,
   "metadata": {},
   "outputs": [
    {
     "name": "stdout",
     "output_type": "stream",
     "text": [
      "Score del Regresion Lineal: -22827893931134.164\n"
     ]
    }
   ],
   "source": [
    "#Instanciamos el modelo\n",
    "\n",
    "lm_m2 = linear_model.LinearRegression()\n",
    "\n",
    "#Entrenamos el modelo\n",
    "reg_lineal_m2 = lm_m2.fit(X_train_m2, y_train_m2)\n",
    "\n",
    "#Guardamos el score del modelo en una variable para poder comparar\n",
    "R2_reg_lin_m2 = reg_lineal_m2.score(X_test_m2, y_test_m2)\n",
    "\n",
    "#Prediccion con el set de testeo\n",
    "\n",
    "print('Score del Regresion Lineal:', reg_lineal_m2.score(X_test_m2, y_test_m2))"
   ]
  },
  {
   "cell_type": "code",
   "execution_count": null,
   "metadata": {},
   "outputs": [],
   "source": []
  },
  {
   "cell_type": "markdown",
   "metadata": {},
   "source": [
    "## Meter un grafico aca comparando los dos scores???"
   ]
  },
  {
   "cell_type": "markdown",
   "metadata": {},
   "source": [
    "Vemos que hay una diferencia considerable entre el score del modelo que predice el precio total, que el que predice el precio por metro cuadrado. Tengamos en cuenta que en ninguno de los dos modelos incluimos la otra variable al momento de modelar, ya que entendemos que por ejemplo, el precio por metro cuadrado explicaria casi el total de la variabilidad del Precio Total de la propiedad"
   ]
  },
  {
   "cell_type": "markdown",
   "metadata": {},
   "source": [
    "El modelo de regresion lineal multiple es demasiado simple para poder obtener un insight lo suficientemente convincente, por lo cual vamos a aplicar dos modelos que incluyen tecnicas de regularizacion: Ridge y Lasso"
   ]
  },
  {
   "cell_type": "markdown",
   "metadata": {},
   "source": [
    "### Primero debemos normalizar las features.\n",
    "Las variables dummies no es necesario que sean normalizadas ya que son variables dicotomicas (0 o 1).\n",
    "\n",
    "Recordemos que nuestros sets de training y testeo quedaron definidos de la siguiente manera:\n",
    "\n",
    "`X_train, X_test, y_train, y_test`: Para el modelar el Precio_ARS\n",
    "\n",
    "`X_train_m2, X_test_m2, y_train_m2, y_test_m2`: Para modelar el Precio_m2"
   ]
  },
  {
   "cell_type": "code",
   "execution_count": 18,
   "metadata": {},
   "outputs": [],
   "source": [
    "#Importamos StandardScaler para normalizar las variables\n",
    "from sklearn.preprocessing import StandardScaler\n",
    "scaler_precio = StandardScaler()\n",
    "X_train = scaler_precio.fit_transform(X_train)"
   ]
  },
  {
   "cell_type": "code",
   "execution_count": 19,
   "metadata": {
    "scrolled": true
   },
   "outputs": [
    {
     "name": "stdout",
     "output_type": "stream",
     "text": [
      "media: -6.451563387304831e-17\n",
      "desvio: 0.9999999999999999\n"
     ]
    }
   ],
   "source": [
    "print('media:',np.mean(X_train[:,1]))\n",
    "print('desvio:',np.std(X_train[:,1]))"
   ]
  },
  {
   "cell_type": "markdown",
   "metadata": {},
   "source": [
    "# xq no da 0 y 1 exactamente???"
   ]
  },
  {
   "cell_type": "markdown",
   "metadata": {},
   "source": [
    "## Regresion Lineal Ridge"
   ]
  },
  {
   "cell_type": "code",
   "execution_count": 20,
   "metadata": {},
   "outputs": [
    {
     "name": "stdout",
     "output_type": "stream",
     "text": [
      "Score del modelo Ridge: -7741.4053105149815\n"
     ]
    }
   ],
   "source": [
    "#Instanciamos el modelo\n",
    "\n",
    "lm_ridge =  linear_model.RidgeCV(alphas=[0.1, 20, 100], cv=5)\n",
    "\n",
    "#Entrenamos el modelo\n",
    "reg_lineal_ridge = lm_ridge.fit(X_train, y_train)\n",
    "score_ridge_precio = reg_lineal_ridge.score(X_test, y_test)\n",
    "\n",
    "#Prediccion con el set de testeo\n",
    "\n",
    "print('Score del modelo Ridge:', reg_lineal_ridge.score(X_test, y_test))"
   ]
  },
  {
   "cell_type": "code",
   "execution_count": 21,
   "metadata": {},
   "outputs": [
    {
     "data": {
      "text/plain": [
       "20"
      ]
     },
     "execution_count": 21,
     "metadata": {},
     "output_type": "execute_result"
    }
   ],
   "source": [
    "reg_lineal_ridge.alpha_"
   ]
  },
  {
   "cell_type": "markdown",
   "metadata": {},
   "source": [
    "# REVISAR"
   ]
  },
  {
   "cell_type": "markdown",
   "metadata": {},
   "source": [
    "### Como funciona el modelo para el precio por metro cuadrado?"
   ]
  },
  {
   "cell_type": "code",
   "execution_count": 22,
   "metadata": {},
   "outputs": [],
   "source": [
    "#Importamos StandardScaler para normalizar las variables\n",
    "scaler_m2 = StandardScaler()\n",
    "X_train_m2 = scaler_m2.fit_transform(X_train_m2)"
   ]
  },
  {
   "cell_type": "code",
   "execution_count": 23,
   "metadata": {},
   "outputs": [
    {
     "name": "stdout",
     "output_type": "stream",
     "text": [
      "media: -3.579259856066326e-18\n",
      "desvio: 1.0\n"
     ]
    }
   ],
   "source": [
    "print('media:',np.mean(X_train_m2[:,1]))\n",
    "print('desvio:',np.std(X_train_m2[:,1]))"
   ]
  },
  {
   "cell_type": "code",
   "execution_count": 24,
   "metadata": {},
   "outputs": [
    {
     "name": "stdout",
     "output_type": "stream",
     "text": [
      "Score del modelo Ridge: -301.5904675969028\n"
     ]
    }
   ],
   "source": [
    "#Instanciamos el modelo\n",
    "lm_ridge_m2 =  linear_model.RidgeCV(alphas=[10, 100, 10], cv=5)\n",
    "\n",
    "#Entrenamos el modelo\n",
    "reg_lineal_ridge_m2 = lm_ridge_m2.fit(X_train_m2, y_train_m2)\n",
    "score_ridge_m2 = reg_lineal_ridge_m2.score(X_test_m2, y_test_m2)\n",
    "\n",
    "#Prediccion con el set de testeo\n",
    "print('Score del modelo Ridge:', reg_lineal_ridge_m2.score(X_test_m2, y_test_m2))"
   ]
  },
  {
   "cell_type": "code",
   "execution_count": 25,
   "metadata": {},
   "outputs": [
    {
     "data": {
      "text/plain": [
       "20"
      ]
     },
     "execution_count": 25,
     "metadata": {},
     "output_type": "execute_result"
    }
   ],
   "source": [
    "reg_lineal_ridge.alpha_\n"
   ]
  },
  {
   "cell_type": "markdown",
   "metadata": {},
   "source": [
    "## Regresion Lasso"
   ]
  },
  {
   "cell_type": "code",
   "execution_count": 42,
   "metadata": {},
   "outputs": [
    {
     "name": "stderr",
     "output_type": "stream",
     "text": [
      "C:\\Users\\Ramiro\\Anaconda3\\lib\\site-packages\\sklearn\\linear_model\\coordinate_descent.py:491: ConvergenceWarning: Objective did not converge. You might want to increase the number of iterations. Fitting data with very small alpha may cause precision problems.\n",
      "  ConvergenceWarning)\n"
     ]
    },
    {
     "name": "stdout",
     "output_type": "stream",
     "text": [
      "Score del modelo Lasso: -7752.909902068187\n"
     ]
    }
   ],
   "source": [
    "#Instanciamos el modelo\n",
    "lm_lasso =  linear_model.LassoCV(alphas=[1000, 100000, 100], cv = 5)\n",
    "\n",
    "#Entrenamos el modelo\n",
    "reg_lineal_lasso = lm_lasso.fit(X_train, y_train)\n",
    "\n",
    "print('Score del modelo Lasso:', reg_lineal_lasso.score(X_test, y_test))"
   ]
  },
  {
   "cell_type": "markdown",
   "metadata": {},
   "source": [
    "### Como funciona el modelo para el precio por metro cuadrado?"
   ]
  },
  {
   "cell_type": "code",
   "execution_count": 43,
   "metadata": {},
   "outputs": [
    {
     "name": "stdout",
     "output_type": "stream",
     "text": [
      "Score del modelo Lasso: 0.1368339358570061\n"
     ]
    }
   ],
   "source": [
    "#Instanciamos el modelo\n",
    "lm_lasso_m2 =  linear_model.LassoCV(alphas=[1000, 100000, 100], cv = 5)\n",
    "\n",
    "#Entrenamos el modelo\n",
    "reg_lineal_lasso_m2 = lm_lasso_m2.fit(X_train_m2, y_train_m2)\n",
    "\n",
    "print('Score del modelo Lasso:', reg_lineal_lasso_m2.score(X_test_m2, y_test_m2))"
   ]
  },
  {
   "cell_type": "markdown",
   "metadata": {},
   "source": [
    "## Elastic Net"
   ]
  },
  {
   "cell_type": "code",
   "execution_count": 48,
   "metadata": {},
   "outputs": [
    {
     "name": "stdout",
     "output_type": "stream",
     "text": [
      "Score del modelo Elastic Net: -7738.299211283508\n"
     ]
    }
   ],
   "source": [
    "#Instanciamos el modelo\n",
    "\n",
    "lm_elastic_net =  linear_model.ElasticNetCV(l1_ratio= [.1, .5, .7, .9, .95, .99, 1],cv = 5)\n",
    "\n",
    "#Entrenamos el modelo\n",
    "elastic_net = lm_elastic_net.fit(X_train, y_train)\n",
    "\n",
    "#Prediccion con el set de testeo\n",
    "\n",
    "print('Score del modelo Elastic Net:', elastic_net.score(X_test, y_test))"
   ]
  },
  {
   "cell_type": "markdown",
   "metadata": {},
   "source": [
    "### Como funciona el modelo para el precio por metro cuadrado?"
   ]
  },
  {
   "cell_type": "code",
   "execution_count": 49,
   "metadata": {},
   "outputs": [
    {
     "name": "stdout",
     "output_type": "stream",
     "text": [
      "Score del modelo Elastic Net: 0.2010685045740972\n"
     ]
    }
   ],
   "source": [
    "#Instanciamos el modelo\n",
    "\n",
    "lm_elastic_net_m2 =  linear_model.ElasticNetCV(l1_ratio= [.1, .5, .7, .9, .95, .99, 1], alphas = [10, 100, 10],cv = 5)\n",
    "\n",
    "#Entrenamos el modelo\n",
    "elastic_net_m2 = lm_elastic_net_m2.fit(X_train_m2, y_train_m2)\n",
    "\n",
    "#Prediccion con el set de testeo\n",
    "\n",
    "print('Score del modelo Elastic Net:', elastic_net_m2.score(X_test_m2, y_test_m2))"
   ]
  },
  {
   "cell_type": "code",
   "execution_count": 75,
   "metadata": {},
   "outputs": [
    {
     "data": {
      "text/plain": [
       "Capital Federal                 32316\n",
       "Bs.As. G.B.A. Zona Norte        25560\n",
       "Bs.As. G.B.A. Zona Sur          13952\n",
       "Córdoba                         12069\n",
       "Santa Fe                        10172\n",
       "Buenos Aires Costa Atlántica    10006\n",
       "Bs.As. G.B.A. Zona Oeste         9322\n",
       "Buenos Aires Interior            2291\n",
       "Río Negro                         808\n",
       "Neuquén                           733\n",
       "Mendoza                           681\n",
       "Tucumán                           674\n",
       "Corrientes                        583\n",
       "Misiones                          464\n",
       "Entre Ríos                        369\n",
       "Salta                             278\n",
       "Chubut                            259\n",
       "San Luis                          252\n",
       "La Pampa                          157\n",
       "Formosa                            65\n",
       "Chaco                              57\n",
       "San Juan                           40\n",
       "Tierra Del Fuego                   31\n",
       "Catamarca                          27\n",
       "Jujuy                              26\n",
       "Santa Cruz                         20\n",
       "La Rioja                            4\n",
       "Santiago Del Estero                 4\n",
       "Name: Provincia, dtype: int64"
      ]
     },
     "execution_count": 75,
     "metadata": {},
     "output_type": "execute_result"
    }
   ],
   "source": [
    "df['Provincia'].value_counts()"
   ]
  },
  {
   "cell_type": "markdown",
   "metadata": {},
   "source": [
    "# Modelo para Capital y Buenos Aires"
   ]
  },
  {
   "cell_type": "code",
   "execution_count": 91,
   "metadata": {},
   "outputs": [],
   "source": [
    "df_BsAs = df.loc[df['Provincia'].isin(['Capital Federal','Bs.As. G.B.A. Zona Norte','Bs.As. G.B.A. Zona Sur',\\\n",
    "                             'Buenos Aires Costa Atlántica','Bs.As. G.B.A. Zona Oeste','Buenos Aires Interior'])]\n"
   ]
  },
  {
   "cell_type": "code",
   "execution_count": 97,
   "metadata": {},
   "outputs": [],
   "source": [
    "BsAs_precio = df_BsAs.drop(['Precio', 'Precio_Dolares','Precio_m2_Dls', 'Precio_m2'], axis = 1)\n",
    "\n",
    "BsAs_m2 = df_BsAs.drop(['Precio', 'Precio_Dolares','Precio_m2_Dls', 'Precio_ARS'], axis = 1)"
   ]
  },
  {
   "cell_type": "code",
   "execution_count": 98,
   "metadata": {},
   "outputs": [],
   "source": [
    "BsAs_precio = BsAs_precio.dropna(axis =0 , how = 'any')\n",
    "BsAs_m2 = BsAs_m2.dropna(axis =0 , how = 'any')"
   ]
  },
  {
   "cell_type": "code",
   "execution_count": 99,
   "metadata": {},
   "outputs": [],
   "source": [
    "#Creamos variables dummies de las variables categoricas\n",
    "\n",
    "#Provincia\n",
    "BsAs_precio = pd.concat([BsAs_precio, pd.get_dummies(data = BsAs_precio['Provincia'], prefix= 'prov')], axis = 1)\n",
    "BsAs_m2 = pd.concat([BsAs_m2, pd.get_dummies(data = BsAs_m2['Provincia'], prefix= 'prov')], axis = 1)\n",
    "\n",
    "#Barrio\n",
    "BsAs_precio = pd.concat([BsAs_precio, pd.get_dummies(data = BsAs_precio['Barrio'], prefix= 'barrio')], axis =1)\n",
    "BsAs_m2 = pd.concat([BsAs_m2, pd.get_dummies(data = BsAs_m2['Barrio'], prefix= 'barrio')], axis = 1)\n",
    "\n",
    "#Tipo Propiedad\n",
    "BsAs_precio = pd.concat([BsAs_precio, pd.get_dummies(data = BsAs_precio['Tipo_Propiedad'], prefix= 'tipo_prop')], axis =1)\n",
    "BsAs_m2 = pd.concat([BsAs_m2, pd.get_dummies(data = BsAs_m2['Tipo_Propiedad'], prefix= 'tipo_prop')], axis = 1)"
   ]
  },
  {
   "cell_type": "code",
   "execution_count": 103,
   "metadata": {},
   "outputs": [],
   "source": [
    "#Dropeo de las columnas originales\n",
    "BsAs_precio = BsAs_precio.drop(['Provincia','Barrio','Tipo_Propiedad'], axis = 1)\n",
    "BsAs_m2 = BsAs_m2.drop(['Provincia','Barrio','Tipo_Propiedad'], axis = 1)"
   ]
  },
  {
   "cell_type": "code",
   "execution_count": 104,
   "metadata": {},
   "outputs": [],
   "source": [
    "#Separamos nuestra matriz de features\n",
    "\n",
    "X_bsas = BsAs_precio.drop(['Precio_ARS'], axis = 1)\n",
    "y_bsas = BsAs_precio['Precio_ARS']"
   ]
  },
  {
   "cell_type": "markdown",
   "metadata": {},
   "source": [
    "#### Separamos los datos en sets de testeo y training"
   ]
  },
  {
   "cell_type": "code",
   "execution_count": 105,
   "metadata": {},
   "outputs": [],
   "source": [
    "#Separamos en train y test\n",
    "X_train, X_test, y_train, y_test = train_test_split(X_bsas, y_bsas, test_size=0.10, random_state=1)"
   ]
  },
  {
   "cell_type": "markdown",
   "metadata": {},
   "source": [
    "### Regresion Lineal"
   ]
  },
  {
   "cell_type": "code",
   "execution_count": 106,
   "metadata": {},
   "outputs": [
    {
     "name": "stdout",
     "output_type": "stream",
     "text": [
      "Score del Regresion Lineal: -235741889980637.03\n"
     ]
    }
   ],
   "source": [
    "#Instanciamos el modelo\n",
    "\n",
    "lm_bsas = linear_model.LinearRegression()\n",
    "\n",
    "#Entrenamos el modelo\n",
    "reg_lineal_bsas = lm_bsas.fit(X_train, y_train)\n",
    "\n",
    "#Guardamos el score del modelo en una variable para poder comparar\n",
    "R2_reg_lin_precio_bsas = reg_lineal_bsas.score(X_test, y_test)\n",
    "\n",
    "#Prediccion con el set de testeo\n",
    "\n",
    "print('Score del Regresion Lineal:', reg_lineal_bsas.score(X_test, y_test))"
   ]
  },
  {
   "cell_type": "markdown",
   "metadata": {},
   "source": [
    "#### Como predice el mismo modelo el precio por metro cuadrado?"
   ]
  },
  {
   "cell_type": "code",
   "execution_count": 125,
   "metadata": {},
   "outputs": [],
   "source": [
    "#Separamos nuestra matriz de features\n",
    "\n",
    "X_bsas_m2 = BsAs_m2.drop(['Precio_m2'], axis = 1)\n",
    "y_bsas_m2 = BsAs_m2['Precio_m2']\n",
    "\n",
    "#Separamos en train y test\n",
    "X_train_bsas_m2, X_test_bsas_m2, y_train_bsas_m2, y_test_bsas_m2 = train_test_split(X_bsas_m2, y_bsas_m2, test_size=0.10, random_state=0)"
   ]
  },
  {
   "cell_type": "code",
   "execution_count": 129,
   "metadata": {},
   "outputs": [
    {
     "name": "stdout",
     "output_type": "stream",
     "text": [
      "(54913, 642) (54913,)\n"
     ]
    }
   ],
   "source": [
    "print(X_bsas_m2.shape, y_bsas_m2.shape)"
   ]
  },
  {
   "cell_type": "code",
   "execution_count": 128,
   "metadata": {},
   "outputs": [
    {
     "ename": "ValueError",
     "evalue": "shapes (5492,642) and (872,) not aligned: 642 (dim 1) != 872 (dim 0)",
     "output_type": "error",
     "traceback": [
      "\u001b[1;31m---------------------------------------------------------------------------\u001b[0m",
      "\u001b[1;31mValueError\u001b[0m                                Traceback (most recent call last)",
      "\u001b[1;32m<ipython-input-128-364340508e1b>\u001b[0m in \u001b[0;36m<module>\u001b[1;34m()\u001b[0m\n\u001b[0;32m     11\u001b[0m \u001b[1;31m#Prediccion con el set de testeo\u001b[0m\u001b[1;33m\u001b[0m\u001b[1;33m\u001b[0m\u001b[0m\n\u001b[0;32m     12\u001b[0m \u001b[1;33m\u001b[0m\u001b[0m\n\u001b[1;32m---> 13\u001b[1;33m \u001b[0mprint\u001b[0m\u001b[1;33m(\u001b[0m\u001b[1;34m'Score del Regresion Lineal:'\u001b[0m\u001b[1;33m,\u001b[0m \u001b[0mreg_lineal_m2\u001b[0m\u001b[1;33m.\u001b[0m\u001b[0mscore\u001b[0m\u001b[1;33m(\u001b[0m\u001b[0mX_test_bsas_m2\u001b[0m\u001b[1;33m,\u001b[0m \u001b[0my_test_bsas_m2\u001b[0m\u001b[1;33m)\u001b[0m\u001b[1;33m)\u001b[0m\u001b[1;33m\u001b[0m\u001b[0m\n\u001b[0m",
      "\u001b[1;32m~\\Anaconda3\\lib\\site-packages\\sklearn\\base.py\u001b[0m in \u001b[0;36mscore\u001b[1;34m(self, X, y, sample_weight)\u001b[0m\n\u001b[0;32m    384\u001b[0m \u001b[1;33m\u001b[0m\u001b[0m\n\u001b[0;32m    385\u001b[0m         \u001b[1;32mfrom\u001b[0m \u001b[1;33m.\u001b[0m\u001b[0mmetrics\u001b[0m \u001b[1;32mimport\u001b[0m \u001b[0mr2_score\u001b[0m\u001b[1;33m\u001b[0m\u001b[0m\n\u001b[1;32m--> 386\u001b[1;33m         return r2_score(y, self.predict(X), sample_weight=sample_weight,\n\u001b[0m\u001b[0;32m    387\u001b[0m                         multioutput='variance_weighted')\n\u001b[0;32m    388\u001b[0m \u001b[1;33m\u001b[0m\u001b[0m\n",
      "\u001b[1;32m~\\Anaconda3\\lib\\site-packages\\sklearn\\linear_model\\base.py\u001b[0m in \u001b[0;36mpredict\u001b[1;34m(self, X)\u001b[0m\n\u001b[0;32m    254\u001b[0m             \u001b[0mReturns\u001b[0m \u001b[0mpredicted\u001b[0m \u001b[0mvalues\u001b[0m\u001b[1;33m.\u001b[0m\u001b[1;33m\u001b[0m\u001b[0m\n\u001b[0;32m    255\u001b[0m         \"\"\"\n\u001b[1;32m--> 256\u001b[1;33m         \u001b[1;32mreturn\u001b[0m \u001b[0mself\u001b[0m\u001b[1;33m.\u001b[0m\u001b[0m_decision_function\u001b[0m\u001b[1;33m(\u001b[0m\u001b[0mX\u001b[0m\u001b[1;33m)\u001b[0m\u001b[1;33m\u001b[0m\u001b[0m\n\u001b[0m\u001b[0;32m    257\u001b[0m \u001b[1;33m\u001b[0m\u001b[0m\n\u001b[0;32m    258\u001b[0m     \u001b[0m_preprocess_data\u001b[0m \u001b[1;33m=\u001b[0m \u001b[0mstaticmethod\u001b[0m\u001b[1;33m(\u001b[0m\u001b[0m_preprocess_data\u001b[0m\u001b[1;33m)\u001b[0m\u001b[1;33m\u001b[0m\u001b[0m\n",
      "\u001b[1;32m~\\Anaconda3\\lib\\site-packages\\sklearn\\linear_model\\base.py\u001b[0m in \u001b[0;36m_decision_function\u001b[1;34m(self, X)\u001b[0m\n\u001b[0;32m    239\u001b[0m         \u001b[0mX\u001b[0m \u001b[1;33m=\u001b[0m \u001b[0mcheck_array\u001b[0m\u001b[1;33m(\u001b[0m\u001b[0mX\u001b[0m\u001b[1;33m,\u001b[0m \u001b[0maccept_sparse\u001b[0m\u001b[1;33m=\u001b[0m\u001b[1;33m[\u001b[0m\u001b[1;34m'csr'\u001b[0m\u001b[1;33m,\u001b[0m \u001b[1;34m'csc'\u001b[0m\u001b[1;33m,\u001b[0m \u001b[1;34m'coo'\u001b[0m\u001b[1;33m]\u001b[0m\u001b[1;33m)\u001b[0m\u001b[1;33m\u001b[0m\u001b[0m\n\u001b[0;32m    240\u001b[0m         return safe_sparse_dot(X, self.coef_.T,\n\u001b[1;32m--> 241\u001b[1;33m                                dense_output=True) + self.intercept_\n\u001b[0m\u001b[0;32m    242\u001b[0m \u001b[1;33m\u001b[0m\u001b[0m\n\u001b[0;32m    243\u001b[0m     \u001b[1;32mdef\u001b[0m \u001b[0mpredict\u001b[0m\u001b[1;33m(\u001b[0m\u001b[0mself\u001b[0m\u001b[1;33m,\u001b[0m \u001b[0mX\u001b[0m\u001b[1;33m)\u001b[0m\u001b[1;33m:\u001b[0m\u001b[1;33m\u001b[0m\u001b[0m\n",
      "\u001b[1;32m~\\Anaconda3\\lib\\site-packages\\sklearn\\utils\\extmath.py\u001b[0m in \u001b[0;36msafe_sparse_dot\u001b[1;34m(a, b, dense_output)\u001b[0m\n\u001b[0;32m    138\u001b[0m         \u001b[1;32mreturn\u001b[0m \u001b[0mret\u001b[0m\u001b[1;33m\u001b[0m\u001b[0m\n\u001b[0;32m    139\u001b[0m     \u001b[1;32melse\u001b[0m\u001b[1;33m:\u001b[0m\u001b[1;33m\u001b[0m\u001b[0m\n\u001b[1;32m--> 140\u001b[1;33m         \u001b[1;32mreturn\u001b[0m \u001b[0mnp\u001b[0m\u001b[1;33m.\u001b[0m\u001b[0mdot\u001b[0m\u001b[1;33m(\u001b[0m\u001b[0ma\u001b[0m\u001b[1;33m,\u001b[0m \u001b[0mb\u001b[0m\u001b[1;33m)\u001b[0m\u001b[1;33m\u001b[0m\u001b[0m\n\u001b[0m\u001b[0;32m    141\u001b[0m \u001b[1;33m\u001b[0m\u001b[0m\n\u001b[0;32m    142\u001b[0m \u001b[1;33m\u001b[0m\u001b[0m\n",
      "\u001b[1;31mValueError\u001b[0m: shapes (5492,642) and (872,) not aligned: 642 (dim 1) != 872 (dim 0)"
     ]
    }
   ],
   "source": [
    "#Instanciamos el modelo\n",
    "\n",
    "lm_bsas_m2 = linear_model.LinearRegression()\n",
    "\n",
    "#Entrenamos el modelo\n",
    "reg_lineal_bsas_m2 = lm_bsas_m2.fit(X_train_bsas_m2, y_train_bsas_m2)\n",
    "\n",
    "#Guardamos el score del modelo en una variable para poder comparar\n",
    "R2_reg_lin_bsas_m2 = reg_lineal_bsas_m2.score(X_test_bsas_m2, y_test_bsas_m2)\n",
    "\n",
    "#Prediccion con el set de testeo\n",
    "\n",
    "print('Score del Regresion Lineal:', reg_lineal_m2.score(X_test_bsas_m2, y_test_bsas_m2))"
   ]
  },
  {
   "cell_type": "code",
   "execution_count": null,
   "metadata": {},
   "outputs": [],
   "source": []
  }
 ],
 "metadata": {
  "kernelspec": {
   "display_name": "Python 3",
   "language": "python",
   "name": "python3"
  },
  "language_info": {
   "codemirror_mode": {
    "name": "ipython",
    "version": 3
   },
   "file_extension": ".py",
   "mimetype": "text/x-python",
   "name": "python",
   "nbconvert_exporter": "python",
   "pygments_lexer": "ipython3",
   "version": "3.7.0"
  }
 },
 "nbformat": 4,
 "nbformat_minor": 2
}
