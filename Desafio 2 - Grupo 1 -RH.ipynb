{
 "cells": [
  {
   "cell_type": "markdown",
   "metadata": {},
   "source": [
    "## Importamos las librerias necesarias"
   ]
  },
  {
   "cell_type": "code",
   "execution_count": 1,
   "metadata": {},
   "outputs": [],
   "source": [
    "#Importamos pandas, numpy\n",
    "import numpy as np\n",
    "import pandas as pd"
   ]
  },
  {
   "cell_type": "markdown",
   "metadata": {},
   "source": [
    "## Importamos el dataset limpio para cargarlo en un dataframe"
   ]
  },
  {
   "cell_type": "code",
   "execution_count": 2,
   "metadata": {},
   "outputs": [],
   "source": [
    "#Guardamos el path del archivo en una variable para despues cargarlo en un df\n",
    "\n",
    "file = 'C:/Users/Ramiro/Desktop/Digital House/Desafios/Desafio 2/dataset limpio.csv'\n",
    "\n",
    "# Creamos un DataFrame con la info del csv\n",
    "df = pd.read_csv(file)"
   ]
  },
  {
   "cell_type": "markdown",
   "metadata": {},
   "source": [
    "## Creamos una variable que represente el porcentaje de superficie cubierta de la propiedad"
   ]
  },
  {
   "cell_type": "code",
   "execution_count": 3,
   "metadata": {},
   "outputs": [],
   "source": [
    "df['Porcentaje_Cubierto'] = df['Metros_Cubiertos']/df['Metros_Totales']"
   ]
  },
  {
   "cell_type": "markdown",
   "metadata": {},
   "source": [
    "### Dejamos solo las columnas necesarias"
   ]
  },
  {
   "cell_type": "code",
   "execution_count": 4,
   "metadata": {},
   "outputs": [],
   "source": [
    "df = df[['Tipo_Propiedad', 'Barrio','Provincia', 'Precio', 'Precio_ARS', 'Precio_Dolares', 'Metros_Totales',\n",
    "       'Metros_Cubiertos', 'Precio_m2_Dls', 'Precio_m2', 'Cantidad_Ambientes','Porcentaje_Cubierto']]"
   ]
  },
  {
   "cell_type": "code",
   "execution_count": 5,
   "metadata": {},
   "outputs": [
    {
     "name": "stdout",
     "output_type": "stream",
     "text": [
      "<class 'pandas.core.frame.DataFrame'>\n",
      "RangeIndex: 121220 entries, 0 to 121219\n",
      "Data columns (total 12 columns):\n",
      "Tipo_Propiedad         121220 non-null object\n",
      "Barrio                 121197 non-null object\n",
      "Provincia              121220 non-null object\n",
      "Precio                 100810 non-null float64\n",
      "Precio_ARS             97850 non-null float64\n",
      "Precio_Dolares         97389 non-null float64\n",
      "Metros_Totales         108336 non-null float64\n",
      "Metros_Cubiertos       108865 non-null float64\n",
      "Precio_m2_Dls          67754 non-null float64\n",
      "Precio_m2              87371 non-null float64\n",
      "Cantidad_Ambientes     86078 non-null float64\n",
      "Porcentaje_Cubierto    107147 non-null float64\n",
      "dtypes: float64(9), object(3)\n",
      "memory usage: 11.1+ MB\n"
     ]
    }
   ],
   "source": [
    "df.info()"
   ]
  },
  {
   "cell_type": "markdown",
   "metadata": {},
   "source": [
    "### Antes de eliminar observaciones, deberiamos chequear la distribucion por Provincias para asegurarnos que no nos queden zonas sin observaciones"
   ]
  },
  {
   "cell_type": "code",
   "execution_count": 6,
   "metadata": {
    "scrolled": true
   },
   "outputs": [
    {
     "data": {
      "text/plain": [
       "Capital Federal                 32316\n",
       "Bs.As. G.B.A. Zona Norte        25560\n",
       "Bs.As. G.B.A. Zona Sur          13952\n",
       "Córdoba                         12069\n",
       "Santa Fe                        10172\n",
       "Buenos Aires Costa Atlántica    10006\n",
       "Bs.As. G.B.A. Zona Oeste         9322\n",
       "Buenos Aires Interior            2291\n",
       "Río Negro                         808\n",
       "Neuquén                           733\n",
       "Mendoza                           681\n",
       "Tucumán                           674\n",
       "Corrientes                        583\n",
       "Misiones                          464\n",
       "Entre Ríos                        369\n",
       "Salta                             278\n",
       "Chubut                            259\n",
       "San Luis                          252\n",
       "La Pampa                          157\n",
       "Formosa                            65\n",
       "Chaco                              57\n",
       "San Juan                           40\n",
       "Tierra Del Fuego                   31\n",
       "Catamarca                          27\n",
       "Jujuy                              26\n",
       "Santa Cruz                         20\n",
       "Santiago Del Estero                 4\n",
       "La Rioja                            4\n",
       "Name: Provincia, dtype: int64"
      ]
     },
     "execution_count": 6,
     "metadata": {},
     "output_type": "execute_result"
    }
   ],
   "source": [
    "df['Provincia'].value_counts()"
   ]
  },
  {
   "cell_type": "markdown",
   "metadata": {},
   "source": [
    "Vemos que en el dataset original existen provincias con muy pocas observaciones. Esto generara que el modelo no pueda predecir correctamente, o del todo, esas provincias."
   ]
  },
  {
   "cell_type": "markdown",
   "metadata": {},
   "source": [
    "### Nos quedamos solo con las observaciones que no tienen valores nulos"
   ]
  },
  {
   "cell_type": "markdown",
   "metadata": {},
   "source": [
    "Prodiamos intentar predecir cualquiera de las variables de precio (en dolares o pesos). Para evaluar que tan bien performan los modelos, vamos a intentar predecir tanto el Precio total en Dolares (Precio_Dls) y el Precio por metro cuadrado en Dolares (Precio_m2_Dls)"
   ]
  },
  {
   "cell_type": "code",
   "execution_count": 7,
   "metadata": {},
   "outputs": [],
   "source": [
    "df_precio = df.drop(['Precio', 'Precio_ARS','Precio_m2_Dls', 'Precio_m2'], axis = 1)\n",
    "\n",
    "df_m2 = df.drop(['Precio', 'Precio_Dolares','Precio_m2', 'Precio_ARS'], axis = 1)"
   ]
  },
  {
   "cell_type": "code",
   "execution_count": 8,
   "metadata": {},
   "outputs": [],
   "source": [
    "df_precio = df_precio.dropna(axis =0 , how = 'any')\n",
    "df_m2 = df_m2.dropna(axis =0 , how = 'any')"
   ]
  },
  {
   "cell_type": "code",
   "execution_count": 9,
   "metadata": {},
   "outputs": [
    {
     "data": {
      "text/plain": [
       "Capital Federal                 21240\n",
       "Bs.As. G.B.A. Zona Norte        14930\n",
       "Buenos Aires Costa Atlántica     7228\n",
       "Bs.As. G.B.A. Zona Sur           6439\n",
       "Bs.As. G.B.A. Zona Oeste         5369\n",
       "Córdoba                          4560\n",
       "Santa Fe                         2855\n",
       "Buenos Aires Interior            1102\n",
       "Corrientes                        307\n",
       "Mendoza                           284\n",
       "Río Negro                         256\n",
       "Neuquén                           224\n",
       "Misiones                          216\n",
       "Tucumán                           103\n",
       "Chubut                             97\n",
       "San Luis                           73\n",
       "Entre Ríos                         58\n",
       "Salta                              57\n",
       "Tierra Del Fuego                   24\n",
       "Chaco                              16\n",
       "Santa Cruz                         10\n",
       "La Pampa                            9\n",
       "Jujuy                               6\n",
       "Catamarca                           4\n",
       "San Juan                            3\n",
       "La Rioja                            2\n",
       "Formosa                             1\n",
       "Santiago Del Estero                 1\n",
       "Name: Provincia, dtype: int64"
      ]
     },
     "execution_count": 9,
     "metadata": {},
     "output_type": "execute_result"
    }
   ],
   "source": [
    "#Dataset Precio total\n",
    "df_precio['Provincia'].value_counts()"
   ]
  },
  {
   "cell_type": "code",
   "execution_count": 10,
   "metadata": {},
   "outputs": [
    {
     "data": {
      "text/plain": [
       "Capital Federal                 17077\n",
       "Bs.As. G.B.A. Zona Norte        10966\n",
       "Buenos Aires Costa Atlántica     5720\n",
       "Bs.As. G.B.A. Zona Sur           3937\n",
       "Bs.As. G.B.A. Zona Oeste         3614\n",
       "Córdoba                          2200\n",
       "Santa Fe                         1979\n",
       "Buenos Aires Interior             698\n",
       "Corrientes                        223\n",
       "Mendoza                           185\n",
       "Neuquén                           176\n",
       "Río Negro                         164\n",
       "Misiones                          162\n",
       "Tucumán                           102\n",
       "Chubut                             91\n",
       "San Luis                           64\n",
       "Entre Ríos                         48\n",
       "Salta                              35\n",
       "Tierra Del Fuego                   24\n",
       "Chaco                              16\n",
       "Santa Cruz                         10\n",
       "La Pampa                            5\n",
       "San Juan                            2\n",
       "La Rioja                            1\n",
       "Formosa                             1\n",
       "Santiago Del Estero                 1\n",
       "Name: Provincia, dtype: int64"
      ]
     },
     "execution_count": 10,
     "metadata": {},
     "output_type": "execute_result"
    }
   ],
   "source": [
    "#Dataset Precio m2\n",
    "df_m2['Provincia'].value_counts()"
   ]
  },
  {
   "cell_type": "markdown",
   "metadata": {},
   "source": [
    "Efectivamente, notamos que al momento de quedarnos solo con las observaciones con todos los valores completos, perdimos Provincias enteras como Formosa, Catamarca y Jujuy.\n",
    "Esto va a causar que al momento de querer realizar una prediccion sobre una propiedad de esa provincia, el modelo prediga incorrectamente.\n",
    "Entendemos que es un error a tener en cuenta. La forma de poder corregirlo seria agregar observaciones al dataset."
   ]
  },
  {
   "cell_type": "markdown",
   "metadata": {},
   "source": [
    "## Modelado\n",
    "\n",
    "Para comenzar el modelado, debemos transformar las variables categoricas en dummies, luego normalizaremos las variables para facilitar la corrida de los distintos modelos.\n",
    "Vamos a modelar primero tratando predecir el Precio total para todo el pais, y luego el precio por metro cuadrado.\n",
    "\n",
    "Finalmente, generaremos modelos mas acotados (a ciertas provincias o zonas) buscando una performance mejor de los modelos"
   ]
  },
  {
   "cell_type": "code",
   "execution_count": 11,
   "metadata": {},
   "outputs": [],
   "source": [
    "#Creamos variables dummies de las variables categoricas\n",
    "\n",
    "#Provincia\n",
    "df_precio = pd.concat([df_precio, pd.get_dummies(data = df_precio['Provincia'], prefix= 'prov')], axis = 1)\n",
    "df_m2 = pd.concat([df_m2, pd.get_dummies(data = df_m2['Provincia'], prefix= 'prov')], axis = 1)\n",
    "\n",
    "#Barrio\n",
    "df_precio = pd.concat([df_precio, pd.get_dummies(data = df_precio['Barrio'], prefix= 'barrio')], axis =1)\n",
    "df_m2 = pd.concat([df_m2, pd.get_dummies(data = df_m2['Barrio'], prefix= 'barrio')], axis = 1)\n",
    "\n",
    "#Tipo Propiedad\n",
    "df_precio = pd.concat([df_precio, pd.get_dummies(data = df_precio['Tipo_Propiedad'], prefix= 'tipo_prop')], axis =1)\n",
    "df_m2 = pd.concat([df_m2, pd.get_dummies(data = df_m2['Tipo_Propiedad'], prefix= 'tipo_prop')], axis = 1)"
   ]
  },
  {
   "cell_type": "code",
   "execution_count": 12,
   "metadata": {},
   "outputs": [],
   "source": [
    "#Dropeo de las columnas originales\n",
    "df_precio = df_precio.drop(['Provincia','Barrio','Tipo_Propiedad'], axis = 1)\n",
    "df_m2 = df_m2.drop(['Provincia','Barrio','Tipo_Propiedad'], axis = 1)"
   ]
  },
  {
   "cell_type": "markdown",
   "metadata": {},
   "source": [
    "#### Importamos todas las librerias necesarias para el modelado"
   ]
  },
  {
   "cell_type": "code",
   "execution_count": 13,
   "metadata": {},
   "outputs": [],
   "source": [
    "from sklearn import linear_model\n",
    "from sklearn.metrics import r2_score\n",
    "from sklearn.model_selection import train_test_split"
   ]
  },
  {
   "cell_type": "markdown",
   "metadata": {},
   "source": [
    "#### Armamos nuestro vector objetivo y nuestra matriz de features"
   ]
  },
  {
   "cell_type": "code",
   "execution_count": 14,
   "metadata": {},
   "outputs": [],
   "source": [
    "#Separamos nuestra matriz de features\n",
    "\n",
    "X = df_precio.drop(['Precio_Dolares'], axis = 1)\n",
    "y = df_precio['Precio_Dolares']"
   ]
  },
  {
   "cell_type": "markdown",
   "metadata": {},
   "source": [
    "#### Separamos los datos en sets de testeo y training"
   ]
  },
  {
   "cell_type": "code",
   "execution_count": 15,
   "metadata": {},
   "outputs": [],
   "source": [
    "#Separamos en train y test\n",
    "X_train, X_test, y_train, y_test = train_test_split(X, y, test_size=0.25, random_state=1)"
   ]
  },
  {
   "cell_type": "markdown",
   "metadata": {},
   "source": [
    "### Regresion Lineal"
   ]
  },
  {
   "cell_type": "code",
   "execution_count": 16,
   "metadata": {},
   "outputs": [
    {
     "name": "stdout",
     "output_type": "stream",
     "text": [
      "Score de Regresion Lineal: 0.5992405833213271\n"
     ]
    }
   ],
   "source": [
    "#Instanciamos el modelo\n",
    "\n",
    "lm = linear_model.LinearRegression()\n",
    "\n",
    "#Entrenamos el modelo\n",
    "reg_lineal = lm.fit(X_train, y_train)\n",
    "\n",
    "#Guardamos el score del modelo en una variable para poder comparar\n",
    "R2_reg_lin_precio = reg_lineal.score(X_test, y_test)\n",
    "\n",
    "#Prediccion con el set de testeo\n",
    "\n",
    "print('Score de Regresion Lineal:', reg_lineal.score(X_test, y_test))"
   ]
  },
  {
   "cell_type": "markdown",
   "metadata": {},
   "source": [
    "#### Como predice el mismo modelo el precio por metro cuadrado?"
   ]
  },
  {
   "cell_type": "code",
   "execution_count": 17,
   "metadata": {},
   "outputs": [],
   "source": [
    "#Separamos nuestra matriz de features\n",
    "\n",
    "X_m2 = df_m2.drop(['Precio_m2_Dls'], axis = 1)\n",
    "y_m2 = df_m2['Precio_m2_Dls']"
   ]
  },
  {
   "cell_type": "code",
   "execution_count": 18,
   "metadata": {},
   "outputs": [],
   "source": [
    "#Separamos en train y test\n",
    "X_train_m2, X_test_m2, y_train_m2, y_test_m2 = train_test_split(X_m2, y_m2, test_size=0.25, random_state=1)"
   ]
  },
  {
   "cell_type": "code",
   "execution_count": 19,
   "metadata": {},
   "outputs": [
    {
     "name": "stdout",
     "output_type": "stream",
     "text": [
      "Score de Regresion Lineal: 0.5986858105824328\n"
     ]
    }
   ],
   "source": [
    "#Instanciamos el modelo\n",
    "\n",
    "lm_m2 = linear_model.LinearRegression()\n",
    "\n",
    "#Entrenamos el modelo\n",
    "reg_lineal_m2 = lm_m2.fit(X_train_m2, y_train_m2)\n",
    "\n",
    "#Guardamos el score del modelo en una variable para poder comparar\n",
    "R2_reg_lin_m2 = reg_lineal_m2.score(X_test_m2, y_test_m2)\n",
    "\n",
    "#Prediccion con el set de testeo\n",
    "\n",
    "print('Score de Regresion Lineal:', reg_lineal_m2.score(X_test_m2, y_test_m2))"
   ]
  },
  {
   "cell_type": "markdown",
   "metadata": {},
   "source": [
    "### Comparemos los resultados de los dos modelos"
   ]
  },
  {
   "cell_type": "code",
   "execution_count": 20,
   "metadata": {},
   "outputs": [
    {
     "name": "stdout",
     "output_type": "stream",
     "text": [
      "R2 Modelo Precio:  0.5992405833213271\n",
      "Ordenada al origen Modelo Precio:  10442.482461870997\n",
      "R2 Modelo Precio_m2:  0.5986858105824328\n",
      "Ordenada al origen Modelo m2:  453.6718199203351\n"
     ]
    }
   ],
   "source": [
    "print('R2 Modelo Precio: ',R2_reg_lin_precio)\n",
    "print('Ordenada al origen Modelo Precio: ',reg_lineal.intercept_)\n",
    "print('R2 Modelo Precio_m2: ', R2_reg_lin_m2)\n",
    "print('Ordenada al origen Modelo m2: ',reg_lineal_m2.intercept_)"
   ]
  },
  {
   "cell_type": "code",
   "execution_count": 21,
   "metadata": {},
   "outputs": [],
   "source": [
    "#Creamos un diccionario con la informacion para luego amar un dataframe y comparar los modelos\n",
    "\n",
    "rl_argentina_precio = {'Modelo': \"Regresion Lineal\",\n",
    "                        'Alcance del modelo': 'Nacional',\n",
    "                        'Variable Obejtivo': 'Precio_Dolares',\n",
    "                        'Cantidad de Observaciones': len(df_precio),\n",
    "                        'R2': R2_reg_lin_precio,\n",
    "                        'Intercepto': reg_lineal.intercept_}\n",
    "\n",
    "rl_argentina_m2 = {'Modelo': \"Regresion Lineal\",\n",
    "                    'Alcance del modelo': 'Nacional',\n",
    "                    'Variable Obejtivo': 'Precio_m2_Dls',\n",
    "                    'Cantidad de Observaciones': len(df_m2),\n",
    "                    'R2': R2_reg_lin_m2,\n",
    "                    'Intercepto': reg_lineal_m2.intercept_}"
   ]
  },
  {
   "cell_type": "markdown",
   "metadata": {},
   "source": [
    "El modelo de regresion lineal multiple es demasiado simple para poder obtener un insight lo suficientemente convincente, por lo cual vamos a aplicar dos modelos que incluyen tecnicas de regularizacion: Ridge y Lasso"
   ]
  },
  {
   "cell_type": "markdown",
   "metadata": {},
   "source": [
    "### Primero debemos normalizar las features.\n",
    "Las variables dummies no es necesario que sean normalizadas ya que son variables dicotomicas (0 o 1).\n",
    "\n",
    "Recordemos que nuestros sets de training y testeo quedaron definidos de la siguiente manera:\n",
    "\n",
    "`X_train, X_test, y_train, y_test`: Para el modelar el Precio_ARS\n",
    "\n",
    "`X_train_m2, X_test_m2, y_train_m2, y_test_m2`: Para modelar el Precio_m2"
   ]
  },
  {
   "cell_type": "code",
   "execution_count": 22,
   "metadata": {},
   "outputs": [],
   "source": [
    "#Importamos StandardScaler para normalizar las variables\n",
    "from sklearn.preprocessing import StandardScaler\n",
    "scaler_precio = StandardScaler()\n",
    "X_train = scaler_precio.fit_transform(X_train)"
   ]
  },
  {
   "cell_type": "code",
   "execution_count": 23,
   "metadata": {
    "scrolled": true
   },
   "outputs": [
    {
     "name": "stdout",
     "output_type": "stream",
     "text": [
      "media: 6.598258578690677e-17\n",
      "desvio: 1.0\n"
     ]
    }
   ],
   "source": [
    "print('media:',np.mean(X_train[:,1]))\n",
    "print('desvio:',np.std(X_train[:,1]))"
   ]
  },
  {
   "cell_type": "markdown",
   "metadata": {},
   "source": [
    "## Regresion Lineal Ridge"
   ]
  },
  {
   "cell_type": "code",
   "execution_count": 24,
   "metadata": {},
   "outputs": [
    {
     "name": "stdout",
     "output_type": "stream",
     "text": [
      "Score del modelo Ridge: 0.5988589316822037\n"
     ]
    }
   ],
   "source": [
    "#Instanciamos el modelo\n",
    "\n",
    "lm_ridge =  linear_model.RidgeCV(alphas= np.linspace(0.1, 100, 10), cv=5)\n",
    "\n",
    "#Entrenamos el modelo\n",
    "reg_lineal_ridge = lm_ridge.fit(X_train, y_train)\n",
    "\n",
    "# Lo utilizamos para predecir en test\n",
    "X_test = scaler_precio.transform(X_test)\n",
    "\n",
    "#Guardamos el score en una variable\n",
    "score_ridge_precio = reg_lineal_ridge.score(X_test, y_test)\n",
    "\n",
    "#Prediccion con el set de testeo\n",
    "\n",
    "print('Score del modelo Ridge:', reg_lineal_ridge.score(X_test, y_test))"
   ]
  },
  {
   "cell_type": "markdown",
   "metadata": {},
   "source": [
    "#### Como predice el mismo modelo el precio por metro cuadrado?"
   ]
  },
  {
   "cell_type": "code",
   "execution_count": 25,
   "metadata": {},
   "outputs": [],
   "source": [
    "#Normalizamos las features\n",
    "\n",
    "scaler_m2 = StandardScaler()\n",
    "X_train_m2 = scaler_m2.fit_transform(X_train_m2)"
   ]
  },
  {
   "cell_type": "code",
   "execution_count": 26,
   "metadata": {},
   "outputs": [
    {
     "name": "stdout",
     "output_type": "stream",
     "text": [
      "media: -5.90373753782427e-17\n",
      "desvio: 0.9999999999999999\n"
     ]
    }
   ],
   "source": [
    "print('media:',np.mean(X_train_m2[:,1]))\n",
    "print('desvio:',np.std(X_train_m2[:,1]))"
   ]
  },
  {
   "cell_type": "code",
   "execution_count": 27,
   "metadata": {},
   "outputs": [
    {
     "name": "stdout",
     "output_type": "stream",
     "text": [
      "Score del modelo Ridge: 0.6007747101690142\n"
     ]
    }
   ],
   "source": [
    "#Instanciamos el modelo\n",
    "lm_ridge_m2 =  linear_model.RidgeCV(alphas=np.linspace(0.1, 100, 10), cv=5)\n",
    "\n",
    "#Entrenamos el modelo\n",
    "reg_lineal_ridge_m2 = lm_ridge_m2.fit(X_train_m2, y_train_m2)\n",
    "\n",
    "# Lo utilizamos para predecir en test\n",
    "X_test_m2 = scaler_m2.transform(X_test_m2)\n",
    "\n",
    "score_ridge_m2 = reg_lineal_ridge_m2.score(X_test_m2, y_test_m2)\n",
    "\n",
    "#Prediccion con el set de testeo\n",
    "print('Score del modelo Ridge:', reg_lineal_ridge_m2.score(X_test_m2, y_test_m2))"
   ]
  },
  {
   "cell_type": "markdown",
   "metadata": {},
   "source": [
    "### Comparemos los resultados de los dos modelos"
   ]
  },
  {
   "cell_type": "code",
   "execution_count": 28,
   "metadata": {},
   "outputs": [
    {
     "name": "stdout",
     "output_type": "stream",
     "text": [
      "Score Ridge Precio:  0.5988589316822037\n",
      "Alpha Ridge Precio:  11.200000000000001\n",
      "Ordenada al origen Precio:  191657.77238102024\n",
      "Score Ridge m2:  0.6007747101690142\n",
      "Alpha Ridge m2:  100.0\n",
      "Ordenada al origen m2:  1958.659124290539\n"
     ]
    }
   ],
   "source": [
    "print('Score Ridge Precio: ', score_ridge_precio)\n",
    "print('Alpha Ridge Precio: ', reg_lineal_ridge.alpha_)\n",
    "print('Ordenada al origen Precio: ', reg_lineal_ridge.intercept_)\n",
    "print('Score Ridge m2: ', score_ridge_m2)\n",
    "print('Alpha Ridge m2: ', reg_lineal_ridge_m2.alpha_)\n",
    "print('Ordenada al origen m2: ', reg_lineal_ridge_m2.intercept_)"
   ]
  },
  {
   "cell_type": "code",
   "execution_count": 29,
   "metadata": {},
   "outputs": [],
   "source": [
    "#Creamos un diccionario para luego mostrar los datos en un dataframe\n",
    "\n",
    "ridge_argentina_precio = {'Modelo': \"Regresion Lineal Ridge\",\n",
    "                          'Alcance del modelo': 'Nacional',\n",
    "                          'Variable Obejtivo': 'Precio_Dolares',\n",
    "                          'Cantidad de Observaciones': len(df_precio),\n",
    "                          'R2': score_ridge_precio,\n",
    "                          'Intercepto': reg_lineal_ridge.intercept_,\n",
    "                          'Alpha del modelo': reg_lineal_ridge.alpha_}\n",
    "\n",
    "ridge_argentina_m2 = {'Modelo': \"Regresion Lineal Ridge\",\n",
    "                       'Alcance del modelo': 'Nacional',                      \n",
    "                       'Variable Obejtivo': 'Precio_m2_Dls',\n",
    "                       'Cantidad de Observaciones': len(df_m2),\n",
    "                       'R2': score_ridge_m2,\n",
    "                       'Intercepto': reg_lineal_ridge_m2.intercept_,\n",
    "                       'Alpha del modelo': reg_lineal_ridge_m2.alpha_}"
   ]
  },
  {
   "cell_type": "markdown",
   "metadata": {},
   "source": [
    "## Regresion Lasso"
   ]
  },
  {
   "cell_type": "code",
   "execution_count": 30,
   "metadata": {},
   "outputs": [
    {
     "name": "stderr",
     "output_type": "stream",
     "text": [
      "C:\\Users\\Ramiro\\Anaconda3\\lib\\site-packages\\sklearn\\linear_model\\coordinate_descent.py:491: ConvergenceWarning: Objective did not converge. You might want to increase the number of iterations. Fitting data with very small alpha may cause precision problems.\n",
      "  ConvergenceWarning)\n"
     ]
    },
    {
     "name": "stdout",
     "output_type": "stream",
     "text": [
      "Score del modelo Lasso: 0.5990231831722954\n"
     ]
    }
   ],
   "source": [
    "#Instanciamos el modelo\n",
    "lm_lasso =  linear_model.LassoCV(alphas=np.linspace(0.1, 100, 10), cv = 5)\n",
    "\n",
    "#Entrenamos el modelo\n",
    "reg_lineal_lasso = lm_lasso.fit(X_train, y_train)\n",
    "\n",
    "#Guardamos el score\n",
    "score_lasso_precio = reg_lineal_lasso.score(X_test, y_test)\n",
    "\n",
    "print('Score del modelo Lasso:', reg_lineal_lasso.score(X_test, y_test))"
   ]
  },
  {
   "cell_type": "markdown",
   "metadata": {},
   "source": [
    "#### Como funciona el modelo para el precio por metro cuadrado?"
   ]
  },
  {
   "cell_type": "code",
   "execution_count": 31,
   "metadata": {},
   "outputs": [
    {
     "name": "stderr",
     "output_type": "stream",
     "text": [
      "C:\\Users\\Ramiro\\Anaconda3\\lib\\site-packages\\sklearn\\linear_model\\coordinate_descent.py:491: ConvergenceWarning: Objective did not converge. You might want to increase the number of iterations. Fitting data with very small alpha may cause precision problems.\n",
      "  ConvergenceWarning)\n"
     ]
    },
    {
     "name": "stdout",
     "output_type": "stream",
     "text": [
      "Score del modelo Lasso: 0.6008380750304019\n"
     ]
    },
    {
     "name": "stderr",
     "output_type": "stream",
     "text": [
      "C:\\Users\\Ramiro\\Anaconda3\\lib\\site-packages\\sklearn\\linear_model\\coordinate_descent.py:491: ConvergenceWarning: Objective did not converge. You might want to increase the number of iterations. Fitting data with very small alpha may cause precision problems.\n",
      "  ConvergenceWarning)\n"
     ]
    }
   ],
   "source": [
    "#Instanciamos el modelo\n",
    "lm_lasso_m2 =  linear_model.LassoCV(alphas=np.linspace(0.1, 100, 10), cv = 5)\n",
    "\n",
    "#Entrenamos el modelo\n",
    "reg_lineal_lasso_m2 = lm_lasso_m2.fit(X_train_m2, y_train_m2)\n",
    "\n",
    "#Guardamos el score\n",
    "score_lasso_m2 = reg_lineal_lasso_m2.score(X_test_m2, y_test_m2)\n",
    "\n",
    "print('Score del modelo Lasso:', reg_lineal_lasso_m2.score(X_test_m2, y_test_m2))"
   ]
  },
  {
   "cell_type": "code",
   "execution_count": 32,
   "metadata": {},
   "outputs": [
    {
     "name": "stdout",
     "output_type": "stream",
     "text": [
      "Score Lasso Precio:  0.5990231831722954\n",
      "Ordenada al origen Lasso Precio:  191657.77238102024\n",
      "Alpha Lasso Precio:  100.0\n",
      "Score Lasso m2:  0.6008380750304019\n",
      "Ordenada al origen Lasso m2:  1958.659124290539\n",
      "Alpha Lasso m2:  0.1\n"
     ]
    }
   ],
   "source": [
    "print('Score Lasso Precio: ', score_lasso_precio)\n",
    "print('Ordenada al origen Lasso Precio: ', reg_lineal_lasso.intercept_)\n",
    "print('Alpha Lasso Precio: ', reg_lineal_lasso.alpha_)\n",
    "print('Score Lasso m2: ', score_lasso_m2)\n",
    "print('Ordenada al origen Lasso m2: ', reg_lineal_lasso_m2.intercept_)\n",
    "print('Alpha Lasso m2: ', reg_lineal_lasso_m2.alpha_)"
   ]
  },
  {
   "cell_type": "code",
   "execution_count": 33,
   "metadata": {},
   "outputs": [],
   "source": [
    "#Creamos un diccionario para luego mostrar los datos en un dataframe\n",
    "\n",
    "lasso_argentina_precio = {'Modelo': \"Regresion Lineal Lasso\",\n",
    "                          'Alcance del modelo': 'Nacional',\n",
    "                          'Variable Obejtivo': 'Precio_Dolares',\n",
    "                          'Cantidad de Observaciones': len(df_precio),\n",
    "                          'R2': score_lasso_precio,\n",
    "                          'Intercepto': reg_lineal_lasso.intercept_,\n",
    "                          'Alpha del modelo': reg_lineal_lasso.alpha_}\n",
    "\n",
    "lasso_argentina_m2 = {'Modelo': \"Regresion Lineal Lasso\",\n",
    "                       'Alcance del modelo': 'Nacional',                      \n",
    "                       'Variable Obejtivo': 'Precio_m2_Dls',\n",
    "                       'Cantidad de Observaciones': len(df_m2),\n",
    "                       'R2': score_lasso_m2,\n",
    "                       'Intercepto': reg_lineal_lasso_m2.intercept_,\n",
    "                       'Alpha del modelo': reg_lineal_lasso_m2.alpha_}"
   ]
  },
  {
   "cell_type": "markdown",
   "metadata": {},
   "source": [
    "## Elastic Net"
   ]
  },
  {
   "cell_type": "code",
   "execution_count": 34,
   "metadata": {},
   "outputs": [
    {
     "name": "stdout",
     "output_type": "stream",
     "text": [
      "Score del modelo Elastic Net: 0.5990741635847627\n"
     ]
    }
   ],
   "source": [
    "#Instanciamos el modelo\n",
    "\n",
    "lm_elastic_net =  linear_model.ElasticNetCV(l1_ratio= [.1, .5, .7, .9, .95, .99, 1],cv = 5)\n",
    "\n",
    "#Entrenamos el modelo\n",
    "elastic_net = lm_elastic_net.fit(X_train, y_train)\n",
    "\n",
    "#Guardamos el score\n",
    "score_EN = elastic_net.score(X_test, y_test)\n",
    "\n",
    "#Prediccion con el set de testeo\n",
    "\n",
    "print('Score del modelo Elastic Net:', elastic_net.score(X_test, y_test))"
   ]
  },
  {
   "cell_type": "markdown",
   "metadata": {},
   "source": [
    "### Como funciona el modelo para el precio por metro cuadrado?"
   ]
  },
  {
   "cell_type": "code",
   "execution_count": 35,
   "metadata": {},
   "outputs": [
    {
     "name": "stdout",
     "output_type": "stream",
     "text": [
      "Score del modelo Elastic Net: 0.5932213724205312\n"
     ]
    }
   ],
   "source": [
    "#Instanciamos el modelo\n",
    "\n",
    "lm_elastic_net_m2 =  linear_model.ElasticNetCV(l1_ratio= [.1, .5, .7, .9, .95, .99, 1], alphas = [10, 100, 1000],cv = 5)\n",
    "\n",
    "#Entrenamos el modelo\n",
    "elastic_net_m2 = lm_elastic_net_m2.fit(X_train_m2, y_train_m2)\n",
    "\n",
    "#Guardamos el score\n",
    "score_EN_m2 = elastic_net_m2.score(X_test_m2, y_test_m2)\n",
    "\n",
    "#Prediccion con el set de testeo\n",
    "\n",
    "print('Score del modelo Elastic Net:', elastic_net_m2.score(X_test_m2, y_test_m2))"
   ]
  },
  {
   "cell_type": "code",
   "execution_count": 36,
   "metadata": {},
   "outputs": [
    {
     "name": "stdout",
     "output_type": "stream",
     "text": [
      "Score Elastic Net Precio:  0.5990741635847627\n",
      "Alpha Elastic Net Precio:  135.7696116419318\n",
      "l1_ratio Elastic Net Precio:  1.0\n",
      "Score Elastic Net m2:  0.5932213724205312\n",
      "Alpha Elastic Net m2:  10\n",
      "l1_ratio Elastic Net m2:  1.0\n"
     ]
    }
   ],
   "source": [
    "print('Score Elastic Net Precio: ', score_EN)\n",
    "print('Alpha Elastic Net Precio: ', elastic_net.alpha_)\n",
    "print('l1_ratio Elastic Net Precio: ', elastic_net.l1_ratio_)\n",
    "print('Score Elastic Net m2: ', score_EN_m2)\n",
    "print('Alpha Elastic Net m2: ', elastic_net_m2.alpha_)\n",
    "print('l1_ratio Elastic Net m2: ', elastic_net_m2.l1_ratio_)"
   ]
  },
  {
   "cell_type": "code",
   "execution_count": 37,
   "metadata": {},
   "outputs": [],
   "source": [
    "#Creamos un diccionario para luego mostrar los datos en un dataframe\n",
    "\n",
    "EN_argentina_precio = {'Modelo': \"Elastic Net\",\n",
    "                        'Alcance del modelo': 'Nacional',\n",
    "                        'Variable Obejtivo': 'Precio_Dolares',\n",
    "                        'Cantidad de Observaciones': len(df_precio),\n",
    "                        'R2': score_EN,\n",
    "                        'Intercepto': elastic_net.intercept_,\n",
    "                        'Alpha del modelo': elastic_net.alpha_,\n",
    "                        'l1_ratio': elastic_net.l1_ratio_}\n",
    "\n",
    "EN_argentina_m2 = {'Modelo': \"Elastic Net\",\n",
    "                    'Alcance del modelo': 'Nacional',                      \n",
    "                    'Variable Obejtivo': 'Precio_m2_Dls',\n",
    "                    'Cantidad de Observaciones': len(df_m2),\n",
    "                    'R2': score_EN_m2,\n",
    "                    'Intercepto': elastic_net_m2.intercept_,\n",
    "                    'Alpha del modelo': elastic_net_m2.alpha_,\n",
    "                    'l1_ratio': elastic_net_m2.l1_ratio_}"
   ]
  },
  {
   "cell_type": "markdown",
   "metadata": {},
   "source": [
    "# Modelo para Capital"
   ]
  },
  {
   "cell_type": "code",
   "execution_count": 38,
   "metadata": {},
   "outputs": [],
   "source": [
    "df_cap = df.loc[df['Provincia']=='Capital Federal']\n"
   ]
  },
  {
   "cell_type": "code",
   "execution_count": 39,
   "metadata": {},
   "outputs": [],
   "source": [
    "Cap_precio = df_cap.drop(['Precio', 'Precio_ARS','Precio_m2_Dls', 'Precio_m2'], axis = 1)\n",
    "\n",
    "Cap_m2 = df_cap.drop(['Precio', 'Precio_Dolares','Precio_m2', 'Precio_ARS'], axis = 1)"
   ]
  },
  {
   "cell_type": "code",
   "execution_count": 40,
   "metadata": {},
   "outputs": [],
   "source": [
    "Cap_precio = Cap_precio.dropna(axis =0 , how = 'any')\n",
    "Cap_m2 = Cap_m2.dropna(axis =0 , how = 'any')"
   ]
  },
  {
   "cell_type": "code",
   "execution_count": 41,
   "metadata": {},
   "outputs": [],
   "source": [
    "#Creamos variables dummies de las variables categoricas\n",
    "\n",
    "#Barrio\n",
    "Cap_precio = pd.concat([Cap_precio, pd.get_dummies(data = Cap_precio['Barrio'], prefix= 'barrio')], axis =1)\n",
    "Cap_m2 = pd.concat([Cap_m2, pd.get_dummies(data = Cap_m2['Barrio'], prefix= 'barrio')], axis = 1)\n",
    "\n",
    "#Tipo Propiedad\n",
    "Cap_precio = pd.concat([Cap_precio, pd.get_dummies(data = Cap_precio['Tipo_Propiedad'], prefix= 'tipo_prop')], axis =1)\n",
    "Cap_m2 = pd.concat([Cap_m2, pd.get_dummies(data = Cap_m2['Tipo_Propiedad'], prefix= 'tipo_prop')], axis = 1)"
   ]
  },
  {
   "cell_type": "code",
   "execution_count": 42,
   "metadata": {},
   "outputs": [],
   "source": [
    "#Dropeo de las columnas originales\n",
    "Cap_precio = Cap_precio.drop(['Provincia','Barrio','Tipo_Propiedad'], axis = 1)\n",
    "Cap_m2 = Cap_m2.drop(['Provincia','Barrio','Tipo_Propiedad'], axis = 1)"
   ]
  },
  {
   "cell_type": "code",
   "execution_count": 43,
   "metadata": {},
   "outputs": [],
   "source": [
    "#Separamos nuestra matriz de features\n",
    "\n",
    "X_Cap = Cap_precio.drop(['Precio_Dolares'], axis = 1)\n",
    "y_Cap = Cap_precio['Precio_Dolares']"
   ]
  },
  {
   "cell_type": "markdown",
   "metadata": {},
   "source": [
    "#### Separamos los datos en sets de testeo y training"
   ]
  },
  {
   "cell_type": "code",
   "execution_count": 44,
   "metadata": {},
   "outputs": [],
   "source": [
    "#Separamos en train y test\n",
    "X_train, X_test, y_train, y_test = train_test_split(X_Cap, y_Cap, test_size=0.10, random_state=1)"
   ]
  },
  {
   "cell_type": "markdown",
   "metadata": {},
   "source": [
    "### Regresion Lineal"
   ]
  },
  {
   "cell_type": "code",
   "execution_count": 45,
   "metadata": {},
   "outputs": [
    {
     "name": "stdout",
     "output_type": "stream",
     "text": [
      "Score del Regresion Lineal: 0.5887793700094165\n"
     ]
    }
   ],
   "source": [
    "#Instanciamos el modelo\n",
    "\n",
    "lm_Cap = linear_model.LinearRegression()\n",
    "\n",
    "#Entrenamos el modelo\n",
    "reg_lineal_Cap = lm_Cap.fit(X_train, y_train)\n",
    "\n",
    "#Guardamos el score del modelo en una variable para poder comparar\n",
    "R2_reg_lin_precio_Cap = reg_lineal_Cap.score(X_test, y_test)\n",
    "\n",
    "#Prediccion con el set de testeo\n",
    "\n",
    "print('Score del Regresion Lineal:', reg_lineal_Cap.score(X_test, y_test))"
   ]
  },
  {
   "cell_type": "markdown",
   "metadata": {},
   "source": [
    "#### Como predice el mismo modelo el precio por metro cuadrado?"
   ]
  },
  {
   "cell_type": "code",
   "execution_count": 46,
   "metadata": {},
   "outputs": [],
   "source": [
    "#Separamos nuestra matriz de features\n",
    "\n",
    "X_Cap_m2 = Cap_m2.drop(['Precio_m2_Dls'], axis = 1)\n",
    "y_Cap_m2 = Cap_m2['Precio_m2_Dls']"
   ]
  },
  {
   "cell_type": "code",
   "execution_count": 47,
   "metadata": {},
   "outputs": [],
   "source": [
    "#Separamos en train y test\n",
    "X_train_cap_m2, X_test_cap_m2, y_train_cap_m2, y_test_cap_m2 = train_test_split(X_Cap_m2, y_Cap_m2, test_size=0.10, random_state=1)"
   ]
  },
  {
   "cell_type": "code",
   "execution_count": 48,
   "metadata": {},
   "outputs": [
    {
     "name": "stdout",
     "output_type": "stream",
     "text": [
      "Score del Regresion Lineal: 0.4939090135025794\n"
     ]
    }
   ],
   "source": [
    "#Instanciamos el modelo\n",
    "\n",
    "lm_Cap_m2 = linear_model.LinearRegression()\n",
    "\n",
    "#Entrenamos el modelo\n",
    "reg_lineal_Cap_m2 = lm_Cap_m2.fit(X_train_cap_m2, y_train_cap_m2)\n",
    "\n",
    "#Guardamos el score del modelo en una variable para poder comparar\n",
    "R2_reg_lin_Cap_m2 = reg_lineal_Cap_m2.score(X_test_cap_m2, y_test_cap_m2)\n",
    "\n",
    "#Prediccion con el set de testeo\n",
    "\n",
    "print('Score del Regresion Lineal:', reg_lineal_Cap_m2.score(X_test_cap_m2, y_test_cap_m2))"
   ]
  },
  {
   "cell_type": "code",
   "execution_count": 49,
   "metadata": {},
   "outputs": [],
   "source": [
    "#Creamos un diccionario con la informacion para luego amar un dataframe y comparar los modelos\n",
    "\n",
    "rl_capital_precio = {'Modelo': \"Regresion Lineal\",\n",
    "                        'Alcance del modelo': 'Capital Federal',\n",
    "                        'Variable Obejtivo': 'Precio_Dolares',\n",
    "                        'Cantidad de Observaciones': len(Cap_precio),\n",
    "                        'R2': R2_reg_lin_precio_Cap,\n",
    "                        'Intercepto': reg_lineal_Cap.intercept_}\n",
    "\n",
    "rl_capital_m2 = {'Modelo': \"Regresion Lineal\",\n",
    "                    'Alcance del modelo': 'Capital Federal',\n",
    "                    'Variable Obejtivo': 'Precio_m2_Dls',\n",
    "                    'Cantidad de Observaciones': len(Cap_m2),\n",
    "                    'R2': R2_reg_lin_Cap_m2,\n",
    "                    'Intercepto': reg_lineal_Cap_m2.intercept_}"
   ]
  },
  {
   "cell_type": "markdown",
   "metadata": {},
   "source": [
    "## Regresion Lineal Ridge para Capital"
   ]
  },
  {
   "cell_type": "markdown",
   "metadata": {},
   "source": [
    "Recordemos que nuestros sets de training y testeo quedaron definidos de la siguiente manera:\n",
    "\n",
    "`X_train, X_test, y_train, y_test`: Para el modelar el Precio_ARS\n",
    "\n",
    "`X_train_cap_m2, X_test_cap_m2, y_train_cap_m2, y_test_cap_m2`: Para modelar el Precio_m2"
   ]
  },
  {
   "cell_type": "code",
   "execution_count": 50,
   "metadata": {},
   "outputs": [
    {
     "name": "stdout",
     "output_type": "stream",
     "text": [
      "media: 2.9736042509315765e-18\n",
      "desvio: 1.0\n"
     ]
    }
   ],
   "source": [
    "#Normalizamos X_train\n",
    "scaler_precio_cap = StandardScaler()\n",
    "X_train = scaler_precio_cap.fit_transform(X_train)\n",
    "\n",
    "#Chequeamos la media y el desvio\n",
    "print('media:',np.mean(X_train[:,1]))\n",
    "print('desvio:',np.std(X_train[:,1]))"
   ]
  },
  {
   "cell_type": "code",
   "execution_count": 51,
   "metadata": {},
   "outputs": [
    {
     "name": "stdout",
     "output_type": "stream",
     "text": [
      "Score del modelo Ridge: 0.5886948295901331\n"
     ]
    }
   ],
   "source": [
    "#Instanciamos el modelo\n",
    "lm_ridge_cap_precio =  linear_model.RidgeCV(alphas= np.linspace(0.1, 100, 10), cv=5)\n",
    "\n",
    "#Entrenamos el modelo\n",
    "reg_lineal_ridge_cap_precio = lm_ridge_cap_precio.fit(X_train, y_train)\n",
    "\n",
    "# Lo utilizamos para predecir en test\n",
    "X_test = scaler_precio_cap.transform(X_test)\n",
    "\n",
    "#Guardamos el score en una variable\n",
    "score_ridge_cap_precio = reg_lineal_ridge_cap_precio.score(X_test, y_test)\n",
    "\n",
    "#Prediccion con el set de testeo\n",
    "print('Score del modelo Ridge:', reg_lineal_ridge_cap_precio.score(X_test, y_test))"
   ]
  },
  {
   "cell_type": "markdown",
   "metadata": {},
   "source": [
    "#### Como predice el mismo modelo el precio por metro cuadrado?"
   ]
  },
  {
   "cell_type": "code",
   "execution_count": 52,
   "metadata": {},
   "outputs": [
    {
     "name": "stdout",
     "output_type": "stream",
     "text": [
      "media: -8.460493242507537e-17\n",
      "desvio: 0.9999999999999999\n"
     ]
    }
   ],
   "source": [
    "#Normalizamos las features\n",
    "\n",
    "scaler_cap_m2 = StandardScaler()\n",
    "X_train_cap_m2 = scaler_cap_m2.fit_transform(X_train_cap_m2)\n",
    "\n",
    "#Chequeamos la media y el desvio\n",
    "print('media:',np.mean(X_train_cap_m2[:,1]))\n",
    "print('desvio:',np.std(X_train_cap_m2[:,1]))"
   ]
  },
  {
   "cell_type": "code",
   "execution_count": 53,
   "metadata": {},
   "outputs": [
    {
     "name": "stdout",
     "output_type": "stream",
     "text": [
      "Score del modelo Ridge: 0.4937366838481044\n"
     ]
    }
   ],
   "source": [
    "#Instanciamos el modelo\n",
    "lm_ridge_cap_m2 =  linear_model.RidgeCV(alphas=np.linspace(0.1, 100, 10), cv=5)\n",
    "\n",
    "#Entrenamos el modelo\n",
    "reg_lineal_ridge_cap_m2 = lm_ridge_cap_m2.fit(X_train_cap_m2, y_train_cap_m2)\n",
    "\n",
    "# Lo utilizamos para predecir en test\n",
    "X_test_cap_m2 = scaler_cap_m2.transform(X_test_cap_m2)\n",
    "\n",
    "score_ridge_cap_m2 = reg_lineal_ridge_cap_m2.score(X_test_cap_m2, y_test_cap_m2)\n",
    "\n",
    "#Prediccion con el set de testeo\n",
    "print('Score del modelo Ridge:', reg_lineal_ridge_cap_m2.score(X_test_cap_m2, y_test_cap_m2))"
   ]
  },
  {
   "cell_type": "code",
   "execution_count": 54,
   "metadata": {},
   "outputs": [
    {
     "name": "stdout",
     "output_type": "stream",
     "text": [
      "Score Ridge Precio:  0.5886948295901331\n",
      "Alpha Ridge Precio:  55.60000000000001\n",
      "Score Ridge m2:  0.4937366838481044\n",
      "Alpha Ridge m2:  33.400000000000006\n"
     ]
    }
   ],
   "source": [
    "print('Score Ridge Precio: ', score_ridge_cap_precio)\n",
    "print('Alpha Ridge Precio: ', reg_lineal_ridge_cap_precio.alpha_)\n",
    "print('Score Ridge m2: ', score_ridge_cap_m2)\n",
    "print('Alpha Ridge m2: ', reg_lineal_ridge_cap_m2.alpha_)"
   ]
  },
  {
   "cell_type": "code",
   "execution_count": 55,
   "metadata": {},
   "outputs": [],
   "source": [
    "#Creamos un diccionario con la informacion para luego amar un dataframe y comparar los modelos\n",
    "\n",
    "ridge_capital_precio = {'Modelo': \"Regresion Lineal Ridge\",\n",
    "                        'Alcance del modelo': 'Capital Federal',\n",
    "                        'Variable Obejtivo': 'Precio_Dolares',\n",
    "                        'Cantidad de Observaciones': len(Cap_precio),\n",
    "                        'R2': score_ridge_cap_precio,\n",
    "                        'Intercepto': reg_lineal_ridge_cap_precio.intercept_,\n",
    "                        'Alpha del modelo': reg_lineal_ridge_cap_precio.alpha_}\n",
    "\n",
    "ridge_capital_m2 = {'Modelo': \"Regresion Lineal Ridge\",\n",
    "                    'Alcance del modelo': 'Capital Federal',\n",
    "                    'Variable Obejtivo': 'Precio_m2_Dls',\n",
    "                    'Cantidad de Observaciones': len(Cap_m2),\n",
    "                    'R2': score_ridge_cap_m2,\n",
    "                    'Intercepto': reg_lineal_ridge_cap_m2.intercept_,\n",
    "                    'Alpha del modelo': reg_lineal_ridge_cap_m2.alpha_}"
   ]
  },
  {
   "cell_type": "markdown",
   "metadata": {},
   "source": [
    "## Regresion Lasso para Capital"
   ]
  },
  {
   "cell_type": "code",
   "execution_count": 56,
   "metadata": {},
   "outputs": [
    {
     "name": "stdout",
     "output_type": "stream",
     "text": [
      "Score del modelo Lasso: 0.5888192479365155\n"
     ]
    }
   ],
   "source": [
    "#Instanciamos el modelo\n",
    "lm_lasso_cap =  linear_model.LassoCV(alphas=np.linspace(0.1, 100, 10), cv = 5)\n",
    "\n",
    "#Entrenamos el modelo\n",
    "reg_lineal_lasso_cap = lm_lasso_cap.fit(X_train, y_train)\n",
    "\n",
    "#Guardamos el score\n",
    "score_lasso_cap_precio = reg_lineal_lasso_cap.score(X_test, y_test)\n",
    "\n",
    "print('Score del modelo Lasso:', reg_lineal_lasso_cap.score(X_test, y_test))"
   ]
  },
  {
   "cell_type": "code",
   "execution_count": 57,
   "metadata": {},
   "outputs": [
    {
     "name": "stderr",
     "output_type": "stream",
     "text": [
      "C:\\Users\\Ramiro\\Anaconda3\\lib\\site-packages\\sklearn\\linear_model\\coordinate_descent.py:491: ConvergenceWarning: Objective did not converge. You might want to increase the number of iterations. Fitting data with very small alpha may cause precision problems.\n",
      "  ConvergenceWarning)\n"
     ]
    },
    {
     "name": "stdout",
     "output_type": "stream",
     "text": [
      "Score del modelo Lasso: 0.6008380750304019\n"
     ]
    },
    {
     "name": "stderr",
     "output_type": "stream",
     "text": [
      "C:\\Users\\Ramiro\\Anaconda3\\lib\\site-packages\\sklearn\\linear_model\\coordinate_descent.py:491: ConvergenceWarning: Objective did not converge. You might want to increase the number of iterations. Fitting data with very small alpha may cause precision problems.\n",
      "  ConvergenceWarning)\n"
     ]
    }
   ],
   "source": [
    "#Instanciamos el modelo\n",
    "lm_lasso_cap_m2 =  linear_model.LassoCV(alphas=np.linspace(0.1, 100, 10), cv = 5)\n",
    "\n",
    "#Entrenamos el modelo\n",
    "reg_lineal_lasso_cap_m2 = lm_lasso_cap_m2.fit(X_train_m2, y_train_m2)\n",
    "\n",
    "#Guardamos el score\n",
    "score_lasso_cap_m2 = reg_lineal_lasso_cap_m2.score(X_test_m2, y_test_m2)\n",
    "\n",
    "print('Score del modelo Lasso:', reg_lineal_lasso_cap_m2.score(X_test_m2, y_test_m2))"
   ]
  },
  {
   "cell_type": "code",
   "execution_count": 58,
   "metadata": {},
   "outputs": [
    {
     "name": "stdout",
     "output_type": "stream",
     "text": [
      "Score Lasso Precio:  0.5888192479365155\n",
      "Alpha Lasso Precio:  100.0\n",
      "Score Lasso m2:  0.6008380750304019\n",
      "Alpha Lasso m2:  0.1\n"
     ]
    }
   ],
   "source": [
    "print('Score Lasso Precio: ', score_lasso_cap_precio)\n",
    "print('Alpha Lasso Precio: ', reg_lineal_lasso_cap.alpha_)\n",
    "print('Score Lasso m2: ', score_lasso_cap_m2)\n",
    "print('Alpha Lasso m2: ', reg_lineal_lasso_cap_m2.alpha_)"
   ]
  },
  {
   "cell_type": "code",
   "execution_count": 59,
   "metadata": {},
   "outputs": [],
   "source": [
    "#Creamos un diccionario con la informacion para luego amar un dataframe y comparar los modelos\n",
    "\n",
    "lasso_capital_precio = {'Modelo': \"Regresion Lineal Lasso\",\n",
    "                        'Alcance del modelo': 'Capital Federal',\n",
    "                        'Variable Obejtivo': 'Precio_Dolares',\n",
    "                        'Cantidad de Observaciones': len(Cap_precio),\n",
    "                        'R2': score_lasso_cap_precio,\n",
    "                        'Intercepto': reg_lineal_lasso_cap.intercept_,\n",
    "                        'Alpha del modelo': reg_lineal_lasso_cap.alpha_}\n",
    "\n",
    "lasso_capital_m2 = {'Modelo': \"Regresion Lineal Lasso\",\n",
    "                    'Alcance del modelo': 'Capital Federal',\n",
    "                    'Variable Obejtivo': 'Precio_m2_Dls',\n",
    "                    'Cantidad de Observaciones': len(Cap_m2),\n",
    "                    'R2': score_lasso_cap_m2,\n",
    "                    'Intercepto': reg_lineal_lasso_cap_m2.intercept_,\n",
    "                    'Alpha del modelo': reg_lineal_lasso_cap_m2.alpha_}"
   ]
  },
  {
   "cell_type": "markdown",
   "metadata": {},
   "source": [
    "## Elastic Net para Capital"
   ]
  },
  {
   "cell_type": "code",
   "execution_count": 60,
   "metadata": {},
   "outputs": [
    {
     "name": "stdout",
     "output_type": "stream",
     "text": [
      "Score del modelo Elastic Net: 0.5888195288486628\n"
     ]
    }
   ],
   "source": [
    "#Instanciamos el modelo\n",
    "\n",
    "lm_elastic_net_cap =  linear_model.ElasticNetCV(l1_ratio= [.1, .5, .7, .9, .95, .99, 1],cv = 5)\n",
    "\n",
    "#Entrenamos el modelo\n",
    "elastic_net_cap = lm_elastic_net_cap.fit(X_train, y_train)\n",
    "\n",
    "#Guardamos el score\n",
    "score_EN_cap_precio = elastic_net_cap.score(X_test, y_test)\n",
    "\n",
    "#Prediccion con el set de testeo\n",
    "\n",
    "print('Score del modelo Elastic Net:', elastic_net_cap.score(X_test, y_test))"
   ]
  },
  {
   "cell_type": "code",
   "execution_count": 61,
   "metadata": {},
   "outputs": [
    {
     "name": "stdout",
     "output_type": "stream",
     "text": [
      "Score del modelo Elastic Net: 0.4906324165719728\n"
     ]
    }
   ],
   "source": [
    "#Instanciamos el modelo\n",
    "\n",
    "lm_elastic_net_cap_m2 =  linear_model.ElasticNetCV(l1_ratio= [.1, .5, .7, .9, .95, .99, 1], alphas = [10, 100, 10],cv = 5)\n",
    "\n",
    "#Entrenamos el modelo\n",
    "elastic_net_cap_m2 = lm_elastic_net_cap_m2.fit(X_train_cap_m2, y_train_cap_m2)\n",
    "\n",
    "#Guardamos el score\n",
    "score_EN_cap_m2 = elastic_net_cap_m2.score(X_test_cap_m2, y_test_cap_m2)\n",
    "\n",
    "#Prediccion con el set de testeo\n",
    "\n",
    "print('Score del modelo Elastic Net:', elastic_net_cap_m2.score(X_test_cap_m2, y_test_cap_m2))"
   ]
  },
  {
   "cell_type": "code",
   "execution_count": 62,
   "metadata": {},
   "outputs": [
    {
     "name": "stdout",
     "output_type": "stream",
     "text": [
      "Score Elastic Net Precio:  0.5888195288486628\n",
      "Alpha Elastic Net Precio:  100.63285565757714\n",
      "l1_ratio Elastic Net Precio:  1.0\n",
      "Score Elastic Net m2:  0.4906324165719728\n",
      "Alpha Elastic Net m2:  10\n",
      "l1_ratio Elastic Net m2:  1.0\n"
     ]
    }
   ],
   "source": [
    "print('Score Elastic Net Precio: ', score_EN_cap_precio)\n",
    "print('Alpha Elastic Net Precio: ', elastic_net_cap.alpha_)\n",
    "print('l1_ratio Elastic Net Precio: ', elastic_net_cap.l1_ratio_)\n",
    "print('Score Elastic Net m2: ', score_EN_cap_m2)\n",
    "print('Alpha Elastic Net m2: ', elastic_net_cap_m2.alpha_)\n",
    "print('l1_ratio Elastic Net m2: ', elastic_net_cap_m2.l1_ratio_)"
   ]
  },
  {
   "cell_type": "code",
   "execution_count": 63,
   "metadata": {},
   "outputs": [],
   "source": [
    "#Creamos un diccionario para luego mostrar los datos en un dataframe\n",
    "\n",
    "EN_capital_precio = {'Modelo': \"Elastic Net\",\n",
    "                        'Alcance del modelo': 'Capital Federal',\n",
    "                        'Variable Obejtivo': 'Precio_Dolares',\n",
    "                        'Cantidad de Observaciones': len(Cap_precio),\n",
    "                        'R2': score_EN_cap_precio,\n",
    "                        'Intercepto': elastic_net_cap.intercept_,\n",
    "                        'Alpha del modelo': elastic_net_cap.alpha_,\n",
    "                        'l1_ratio': elastic_net_cap.l1_ratio_}\n",
    "\n",
    "EN_capital_m2 = {'Modelo': \"Elastic Net\",\n",
    "                    'Alcance del modelo': 'Capital Federal',                      \n",
    "                    'Variable Obejtivo': 'Precio_m2_Dls',\n",
    "                    'Cantidad de Observaciones': len(Cap_m2),\n",
    "                    'R2': score_EN_cap_m2,\n",
    "                    'Intercepto': elastic_net_cap_m2.intercept_,\n",
    "                    'Alpha del modelo': elastic_net_cap_m2.alpha_,\n",
    "                    'l1_ratio': elastic_net_cap_m2.l1_ratio_}"
   ]
  },
  {
   "cell_type": "markdown",
   "metadata": {},
   "source": [
    "## Modelos para Zona Norte"
   ]
  },
  {
   "cell_type": "code",
   "execution_count": 64,
   "metadata": {},
   "outputs": [],
   "source": [
    "df_zona_norte = df.loc[df['Provincia']=='Bs.As. G.B.A. Zona Norte']\n",
    "\n",
    "zona_norte_precio = df_zona_norte.drop(['Precio', 'Precio_ARS','Precio_m2_Dls', 'Precio_m2'], axis = 1)\n",
    "\n",
    "zona_norte_m2 = df_zona_norte.drop(['Precio', 'Precio_Dolares','Precio_m2', 'Precio_ARS'], axis = 1)\n",
    "\n",
    "zona_norte_precio = zona_norte_precio.dropna(axis =0 , how = 'any')\n",
    "zona_norte_m2 = zona_norte_m2.dropna(axis =0 , how = 'any')\n",
    "\n",
    "#Creamos variables dummies de las variables categoricas\n",
    "\n",
    "#Barrio\n",
    "zona_norte_precio = pd.concat([zona_norte_precio, pd.get_dummies(data = zona_norte_precio['Barrio'], prefix= 'barrio')], axis =1)\n",
    "zona_norte_m2 = pd.concat([zona_norte_m2, pd.get_dummies(data = zona_norte_m2['Barrio'], prefix= 'barrio')], axis = 1)\n",
    "\n",
    "#Tipo Propiedad\n",
    "zona_norte_precio = pd.concat([zona_norte_precio, pd.get_dummies(data = zona_norte_precio['Tipo_Propiedad'], prefix= 'tipo_prop')], axis =1)\n",
    "zona_norte_m2 = pd.concat([zona_norte_m2, pd.get_dummies(data = zona_norte_m2['Tipo_Propiedad'], prefix= 'tipo_prop')], axis = 1)\n",
    "\n",
    "#Dropeo de las columnas originales\n",
    "zona_norte_precio = zona_norte_precio.drop(['Provincia','Barrio','Tipo_Propiedad'], axis = 1)\n",
    "zona_norte_m2 = zona_norte_m2.drop(['Provincia','Barrio','Tipo_Propiedad'], axis = 1)\n",
    "\n",
    "#Separamos nuestra matriz de features\n",
    "\n",
    "X_zona_norte = zona_norte_precio.drop(['Precio_Dolares'], axis = 1)\n",
    "y_zona_norte = zona_norte_precio['Precio_Dolares']\n"
   ]
  },
  {
   "cell_type": "markdown",
   "metadata": {},
   "source": [
    "### Regresión Lineal para Zona Norte"
   ]
  },
  {
   "cell_type": "code",
   "execution_count": 65,
   "metadata": {},
   "outputs": [],
   "source": [
    "#Separamos en train y test\n",
    "X_train, X_test, y_train, y_test = train_test_split(X_zona_norte, y_zona_norte, test_size=0.25, random_state=99)"
   ]
  },
  {
   "cell_type": "code",
   "execution_count": 66,
   "metadata": {},
   "outputs": [
    {
     "name": "stdout",
     "output_type": "stream",
     "text": [
      "Score del Regresion Lineal: 0.6484714167050782\n"
     ]
    }
   ],
   "source": [
    "#Instanciamos el modelo\n",
    "\n",
    "lm_zona_norte = linear_model.LinearRegression()\n",
    "\n",
    "#Entrenamos el modelo\n",
    "reg_lineal_zona_norte = lm_zona_norte.fit(X_train, y_train)\n",
    "\n",
    "#Guardamos el score del modelo en una variable para poder comparar\n",
    "R2_reg_lin_precio_zona_norte = reg_lineal_zona_norte.score(X_test, y_test)\n",
    "\n",
    "#Prediccion con el set de testeo\n",
    "\n",
    "print('Score del Regresion Lineal:', reg_lineal_zona_norte.score(X_test, y_test))"
   ]
  },
  {
   "cell_type": "markdown",
   "metadata": {},
   "source": [
    "#### Como predice el modelo para el precio por metro cuadrado?"
   ]
  },
  {
   "cell_type": "code",
   "execution_count": 67,
   "metadata": {},
   "outputs": [],
   "source": [
    "#Separamos nuestra matriz de features\n",
    "\n",
    "X_zona_norte_m2 = zona_norte_m2.drop(['Precio_m2_Dls'], axis = 1)\n",
    "y_zona_norte_m2 = zona_norte_m2['Precio_m2_Dls']\n",
    "\n",
    "#Separamos en train y test\n",
    "X_train_m2, X_test_m2, y_train_m2, y_test_m2 = train_test_split(X_zona_norte_m2, y_zona_norte_m2, test_size=0.25, random_state=99)"
   ]
  },
  {
   "cell_type": "code",
   "execution_count": 68,
   "metadata": {},
   "outputs": [
    {
     "name": "stdout",
     "output_type": "stream",
     "text": [
      "Score del Regresion Lineal: 0.5905925819791575\n"
     ]
    }
   ],
   "source": [
    "#Instanciamos el modelo\n",
    "\n",
    "lm_zona_norte_m2 = linear_model.LinearRegression()\n",
    "\n",
    "#Entrenamos el modelo\n",
    "reg_lineal_zona_norte_m2 = lm_zona_norte_m2.fit(X_train_m2, y_train_m2)\n",
    "\n",
    "#Guardamos el score del modelo en una variable para poder comparar\n",
    "R2_reg_lin_m2_zona_norte = reg_lineal_zona_norte_m2.score(X_test_m2, y_test_m2)\n",
    "\n",
    "#Prediccion con el set de testeo\n",
    "\n",
    "print('Score del Regresion Lineal:', reg_lineal_zona_norte_m2.score(X_test_m2, y_test_m2))"
   ]
  },
  {
   "cell_type": "code",
   "execution_count": 69,
   "metadata": {},
   "outputs": [],
   "source": [
    "#Creamos un diccionario con la informacion para luego amar un dataframe y comparar los modelos\n",
    "\n",
    "rl_zona_norte_precio = {'Modelo': \"Regresion Lineal\",\n",
    "                        'Alcance del modelo': 'Zona Norte',\n",
    "                        'Variable Obejtivo': 'Precio_Dolares',\n",
    "                        'Cantidad de Observaciones': len(zona_norte_precio),\n",
    "                        'R2': R2_reg_lin_precio_zona_norte,\n",
    "                        'Intercepto': reg_lineal_zona_norte.intercept_}\n",
    "\n",
    "rl_zona_norte_m2 = {'Modelo': \"Regresion Lineal\",\n",
    "                    'Alcance del modelo': 'Zona Norte',\n",
    "                    'Variable Obejtivo': 'Precio_m2_Dls',\n",
    "                    'Cantidad de Observaciones': len(zona_norte_m2),\n",
    "                    'R2': R2_reg_lin_m2_zona_norte,\n",
    "                    'Intercepto': reg_lineal_zona_norte_m2.intercept_}"
   ]
  },
  {
   "cell_type": "markdown",
   "metadata": {},
   "source": [
    "## Modelos para Zonas Geograficas especificas"
   ]
  },
  {
   "cell_type": "markdown",
   "metadata": {},
   "source": [
    "Por ultimo vamos a intentar predecir nuestras variables objetivo para las distintas zonas geograficas en las que podemos segmentas el pais (NOA, NEA, Patagonia y Cuyo). Debido a las pocas observaciones de algunas provincias, no es factible reducir el analisis a un scope por Provincia individual."
   ]
  },
  {
   "cell_type": "code",
   "execution_count": 70,
   "metadata": {},
   "outputs": [],
   "source": [
    "# Armamos los dataframes por region\n",
    "\n",
    "df_NOA = df.loc[df['Provincia'].isin(['Salta','Jujuy','Catamarca','Santiago Del Estero','Tucumán'])]\n",
    "df_NEA = df.loc[df['Provincia'].isin(['Formosa','Chaco','Corrientes','Misiones'])]\n",
    "df_Cuyo = df.loc[df['Provincia'].isin(['Mendoza','San Juan','San Luis','La Rioja'])]\n",
    "df_Patagonia = df.loc[df['Provincia'].isin(['La Pampa','Neuquén','Río Negro','Chubut','Santa Cruz','Tierra Del Fuego'])]"
   ]
  },
  {
   "cell_type": "markdown",
   "metadata": {},
   "source": [
    "## NOA"
   ]
  },
  {
   "cell_type": "code",
   "execution_count": 71,
   "metadata": {},
   "outputs": [],
   "source": [
    "# Creamos los dataframe de precio y precio_m2\n",
    "NOA_precio = df_NOA.drop(['Precio', 'Precio_ARS','Precio_m2_Dls', 'Precio_m2'], axis = 1)\n",
    "\n",
    "NOA_m2 = df_NOA.drop(['Precio', 'Precio_Dolares','Precio_m2', 'Precio_ARS'], axis = 1)\n",
    "\n",
    "NOA_precio = NOA_precio.dropna(axis =0 , how = 'any')\n",
    "NOA_m2 = NOA_m2.dropna(axis =0 , how = 'any')\n",
    "\n",
    "#Creamos variables dummies de las variables categoricas\n",
    "\n",
    "#Provincia\n",
    "NOA_precio = pd.concat([NOA_precio, pd.get_dummies(data = NOA_precio['Provincia'], prefix= 'prov')], axis =1)\n",
    "NOA_m2 = pd.concat([NOA_m2, pd.get_dummies(data = NOA_m2['Provincia'], prefix= 'prov')], axis = 1)\n",
    "\n",
    "#Barrio\n",
    "NOA_precio = pd.concat([NOA_precio, pd.get_dummies(data = NOA_precio['Barrio'], prefix= 'barrio')], axis =1)\n",
    "NOA_m2 = pd.concat([NOA_m2, pd.get_dummies(data = NOA_m2['Barrio'], prefix= 'barrio')], axis = 1)\n",
    "\n",
    "#Tipo Propiedad\n",
    "NOA_precio = pd.concat([NOA_precio, pd.get_dummies(data = NOA_precio['Tipo_Propiedad'], prefix= 'tipo_prop')], axis =1)\n",
    "NOA_m2 = pd.concat([NOA_m2, pd.get_dummies(data = NOA_m2['Tipo_Propiedad'], prefix= 'tipo_prop')], axis = 1)\n",
    "\n",
    "#Dropeo de las columnas originales\n",
    "NOA_precio = NOA_precio.drop(['Provincia','Barrio','Tipo_Propiedad'], axis = 1)\n",
    "NOA_m2 = NOA_m2.drop(['Provincia','Barrio','Tipo_Propiedad'], axis = 1)"
   ]
  },
  {
   "cell_type": "code",
   "execution_count": 72,
   "metadata": {},
   "outputs": [],
   "source": [
    "#Separamos nuestra matriz de features\n",
    "\n",
    "X_NOA = NOA_precio.drop(['Precio_Dolares'], axis = 1)\n",
    "y_NOA = NOA_precio['Precio_Dolares']"
   ]
  },
  {
   "cell_type": "code",
   "execution_count": 73,
   "metadata": {},
   "outputs": [],
   "source": [
    "#Separamos en train y test\n",
    "X_train_NOA, X_test_NOA, y_train_NOA, y_test_NOA = train_test_split(X_NOA, y_NOA, test_size=0.25, random_state=1)"
   ]
  },
  {
   "cell_type": "code",
   "execution_count": 74,
   "metadata": {},
   "outputs": [
    {
     "name": "stdout",
     "output_type": "stream",
     "text": [
      "Score del Regresion Lineal: 0.3810446297986584\n"
     ]
    }
   ],
   "source": [
    "#Instanciamos el modelo\n",
    "\n",
    "lm_NOA = linear_model.LinearRegression()\n",
    "\n",
    "#Entrenamos el modelo\n",
    "reg_lineal_NOA = lm_NOA.fit(X_train_NOA, y_train_NOA)\n",
    "\n",
    "#Guardamos el score del modelo en una variable para poder comparar\n",
    "R2_reg_lin_precio_NOA = reg_lineal_NOA.score(X_test_NOA, y_test_NOA)\n",
    "\n",
    "#Prediccion con el set de testeo\n",
    "\n",
    "print('Score del Regresion Lineal:', reg_lineal_NOA.score(X_test_NOA, y_test_NOA))"
   ]
  },
  {
   "cell_type": "markdown",
   "metadata": {},
   "source": [
    "#### Como predice el modelo para el m2?"
   ]
  },
  {
   "cell_type": "code",
   "execution_count": 75,
   "metadata": {},
   "outputs": [],
   "source": [
    "#Separamos nuestra matriz de features\n",
    "\n",
    "X_NOA_m2 = NOA_m2.drop(['Precio_m2_Dls'], axis = 1)\n",
    "y_NOA_m2 = NOA_m2['Precio_m2_Dls']"
   ]
  },
  {
   "cell_type": "code",
   "execution_count": 76,
   "metadata": {},
   "outputs": [],
   "source": [
    "#Separamos en train y test\n",
    "X_train_NOA_m2, X_test_NOA_m2, y_train_NOA_m2, y_test_NOA_m2 = train_test_split(X_NOA_m2, y_NOA_m2, test_size=0.25, random_state=1)"
   ]
  },
  {
   "cell_type": "code",
   "execution_count": 77,
   "metadata": {},
   "outputs": [
    {
     "name": "stdout",
     "output_type": "stream",
     "text": [
      "Score del Regresion Lineal: 0.01138230180119959\n"
     ]
    }
   ],
   "source": [
    "#Instanciamos el modelo\n",
    "\n",
    "lm_NOA_m2 = linear_model.LinearRegression()\n",
    "\n",
    "#Entrenamos el modelo\n",
    "reg_lineal_NOA_m2 = lm_NOA_m2.fit(X_train_NOA_m2, y_train_NOA_m2)\n",
    "\n",
    "#Guardamos el score del modelo en una variable para poder comparar\n",
    "R2_reg_lin_m2_NOA = reg_lineal_NOA_m2.score(X_test_NOA_m2, y_test_NOA_m2)\n",
    "\n",
    "#Prediccion con el set de testeo\n",
    "\n",
    "print('Score del Regresion Lineal:', reg_lineal_NOA_m2.score(X_test_NOA_m2, y_test_NOA_m2))"
   ]
  },
  {
   "cell_type": "code",
   "execution_count": 78,
   "metadata": {},
   "outputs": [],
   "source": [
    "#Creamos un diccionario con la informacion para luego amar un dataframe y comparar los modelos\n",
    "\n",
    "rl_NOA_precio = {'Modelo': \"Regresion Lineal\",\n",
    "                        'Alcance del modelo': 'NOA',\n",
    "                        'Variable Obejtivo': 'Precio_Dolares',\n",
    "                        'Cantidad de Observaciones': len(NOA_precio),\n",
    "                        'R2': R2_reg_lin_precio_NOA,\n",
    "                        'Intercepto': reg_lineal_NOA.intercept_}\n",
    "\n",
    "rl_NOA_m2 = {'Modelo': \"Regresion Lineal\",\n",
    "                    'Alcance del modelo': 'NOA',\n",
    "                    'Variable Obejtivo': 'Precio_m2_Dls',\n",
    "                    'Cantidad de Observaciones': len(NOA_precio),\n",
    "                    'R2': R2_reg_lin_m2_NOA,\n",
    "                    'Intercepto': reg_lineal_NOA_m2.intercept_}"
   ]
  },
  {
   "cell_type": "markdown",
   "metadata": {},
   "source": [
    "## NEA"
   ]
  },
  {
   "cell_type": "code",
   "execution_count": 79,
   "metadata": {},
   "outputs": [],
   "source": [
    "# Creamos los dataframe de precio y precio_m2\n",
    "NEA_precio = df_NEA.drop(['Precio', 'Precio_ARS','Precio_m2_Dls', 'Precio_m2'], axis = 1)\n",
    "\n",
    "NEA_m2 = df_NEA.drop(['Precio', 'Precio_Dolares','Precio_m2', 'Precio_ARS'], axis = 1)\n",
    "\n",
    "NEA_precio = NEA_precio.dropna(axis =0 , how = 'any')\n",
    "NEA_m2 = NEA_m2.dropna(axis =0 , how = 'any')\n",
    "\n",
    "#Creamos variables dummies de las variables categoricas\n",
    "\n",
    "#Provincia\n",
    "NEA_precio = pd.concat([NEA_precio, pd.get_dummies(data = NEA_precio['Provincia'], prefix= 'prov')], axis =1)\n",
    "NEA_m2 = pd.concat([NEA_m2, pd.get_dummies(data = NEA_m2['Provincia'], prefix= 'prov')], axis = 1)\n",
    "\n",
    "#Barrio\n",
    "NEA_precio = pd.concat([NEA_precio, pd.get_dummies(data = NEA_precio['Barrio'], prefix= 'barrio')], axis =1)\n",
    "NEA_m2 = pd.concat([NEA_m2, pd.get_dummies(data = NEA_m2['Barrio'], prefix= 'barrio')], axis = 1)\n",
    "\n",
    "#Tipo Propiedad\n",
    "NEA_precio = pd.concat([NEA_precio, pd.get_dummies(data = NEA_precio['Tipo_Propiedad'], prefix= 'tipo_prop')], axis =1)\n",
    "NEA_m2 = pd.concat([NEA_m2, pd.get_dummies(data = NEA_m2['Tipo_Propiedad'], prefix= 'tipo_prop')], axis = 1)\n",
    "\n",
    "#Dropeo de las columnas originales\n",
    "NEA_precio = NEA_precio.drop(['Provincia','Barrio','Tipo_Propiedad'], axis = 1)\n",
    "NEA_m2 = NEA_m2.drop(['Provincia','Barrio','Tipo_Propiedad'], axis = 1)\n"
   ]
  },
  {
   "cell_type": "code",
   "execution_count": 80,
   "metadata": {},
   "outputs": [],
   "source": [
    "#Separamos nuestra matriz de features\n",
    "\n",
    "X_NEA = NEA_precio.drop(['Precio_Dolares'], axis = 1)\n",
    "y_NEA = NEA_precio['Precio_Dolares']"
   ]
  },
  {
   "cell_type": "code",
   "execution_count": 81,
   "metadata": {},
   "outputs": [],
   "source": [
    "#Separamos en train y test\n",
    "X_train_NEA, X_test_NEA, y_train_NEA, y_test_NEA = train_test_split(X_NEA, y_NEA, test_size=0.25, random_state=1)"
   ]
  },
  {
   "cell_type": "code",
   "execution_count": 82,
   "metadata": {},
   "outputs": [
    {
     "name": "stdout",
     "output_type": "stream",
     "text": [
      "Score del Regresion Lineal: 0.5536738219795687\n"
     ]
    }
   ],
   "source": [
    "#Instanciamos el modelo\n",
    "\n",
    "lm_NEA = linear_model.LinearRegression()\n",
    "\n",
    "#Entrenamos el modelo\n",
    "reg_lineal_NEA = lm_NEA.fit(X_train_NEA, y_train_NEA)\n",
    "\n",
    "#Guardamos el score del modelo en una variable para poder comparar\n",
    "R2_reg_lin_precio_NEA = reg_lineal_NEA.score(X_test_NEA, y_test_NEA)\n",
    "\n",
    "#Prediccion con el set de testeo\n",
    "\n",
    "print('Score del Regresion Lineal:', reg_lineal_NEA.score(X_test_NEA, y_test_NEA))\n"
   ]
  },
  {
   "cell_type": "markdown",
   "metadata": {},
   "source": [
    "#### Como predice el modelo para el m2?"
   ]
  },
  {
   "cell_type": "code",
   "execution_count": 83,
   "metadata": {},
   "outputs": [],
   "source": [
    "#Separamos nuestra matriz de features\n",
    "\n",
    "X_NEA_m2 = NEA_m2.drop(['Precio_m2_Dls'], axis = 1)\n",
    "y_NEA_m2 = NEA_m2['Precio_m2_Dls']"
   ]
  },
  {
   "cell_type": "code",
   "execution_count": 84,
   "metadata": {},
   "outputs": [],
   "source": [
    "#Separamos en train y test\n",
    "X_train_NEA_m2, X_test_NEA_m2, y_train_NEA_m2, y_test_NEA_m2 = train_test_split(X_NEA_m2, y_NEA_m2, test_size=0.25, random_state=1)"
   ]
  },
  {
   "cell_type": "code",
   "execution_count": 85,
   "metadata": {},
   "outputs": [
    {
     "name": "stdout",
     "output_type": "stream",
     "text": [
      "Score del Regresion Lineal: 0.6367650017727342\n"
     ]
    }
   ],
   "source": [
    "#Instanciamos el modelo\n",
    "\n",
    "lm_NEA_m2 = linear_model.LinearRegression()\n",
    "\n",
    "#Entrenamos el modelo\n",
    "reg_lineal_NEA_m2 = lm_NEA_m2.fit(X_train_NEA_m2, y_train_NEA_m2)\n",
    "\n",
    "#Guardamos el score del modelo en una variable para poder comparar\n",
    "R2_reg_lin_m2_NEA = reg_lineal_NEA_m2.score(X_test_NEA_m2, y_test_NEA_m2)\n",
    "\n",
    "#Prediccion con el set de testeo\n",
    "\n",
    "print('Score del Regresion Lineal:', reg_lineal_NEA_m2.score(X_test_NEA_m2, y_test_NEA_m2))"
   ]
  },
  {
   "cell_type": "code",
   "execution_count": 86,
   "metadata": {},
   "outputs": [],
   "source": [
    "#Creamos un diccionario con la informacion para luego amar un dataframe y comparar los modelos\n",
    "\n",
    "rl_NEA_precio = {'Modelo': \"Regresion Lineal\",\n",
    "                        'Alcance del modelo': 'NEA',\n",
    "                        'Variable Obejtivo': 'Precio_Dolares',\n",
    "                        'Cantidad de Observaciones': len(NEA_precio),\n",
    "                        'R2': R2_reg_lin_precio_NEA,\n",
    "                        'Intercepto': reg_lineal_NEA.intercept_}\n",
    "\n",
    "rl_NEA_m2 = {'Modelo': \"Regresion Lineal\",\n",
    "                    'Alcance del modelo': 'NEA',\n",
    "                    'Variable Obejtivo': 'Precio_m2_Dls',\n",
    "                    'Cantidad de Observaciones': len(NEA_m2),\n",
    "                    'R2': R2_reg_lin_m2_NEA,\n",
    "                    'Intercepto': reg_lineal_NEA_m2.intercept_}"
   ]
  },
  {
   "cell_type": "markdown",
   "metadata": {},
   "source": [
    "## CUYO"
   ]
  },
  {
   "cell_type": "code",
   "execution_count": 87,
   "metadata": {},
   "outputs": [],
   "source": [
    "# Creamos los dataframe de precio y precio_m2\n",
    "Cuyo_precio = df_Cuyo.drop(['Precio', 'Precio_ARS','Precio_m2_Dls', 'Precio_m2'], axis = 1)\n",
    "\n",
    "Cuyo_m2 = df_Cuyo.drop(['Precio', 'Precio_Dolares','Precio_m2', 'Precio_ARS'], axis = 1)\n",
    "\n",
    "Cuyo_precio = Cuyo_precio.dropna(axis =0 , how = 'any')\n",
    "Cuyo_m2 = Cuyo_m2.dropna(axis =0 , how = 'any')\n",
    "\n",
    "#Creamos variables dummies de las variables categoricas\n",
    "\n",
    "#Provincia\n",
    "Cuyo_precio = pd.concat([Cuyo_precio, pd.get_dummies(data = Cuyo_precio['Provincia'], prefix= 'prov')], axis =1)\n",
    "Cuyo_m2 = pd.concat([Cuyo_m2, pd.get_dummies(data = Cuyo_m2['Provincia'], prefix= 'prov')], axis = 1)\n",
    "\n",
    "#Barrio\n",
    "Cuyo_precio = pd.concat([Cuyo_precio, pd.get_dummies(data = Cuyo_precio['Barrio'], prefix= 'barrio')], axis =1)\n",
    "Cuyo_m2 = pd.concat([Cuyo_m2, pd.get_dummies(data = Cuyo_m2['Barrio'], prefix= 'barrio')], axis = 1)\n",
    "\n",
    "#Tipo Propiedad\n",
    "Cuyo_precio = pd.concat([Cuyo_precio, pd.get_dummies(data = Cuyo_precio['Tipo_Propiedad'], prefix= 'tipo_prop')], axis =1)\n",
    "Cuyo_m2 = pd.concat([Cuyo_m2, pd.get_dummies(data = Cuyo_m2['Tipo_Propiedad'], prefix= 'tipo_prop')], axis = 1)\n",
    "\n",
    "#Dropeo de las columnas originales\n",
    "Cuyo_precio = Cuyo_precio.drop(['Provincia','Barrio','Tipo_Propiedad'], axis = 1)\n",
    "Cuyo_m2 = Cuyo_m2.drop(['Provincia','Barrio','Tipo_Propiedad'], axis = 1)"
   ]
  },
  {
   "cell_type": "code",
   "execution_count": 88,
   "metadata": {},
   "outputs": [],
   "source": [
    "#Separamos nuestra matriz de features\n",
    "\n",
    "X_Cuyo = Cuyo_precio.drop(['Precio_Dolares'], axis = 1)\n",
    "y_Cuyo = Cuyo_precio['Precio_Dolares']"
   ]
  },
  {
   "cell_type": "code",
   "execution_count": 89,
   "metadata": {},
   "outputs": [],
   "source": [
    "#Separamos en train y test\n",
    "X_train_Cuyo, X_test_Cuyo, y_train_Cuyo, y_test_Cuyo = train_test_split(X_Cuyo, y_Cuyo, test_size=0.25, random_state=1)"
   ]
  },
  {
   "cell_type": "code",
   "execution_count": 90,
   "metadata": {},
   "outputs": [
    {
     "name": "stdout",
     "output_type": "stream",
     "text": [
      "Score del Regresion Lineal: 0.5707866187024178\n"
     ]
    }
   ],
   "source": [
    "#Instanciamos el modelo\n",
    "\n",
    "lm_Cuyo = linear_model.LinearRegression()\n",
    "\n",
    "#Entrenamos el modelo\n",
    "reg_lineal_Cuyo = lm_Cuyo.fit(X_train_Cuyo, y_train_Cuyo)\n",
    "\n",
    "#Guardamos el score del modelo en una variable para poder comparar\n",
    "R2_reg_lin_precio_Cuyo = reg_lineal_Cuyo.score(X_test_Cuyo, y_test_Cuyo)\n",
    "\n",
    "#Prediccion con el set de testeo\n",
    "\n",
    "print('Score del Regresion Lineal:', reg_lineal_Cuyo.score(X_test_Cuyo, y_test_Cuyo))"
   ]
  },
  {
   "cell_type": "markdown",
   "metadata": {},
   "source": [
    "#### Como predice el modelo para m2?"
   ]
  },
  {
   "cell_type": "code",
   "execution_count": 91,
   "metadata": {},
   "outputs": [],
   "source": [
    "#Separamos nuestra matriz de features\n",
    "\n",
    "X_Cuyo_m2 = Cuyo_m2.drop(['Precio_m2_Dls'], axis = 1)\n",
    "y_Cuyo_m2 = Cuyo_m2['Precio_m2_Dls']"
   ]
  },
  {
   "cell_type": "code",
   "execution_count": 92,
   "metadata": {},
   "outputs": [],
   "source": [
    "#Separamos en train y test\n",
    "X_train_Cuyo_m2, X_test_Cuyo_m2, y_train_Cuyo_m2, y_test_Cuyo_m2 = train_test_split(X_Cuyo_m2, y_Cuyo_m2, test_size=0.25, random_state=1)"
   ]
  },
  {
   "cell_type": "code",
   "execution_count": 93,
   "metadata": {},
   "outputs": [
    {
     "name": "stdout",
     "output_type": "stream",
     "text": [
      "Score del Regresion Lineal: 0.06744549661866273\n"
     ]
    }
   ],
   "source": [
    "#Instanciamos el modelo\n",
    "\n",
    "lm_Cuyo_m2 = linear_model.LinearRegression()\n",
    "\n",
    "#Entrenamos el modelo\n",
    "reg_lineal_Cuyo_m2 = lm_Cuyo_m2.fit(X_train_Cuyo_m2, y_train_Cuyo_m2)\n",
    "\n",
    "#Guardamos el score del modelo en una variable para poder comparar\n",
    "R2_reg_lin_m2_Cuyo = reg_lineal_Cuyo_m2.score(X_test_Cuyo_m2, y_test_Cuyo_m2)\n",
    "\n",
    "#Prediccion con el set de testeo\n",
    "\n",
    "print('Score del Regresion Lineal:', reg_lineal_Cuyo_m2.score(X_test_Cuyo_m2, y_test_Cuyo_m2))"
   ]
  },
  {
   "cell_type": "code",
   "execution_count": 94,
   "metadata": {},
   "outputs": [],
   "source": [
    "#Creamos un diccionario con la informacion para luego amar un dataframe y comparar los modelos\n",
    "\n",
    "rl_Cuyo_precio = {'Modelo': \"Regresion Lineal\",\n",
    "                        'Alcance del modelo': 'Cuyo',\n",
    "                        'Variable Obejtivo': 'Precio_Dolares',\n",
    "                        'Cantidad de Observaciones': len(Cuyo_precio),\n",
    "                        'R2': R2_reg_lin_precio_Cuyo,\n",
    "                        'Intercepto': reg_lineal_Cuyo.intercept_}\n",
    "\n",
    "rl_Cuyo_m2 = {'Modelo': \"Regresion Lineal\",\n",
    "                    'Alcance del modelo': 'Cuyo',\n",
    "                    'Variable Obejtivo': 'Precio_m2_Dls',\n",
    "                    'Cantidad de Observaciones': len(Cuyo_m2),\n",
    "                    'R2': R2_reg_lin_m2_Cuyo,\n",
    "                    'Intercepto': reg_lineal_Cuyo_m2.intercept_}"
   ]
  },
  {
   "cell_type": "markdown",
   "metadata": {},
   "source": [
    "## PATAGONIA"
   ]
  },
  {
   "cell_type": "code",
   "execution_count": 95,
   "metadata": {},
   "outputs": [],
   "source": [
    "# Creamos los dataframe de precio y precio_m2\n",
    "Patagonia_precio = df_Patagonia.drop(['Precio', 'Precio_ARS','Precio_m2_Dls', 'Precio_m2'], axis = 1)\n",
    "\n",
    "Patagonia_m2 = df_Patagonia.drop(['Precio', 'Precio_Dolares','Precio_m2', 'Precio_ARS'], axis = 1)\n",
    "\n",
    "Patagonia_precio = Patagonia_precio.dropna(axis =0 , how = 'any')\n",
    "Patagonia_m2 = Patagonia_m2.dropna(axis =0 , how = 'any')\n",
    "\n",
    "#Creamos variables dummies de las variables categoricas\n",
    "\n",
    "#Provincia\n",
    "Patagonia_precio = pd.concat([Patagonia_precio, pd.get_dummies(data = Patagonia_precio['Provincia'], prefix= 'prov')], axis =1)\n",
    "Patagonia_m2 = pd.concat([Patagonia_m2, pd.get_dummies(data = Patagonia_m2['Provincia'], prefix= 'prov')], axis = 1)\n",
    "\n",
    "#Barrio\n",
    "Patagonia_precio = pd.concat([Patagonia_precio, pd.get_dummies(data = Patagonia_precio['Barrio'], prefix= 'barrio')], axis =1)\n",
    "Patagonia_m2 = pd.concat([Patagonia_m2, pd.get_dummies(data = Patagonia_m2['Barrio'], prefix= 'barrio')], axis = 1)\n",
    "\n",
    "#Tipo Propiedad\n",
    "Patagonia_precio = pd.concat([Patagonia_precio, pd.get_dummies(data = Patagonia_precio['Tipo_Propiedad'], prefix= 'tipo_prop')], axis =1)\n",
    "Patagonia_m2 = pd.concat([Patagonia_m2, pd.get_dummies(data = Patagonia_m2['Tipo_Propiedad'], prefix= 'tipo_prop')], axis = 1)\n",
    "\n",
    "#Dropeo de las columnas originales\n",
    "Patagonia_precio = Patagonia_precio.drop(['Provincia','Barrio','Tipo_Propiedad'], axis = 1)\n",
    "Patagonia_m2 = Patagonia_m2.drop(['Provincia','Barrio','Tipo_Propiedad'], axis = 1)"
   ]
  },
  {
   "cell_type": "code",
   "execution_count": 96,
   "metadata": {},
   "outputs": [],
   "source": [
    "#Separamos nuestra matriz de features\n",
    "\n",
    "X_Patagonia = Patagonia_precio.drop(['Precio_Dolares'], axis = 1)\n",
    "y_Patagonia = Patagonia_precio['Precio_Dolares']"
   ]
  },
  {
   "cell_type": "code",
   "execution_count": 97,
   "metadata": {},
   "outputs": [],
   "source": [
    "#Separamos en train y test\n",
    "X_train_Patagonia, X_test_Patagonia, y_train_Patagonia, y_test_Patagonia = train_test_split(X_Patagonia, y_Patagonia, test_size=0.25, random_state=1)"
   ]
  },
  {
   "cell_type": "code",
   "execution_count": 98,
   "metadata": {},
   "outputs": [
    {
     "name": "stdout",
     "output_type": "stream",
     "text": [
      "Score del Regresion Lineal: 0.5061442160283882\n"
     ]
    }
   ],
   "source": [
    "#Instanciamos el modelo\n",
    "\n",
    "lm_Patagonia = linear_model.LinearRegression()\n",
    "\n",
    "#Entrenamos el modelo\n",
    "reg_lineal_Patagonia = lm_Patagonia.fit(X_train_Patagonia, y_train_Patagonia)\n",
    "\n",
    "#Guardamos el score del modelo en una variable para poder comparar\n",
    "R2_reg_lin_precio_Patagonia = reg_lineal_Patagonia.score(X_test_Patagonia, y_test_Patagonia)\n",
    "\n",
    "#Prediccion con el set de testeo\n",
    "\n",
    "print('Score del Regresion Lineal:', reg_lineal_Patagonia.score(X_test_Patagonia, y_test_Patagonia))"
   ]
  },
  {
   "cell_type": "markdown",
   "metadata": {},
   "source": [
    "#### Como predice el modelo para m2?"
   ]
  },
  {
   "cell_type": "code",
   "execution_count": 99,
   "metadata": {},
   "outputs": [],
   "source": [
    "#Separamos nuestra matriz de features\n",
    "\n",
    "X_Patagonia_m2 = Patagonia_m2.drop(['Precio_m2_Dls'], axis = 1)\n",
    "y_Patagonia_m2 = Patagonia_m2['Precio_m2_Dls']"
   ]
  },
  {
   "cell_type": "code",
   "execution_count": 100,
   "metadata": {},
   "outputs": [],
   "source": [
    "#Separamos en train y test\n",
    "X_train_Patagonia_m2, X_test_Patagonia_m2, y_train_Patagonia_m2, y_test_Patagonia_m2 = train_test_split(X_Patagonia_m2, y_Patagonia_m2, test_size=0.25, random_state=1)"
   ]
  },
  {
   "cell_type": "code",
   "execution_count": 101,
   "metadata": {},
   "outputs": [
    {
     "name": "stdout",
     "output_type": "stream",
     "text": [
      "Score del Regresion Lineal: 0.031377825986014574\n"
     ]
    }
   ],
   "source": [
    "#Instanciamos el modelo\n",
    "\n",
    "lm_Patagonia_m2 = linear_model.LinearRegression()\n",
    "\n",
    "#Entrenamos el modelo\n",
    "reg_lineal_Patagonia_m2 = lm_Patagonia_m2.fit(X_train_Patagonia_m2, y_train_Patagonia_m2)\n",
    "\n",
    "#Guardamos el score del modelo en una variable para poder comparar\n",
    "R2_reg_lin_m2_Patagonia = reg_lineal_Patagonia_m2.score(X_test_Patagonia_m2, y_test_Patagonia_m2)\n",
    "\n",
    "#Prediccion con el set de testeo\n",
    "\n",
    "print('Score del Regresion Lineal:', reg_lineal_Patagonia_m2.score(X_test_Patagonia_m2, y_test_Patagonia_m2))"
   ]
  },
  {
   "cell_type": "code",
   "execution_count": 102,
   "metadata": {},
   "outputs": [],
   "source": [
    "#Creamos un diccionario con la informacion para luego amar un dataframe y comparar los modelos\n",
    "\n",
    "rl_Patagonia_precio = {'Modelo': \"Regresion Lineal\",\n",
    "                        'Alcance del modelo': 'Patagonia',\n",
    "                        'Variable Obejtivo': 'Precio_Dolares',\n",
    "                        'Cantidad de Observaciones': len(Patagonia_precio),\n",
    "                        'R2': R2_reg_lin_precio_Patagonia,\n",
    "                        'Intercepto': reg_lineal_Patagonia.intercept_}\n",
    "\n",
    "rl_Patagonia_m2 = {'Modelo': \"Regresion Lineal\",\n",
    "                    'Alcance del modelo': 'Patagonia',\n",
    "                    'Variable Obejtivo': 'Precio_m2_Dls',\n",
    "                    'Cantidad de Observaciones': len(Patagonia_m2),\n",
    "                    'R2': R2_reg_lin_m2_Patagonia,\n",
    "                    'Intercepto': reg_lineal_Patagonia_m2.intercept_}"
   ]
  },
  {
   "cell_type": "markdown",
   "metadata": {},
   "source": [
    "## Comparacion de los distintos modelos"
   ]
  },
  {
   "cell_type": "markdown",
   "metadata": {},
   "source": [
    "Ahora que tenemos todos los resultados de cada modelo en diccionarios separados, vamos a juntarlos para tener todo en un unico dataframe y poder compararlos mas comodamente"
   ]
  },
  {
   "cell_type": "code",
   "execution_count": 103,
   "metadata": {},
   "outputs": [],
   "source": [
    "# Creamos una lista de todos los diccionarios\n",
    "diccionarios = [rl_argentina_precio,\n",
    "rl_argentina_m2,\n",
    "ridge_argentina_precio,\n",
    "ridge_argentina_m2,\n",
    "lasso_argentina_precio,\n",
    "lasso_argentina_m2,\n",
    "EN_argentina_precio,\n",
    "EN_argentina_m2,\n",
    "rl_capital_precio,\n",
    "rl_capital_m2,\n",
    "ridge_capital_precio,\n",
    "ridge_capital_m2,\n",
    "lasso_capital_precio,\n",
    "lasso_capital_m2,\n",
    "EN_capital_precio,\n",
    "EN_capital_m2,\n",
    "rl_zona_norte_precio,\n",
    "rl_zona_norte_m2,\n",
    "rl_NOA_precio,\n",
    "rl_NOA_m2,\n",
    "rl_NEA_precio,\n",
    "rl_NEA_m2,\n",
    "rl_Cuyo_precio,\n",
    "rl_Cuyo_m2,\n",
    "rl_Patagonia_precio,\n",
    "rl_Patagonia_m2]"
   ]
  },
  {
   "cell_type": "code",
   "execution_count": 110,
   "metadata": {},
   "outputs": [],
   "source": [
    "#Generamos el dataframe con la info\n",
    "df = pd.DataFrame(diccionarios)\n",
    "\n",
    "df = df.rename(columns={'Variable Obejtivo' : 'Variable Objetivo'})\n",
    "\n",
    "#Ordenamos las columnas para verlo mas comodamente\n",
    "df = df[['Modelo','Alcance del modelo','Variable Objetivo','Cantidad de Observaciones','R2','Intercepto','Alpha del modelo','l1_ratio']]"
   ]
  },
  {
   "cell_type": "code",
   "execution_count": 112,
   "metadata": {},
   "outputs": [
    {
     "data": {
      "text/html": [
       "<div>\n",
       "<style scoped>\n",
       "    .dataframe tbody tr th:only-of-type {\n",
       "        vertical-align: middle;\n",
       "    }\n",
       "\n",
       "    .dataframe tbody tr th {\n",
       "        vertical-align: top;\n",
       "    }\n",
       "\n",
       "    .dataframe thead th {\n",
       "        text-align: right;\n",
       "    }\n",
       "</style>\n",
       "<table border=\"1\" class=\"dataframe\">\n",
       "  <thead>\n",
       "    <tr style=\"text-align: right;\">\n",
       "      <th></th>\n",
       "      <th>Modelo</th>\n",
       "      <th>Alcance del modelo</th>\n",
       "      <th>Variable Objetivo</th>\n",
       "      <th>Cantidad de Observaciones</th>\n",
       "      <th>R2</th>\n",
       "      <th>Intercepto</th>\n",
       "      <th>Alpha del modelo</th>\n",
       "      <th>l1_ratio</th>\n",
       "    </tr>\n",
       "  </thead>\n",
       "  <tbody>\n",
       "    <tr>\n",
       "      <th>0</th>\n",
       "      <td>Regresion Lineal</td>\n",
       "      <td>Nacional</td>\n",
       "      <td>Precio_Dolares</td>\n",
       "      <td>65474</td>\n",
       "      <td>0.599241</td>\n",
       "      <td>10442.482462</td>\n",
       "      <td>NaN</td>\n",
       "      <td>NaN</td>\n",
       "    </tr>\n",
       "    <tr>\n",
       "      <th>1</th>\n",
       "      <td>Regresion Lineal</td>\n",
       "      <td>Nacional</td>\n",
       "      <td>Precio_m2_Dls</td>\n",
       "      <td>47501</td>\n",
       "      <td>0.598686</td>\n",
       "      <td>453.671820</td>\n",
       "      <td>NaN</td>\n",
       "      <td>NaN</td>\n",
       "    </tr>\n",
       "    <tr>\n",
       "      <th>2</th>\n",
       "      <td>Regresion Lineal Ridge</td>\n",
       "      <td>Nacional</td>\n",
       "      <td>Precio_Dolares</td>\n",
       "      <td>65474</td>\n",
       "      <td>0.598859</td>\n",
       "      <td>191657.772381</td>\n",
       "      <td>11.2</td>\n",
       "      <td>NaN</td>\n",
       "    </tr>\n",
       "    <tr>\n",
       "      <th>3</th>\n",
       "      <td>Regresion Lineal Ridge</td>\n",
       "      <td>Nacional</td>\n",
       "      <td>Precio_m2_Dls</td>\n",
       "      <td>47501</td>\n",
       "      <td>0.600775</td>\n",
       "      <td>1958.659124</td>\n",
       "      <td>100.0</td>\n",
       "      <td>NaN</td>\n",
       "    </tr>\n",
       "    <tr>\n",
       "      <th>4</th>\n",
       "      <td>Regresion Lineal Lasso</td>\n",
       "      <td>Nacional</td>\n",
       "      <td>Precio_Dolares</td>\n",
       "      <td>65474</td>\n",
       "      <td>0.599023</td>\n",
       "      <td>191657.772381</td>\n",
       "      <td>100.0</td>\n",
       "      <td>NaN</td>\n",
       "    </tr>\n",
       "  </tbody>\n",
       "</table>\n",
       "</div>"
      ],
      "text/plain": [
       "                   Modelo Alcance del modelo Variable Objetivo  \\\n",
       "0        Regresion Lineal           Nacional    Precio_Dolares   \n",
       "1        Regresion Lineal           Nacional     Precio_m2_Dls   \n",
       "2  Regresion Lineal Ridge           Nacional    Precio_Dolares   \n",
       "3  Regresion Lineal Ridge           Nacional     Precio_m2_Dls   \n",
       "4  Regresion Lineal Lasso           Nacional    Precio_Dolares   \n",
       "\n",
       "   Cantidad de Observaciones        R2     Intercepto  Alpha del modelo  \\\n",
       "0                      65474  0.599241   10442.482462               NaN   \n",
       "1                      47501  0.598686     453.671820               NaN   \n",
       "2                      65474  0.598859  191657.772381              11.2   \n",
       "3                      47501  0.600775    1958.659124             100.0   \n",
       "4                      65474  0.599023  191657.772381             100.0   \n",
       "\n",
       "   l1_ratio  \n",
       "0       NaN  \n",
       "1       NaN  \n",
       "2       NaN  \n",
       "3       NaN  \n",
       "4       NaN  "
      ]
     },
     "execution_count": 112,
     "metadata": {},
     "output_type": "execute_result"
    }
   ],
   "source": [
    "#Chequeamos que se haya generado correctamente\n",
    "df.head()"
   ]
  },
  {
   "cell_type": "code",
   "execution_count": 113,
   "metadata": {},
   "outputs": [],
   "source": [
    "#Pasamos los datos a un archivo para guardarlo\n",
    "\n",
    "df.to_csv(path_or_buf='C:/Users/Ramiro/Desktop/Digital House/Desafios/Desafio 2/Resultados.csv')"
   ]
  },
  {
   "cell_type": "code",
   "execution_count": null,
   "metadata": {},
   "outputs": [],
   "source": []
  }
 ],
 "metadata": {
  "kernelspec": {
   "display_name": "Python 3",
   "language": "python",
   "name": "python3"
  },
  "language_info": {
   "codemirror_mode": {
    "name": "ipython",
    "version": 3
   },
   "file_extension": ".py",
   "mimetype": "text/x-python",
   "name": "python",
   "nbconvert_exporter": "python",
   "pygments_lexer": "ipython3",
   "version": "3.7.0"
  }
 },
 "nbformat": 4,
 "nbformat_minor": 2
}
